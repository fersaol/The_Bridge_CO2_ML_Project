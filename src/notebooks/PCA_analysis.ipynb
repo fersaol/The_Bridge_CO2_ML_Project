{
 "cells": [
  {
   "cell_type": "code",
   "execution_count": 42,
   "metadata": {},
   "outputs": [],
   "source": [
    "import pandas as pd\n",
    "import numpy as np\n",
    "from sklearn.decomposition import PCA\n",
    "import plotly.express as px"
   ]
  },
  {
   "cell_type": "markdown",
   "metadata": {},
   "source": [
    "Cargamos los datos ya escalados:"
   ]
  },
  {
   "cell_type": "code",
   "execution_count": 43,
   "metadata": {},
   "outputs": [
    {
     "data": {
      "text/html": [
       "<div>\n",
       "<style scoped>\n",
       "    .dataframe tbody tr th:only-of-type {\n",
       "        vertical-align: middle;\n",
       "    }\n",
       "\n",
       "    .dataframe tbody tr th {\n",
       "        vertical-align: top;\n",
       "    }\n",
       "\n",
       "    .dataframe thead th {\n",
       "        text-align: right;\n",
       "    }\n",
       "</style>\n",
       "<table border=\"1\" class=\"dataframe\">\n",
       "  <thead>\n",
       "    <tr style=\"text-align: right;\">\n",
       "      <th></th>\n",
       "      <th>gdp</th>\n",
       "      <th>population</th>\n",
       "      <th>energy_production</th>\n",
       "      <th>energy_consumption</th>\n",
       "      <th>co2_emission</th>\n",
       "      <th>per_capita_production</th>\n",
       "      <th>energy_intensity_by_gdp</th>\n",
       "      <th>balance</th>\n",
       "      <th>eficiency</th>\n",
       "      <th>energy_dependecy</th>\n",
       "      <th>use_intensity_pc</th>\n",
       "      <th>co2_pc</th>\n",
       "      <th>Energy_type_coal</th>\n",
       "      <th>Energy_type_natural_gas</th>\n",
       "      <th>Energy_type_nuclear</th>\n",
       "      <th>Energy_type_petroleum_n_other_liquids</th>\n",
       "      <th>Energy_type_renewables_n_other</th>\n",
       "    </tr>\n",
       "  </thead>\n",
       "  <tbody>\n",
       "    <tr>\n",
       "      <th>0</th>\n",
       "      <td>-0.464369</td>\n",
       "      <td>-0.497205</td>\n",
       "      <td>-0.762928</td>\n",
       "      <td>-0.796767</td>\n",
       "      <td>-1.089275</td>\n",
       "      <td>0.007172</td>\n",
       "      <td>0.092487</td>\n",
       "      <td>-0.093147</td>\n",
       "      <td>-1.094163</td>\n",
       "      <td>-0.279813</td>\n",
       "      <td>-0.125788</td>\n",
       "      <td>-0.609601</td>\n",
       "      <td>0.0</td>\n",
       "      <td>0.0</td>\n",
       "      <td>0.0</td>\n",
       "      <td>0.0</td>\n",
       "      <td>1.0</td>\n",
       "    </tr>\n",
       "    <tr>\n",
       "      <th>1</th>\n",
       "      <td>-0.464369</td>\n",
       "      <td>-0.497205</td>\n",
       "      <td>1.371884</td>\n",
       "      <td>0.193666</td>\n",
       "      <td>-1.089275</td>\n",
       "      <td>0.007172</td>\n",
       "      <td>0.092487</td>\n",
       "      <td>1.415672</td>\n",
       "      <td>-1.094163</td>\n",
       "      <td>0.154807</td>\n",
       "      <td>-0.125788</td>\n",
       "      <td>-0.609601</td>\n",
       "      <td>0.0</td>\n",
       "      <td>0.0</td>\n",
       "      <td>0.0</td>\n",
       "      <td>1.0</td>\n",
       "      <td>0.0</td>\n",
       "    </tr>\n",
       "    <tr>\n",
       "      <th>2</th>\n",
       "      <td>-0.464369</td>\n",
       "      <td>-0.497205</td>\n",
       "      <td>-0.057938</td>\n",
       "      <td>-0.020843</td>\n",
       "      <td>-1.089275</td>\n",
       "      <td>0.007172</td>\n",
       "      <td>0.092487</td>\n",
       "      <td>-0.091399</td>\n",
       "      <td>-1.094163</td>\n",
       "      <td>-0.057550</td>\n",
       "      <td>-0.125788</td>\n",
       "      <td>-0.609601</td>\n",
       "      <td>0.0</td>\n",
       "      <td>1.0</td>\n",
       "      <td>0.0</td>\n",
       "      <td>0.0</td>\n",
       "      <td>0.0</td>\n",
       "    </tr>\n",
       "    <tr>\n",
       "      <th>3</th>\n",
       "      <td>-0.464369</td>\n",
       "      <td>-0.497205</td>\n",
       "      <td>-1.113044</td>\n",
       "      <td>-1.203952</td>\n",
       "      <td>-1.089275</td>\n",
       "      <td>0.007172</td>\n",
       "      <td>0.092487</td>\n",
       "      <td>-0.091399</td>\n",
       "      <td>-1.094163</td>\n",
       "      <td>-0.512453</td>\n",
       "      <td>-0.125788</td>\n",
       "      <td>-0.609601</td>\n",
       "      <td>1.0</td>\n",
       "      <td>0.0</td>\n",
       "      <td>0.0</td>\n",
       "      <td>0.0</td>\n",
       "      <td>0.0</td>\n",
       "    </tr>\n",
       "    <tr>\n",
       "      <th>4</th>\n",
       "      <td>-0.466362</td>\n",
       "      <td>-0.481889</td>\n",
       "      <td>-0.750570</td>\n",
       "      <td>-0.782897</td>\n",
       "      <td>-1.089275</td>\n",
       "      <td>0.052672</td>\n",
       "      <td>0.205185</td>\n",
       "      <td>-0.093147</td>\n",
       "      <td>-1.094163</td>\n",
       "      <td>-0.279813</td>\n",
       "      <td>-0.125788</td>\n",
       "      <td>-0.609601</td>\n",
       "      <td>0.0</td>\n",
       "      <td>0.0</td>\n",
       "      <td>0.0</td>\n",
       "      <td>0.0</td>\n",
       "      <td>1.0</td>\n",
       "    </tr>\n",
       "  </tbody>\n",
       "</table>\n",
       "</div>"
      ],
      "text/plain": [
       "        gdp  population  energy_production  energy_consumption  co2_emission  \\\n",
       "0 -0.464369   -0.497205          -0.762928           -0.796767     -1.089275   \n",
       "1 -0.464369   -0.497205           1.371884            0.193666     -1.089275   \n",
       "2 -0.464369   -0.497205          -0.057938           -0.020843     -1.089275   \n",
       "3 -0.464369   -0.497205          -1.113044           -1.203952     -1.089275   \n",
       "4 -0.466362   -0.481889          -0.750570           -0.782897     -1.089275   \n",
       "\n",
       "   per_capita_production  energy_intensity_by_gdp   balance  eficiency  \\\n",
       "0               0.007172                 0.092487 -0.093147  -1.094163   \n",
       "1               0.007172                 0.092487  1.415672  -1.094163   \n",
       "2               0.007172                 0.092487 -0.091399  -1.094163   \n",
       "3               0.007172                 0.092487 -0.091399  -1.094163   \n",
       "4               0.052672                 0.205185 -0.093147  -1.094163   \n",
       "\n",
       "   energy_dependecy  use_intensity_pc    co2_pc  Energy_type_coal  \\\n",
       "0         -0.279813         -0.125788 -0.609601               0.0   \n",
       "1          0.154807         -0.125788 -0.609601               0.0   \n",
       "2         -0.057550         -0.125788 -0.609601               0.0   \n",
       "3         -0.512453         -0.125788 -0.609601               1.0   \n",
       "4         -0.279813         -0.125788 -0.609601               0.0   \n",
       "\n",
       "   Energy_type_natural_gas  Energy_type_nuclear  \\\n",
       "0                      0.0                  0.0   \n",
       "1                      0.0                  0.0   \n",
       "2                      1.0                  0.0   \n",
       "3                      0.0                  0.0   \n",
       "4                      0.0                  0.0   \n",
       "\n",
       "   Energy_type_petroleum_n_other_liquids  Energy_type_renewables_n_other  \n",
       "0                                    0.0                             1.0  \n",
       "1                                    1.0                             0.0  \n",
       "2                                    0.0                             0.0  \n",
       "3                                    0.0                             0.0  \n",
       "4                                    0.0                             1.0  "
      ]
     },
     "execution_count": 43,
     "metadata": {},
     "output_type": "execute_result"
    }
   ],
   "source": [
    "df = pd.read_csv(\"/Users/fersaol/Library/CloudStorage/OneDrive-Personal/Documentos/MIS_COSAS_DE_THE_BRIDGE/Proyectos_Machine_Learning/co2_ml/src/data/processed/df_enc_trans_v1.csv\")\n",
    "df = df.drop(columns=[\"year\",\"country\"])\n",
    "df.head()"
   ]
  },
  {
   "cell_type": "code",
   "execution_count": 44,
   "metadata": {},
   "outputs": [],
   "source": [
    "pca = PCA() # cargamos el algoritmo\n",
    "pca.fit(df.values.T) # generamos los loading scores y los valores de varianza que cada componente principal tiene en cuenta o es capaz de explicar\n",
    "pca_data = pca.transform(df.values.T) # nos genera las coordenadas para graficar los pc basado en los loading scores y los datos escalados"
   ]
  },
  {
   "cell_type": "code",
   "execution_count": 45,
   "metadata": {},
   "outputs": [
    {
     "data": {
      "text/plain": [
       "(17, 17)"
      ]
     },
     "execution_count": 45,
     "metadata": {},
     "output_type": "execute_result"
    }
   ],
   "source": [
    "pca_data.shape"
   ]
  },
  {
   "cell_type": "code",
   "execution_count": 46,
   "metadata": {},
   "outputs": [
    {
     "data": {
      "application/vnd.plotly.v1+json": {
       "config": {
        "plotlyServerURL": "https://plot.ly"
       },
       "data": [
        {
         "alignmentgroup": "True",
         "hovertemplate": "Principal Component=%{x}<br>Percentage of Variation Explained=%{y}<extra></extra>",
         "legendgroup": "",
         "marker": {
          "color": "#636efa",
          "pattern": {
           "shape": ""
          }
         },
         "name": "",
         "offsetgroup": "",
         "orientation": "v",
         "showlegend": false,
         "textposition": "auto",
         "type": "bar",
         "x": [
          "PC1",
          "PC2",
          "PC3",
          "PC4",
          "PC5",
          "PC6",
          "PC7",
          "PC8",
          "PC9",
          "PC10",
          "PC11",
          "PC12",
          "PC13",
          "PC14",
          "PC15",
          "PC16",
          "PC17"
         ],
         "xaxis": "x",
         "y": [
          23.8,
          20.4,
          13.6,
          10.6,
          8.5,
          5.9,
          4.8,
          2.5,
          2.3,
          1.9,
          1.8,
          1.3,
          1,
          0.8,
          0.5,
          0.4,
          0
         ],
         "yaxis": "y"
        }
       ],
       "layout": {
        "barmode": "relative",
        "legend": {
         "tracegroupgap": 0
        },
        "template": {
         "data": {
          "bar": [
           {
            "error_x": {
             "color": "#2a3f5f"
            },
            "error_y": {
             "color": "#2a3f5f"
            },
            "marker": {
             "line": {
              "color": "#E5ECF6",
              "width": 0.5
             },
             "pattern": {
              "fillmode": "overlay",
              "size": 10,
              "solidity": 0.2
             }
            },
            "type": "bar"
           }
          ],
          "barpolar": [
           {
            "marker": {
             "line": {
              "color": "#E5ECF6",
              "width": 0.5
             },
             "pattern": {
              "fillmode": "overlay",
              "size": 10,
              "solidity": 0.2
             }
            },
            "type": "barpolar"
           }
          ],
          "carpet": [
           {
            "aaxis": {
             "endlinecolor": "#2a3f5f",
             "gridcolor": "white",
             "linecolor": "white",
             "minorgridcolor": "white",
             "startlinecolor": "#2a3f5f"
            },
            "baxis": {
             "endlinecolor": "#2a3f5f",
             "gridcolor": "white",
             "linecolor": "white",
             "minorgridcolor": "white",
             "startlinecolor": "#2a3f5f"
            },
            "type": "carpet"
           }
          ],
          "choropleth": [
           {
            "colorbar": {
             "outlinewidth": 0,
             "ticks": ""
            },
            "type": "choropleth"
           }
          ],
          "contour": [
           {
            "colorbar": {
             "outlinewidth": 0,
             "ticks": ""
            },
            "colorscale": [
             [
              0,
              "#0d0887"
             ],
             [
              0.1111111111111111,
              "#46039f"
             ],
             [
              0.2222222222222222,
              "#7201a8"
             ],
             [
              0.3333333333333333,
              "#9c179e"
             ],
             [
              0.4444444444444444,
              "#bd3786"
             ],
             [
              0.5555555555555556,
              "#d8576b"
             ],
             [
              0.6666666666666666,
              "#ed7953"
             ],
             [
              0.7777777777777778,
              "#fb9f3a"
             ],
             [
              0.8888888888888888,
              "#fdca26"
             ],
             [
              1,
              "#f0f921"
             ]
            ],
            "type": "contour"
           }
          ],
          "contourcarpet": [
           {
            "colorbar": {
             "outlinewidth": 0,
             "ticks": ""
            },
            "type": "contourcarpet"
           }
          ],
          "heatmap": [
           {
            "colorbar": {
             "outlinewidth": 0,
             "ticks": ""
            },
            "colorscale": [
             [
              0,
              "#0d0887"
             ],
             [
              0.1111111111111111,
              "#46039f"
             ],
             [
              0.2222222222222222,
              "#7201a8"
             ],
             [
              0.3333333333333333,
              "#9c179e"
             ],
             [
              0.4444444444444444,
              "#bd3786"
             ],
             [
              0.5555555555555556,
              "#d8576b"
             ],
             [
              0.6666666666666666,
              "#ed7953"
             ],
             [
              0.7777777777777778,
              "#fb9f3a"
             ],
             [
              0.8888888888888888,
              "#fdca26"
             ],
             [
              1,
              "#f0f921"
             ]
            ],
            "type": "heatmap"
           }
          ],
          "heatmapgl": [
           {
            "colorbar": {
             "outlinewidth": 0,
             "ticks": ""
            },
            "colorscale": [
             [
              0,
              "#0d0887"
             ],
             [
              0.1111111111111111,
              "#46039f"
             ],
             [
              0.2222222222222222,
              "#7201a8"
             ],
             [
              0.3333333333333333,
              "#9c179e"
             ],
             [
              0.4444444444444444,
              "#bd3786"
             ],
             [
              0.5555555555555556,
              "#d8576b"
             ],
             [
              0.6666666666666666,
              "#ed7953"
             ],
             [
              0.7777777777777778,
              "#fb9f3a"
             ],
             [
              0.8888888888888888,
              "#fdca26"
             ],
             [
              1,
              "#f0f921"
             ]
            ],
            "type": "heatmapgl"
           }
          ],
          "histogram": [
           {
            "marker": {
             "pattern": {
              "fillmode": "overlay",
              "size": 10,
              "solidity": 0.2
             }
            },
            "type": "histogram"
           }
          ],
          "histogram2d": [
           {
            "colorbar": {
             "outlinewidth": 0,
             "ticks": ""
            },
            "colorscale": [
             [
              0,
              "#0d0887"
             ],
             [
              0.1111111111111111,
              "#46039f"
             ],
             [
              0.2222222222222222,
              "#7201a8"
             ],
             [
              0.3333333333333333,
              "#9c179e"
             ],
             [
              0.4444444444444444,
              "#bd3786"
             ],
             [
              0.5555555555555556,
              "#d8576b"
             ],
             [
              0.6666666666666666,
              "#ed7953"
             ],
             [
              0.7777777777777778,
              "#fb9f3a"
             ],
             [
              0.8888888888888888,
              "#fdca26"
             ],
             [
              1,
              "#f0f921"
             ]
            ],
            "type": "histogram2d"
           }
          ],
          "histogram2dcontour": [
           {
            "colorbar": {
             "outlinewidth": 0,
             "ticks": ""
            },
            "colorscale": [
             [
              0,
              "#0d0887"
             ],
             [
              0.1111111111111111,
              "#46039f"
             ],
             [
              0.2222222222222222,
              "#7201a8"
             ],
             [
              0.3333333333333333,
              "#9c179e"
             ],
             [
              0.4444444444444444,
              "#bd3786"
             ],
             [
              0.5555555555555556,
              "#d8576b"
             ],
             [
              0.6666666666666666,
              "#ed7953"
             ],
             [
              0.7777777777777778,
              "#fb9f3a"
             ],
             [
              0.8888888888888888,
              "#fdca26"
             ],
             [
              1,
              "#f0f921"
             ]
            ],
            "type": "histogram2dcontour"
           }
          ],
          "mesh3d": [
           {
            "colorbar": {
             "outlinewidth": 0,
             "ticks": ""
            },
            "type": "mesh3d"
           }
          ],
          "parcoords": [
           {
            "line": {
             "colorbar": {
              "outlinewidth": 0,
              "ticks": ""
             }
            },
            "type": "parcoords"
           }
          ],
          "pie": [
           {
            "automargin": true,
            "type": "pie"
           }
          ],
          "scatter": [
           {
            "fillpattern": {
             "fillmode": "overlay",
             "size": 10,
             "solidity": 0.2
            },
            "type": "scatter"
           }
          ],
          "scatter3d": [
           {
            "line": {
             "colorbar": {
              "outlinewidth": 0,
              "ticks": ""
             }
            },
            "marker": {
             "colorbar": {
              "outlinewidth": 0,
              "ticks": ""
             }
            },
            "type": "scatter3d"
           }
          ],
          "scattercarpet": [
           {
            "marker": {
             "colorbar": {
              "outlinewidth": 0,
              "ticks": ""
             }
            },
            "type": "scattercarpet"
           }
          ],
          "scattergeo": [
           {
            "marker": {
             "colorbar": {
              "outlinewidth": 0,
              "ticks": ""
             }
            },
            "type": "scattergeo"
           }
          ],
          "scattergl": [
           {
            "marker": {
             "colorbar": {
              "outlinewidth": 0,
              "ticks": ""
             }
            },
            "type": "scattergl"
           }
          ],
          "scattermapbox": [
           {
            "marker": {
             "colorbar": {
              "outlinewidth": 0,
              "ticks": ""
             }
            },
            "type": "scattermapbox"
           }
          ],
          "scatterpolar": [
           {
            "marker": {
             "colorbar": {
              "outlinewidth": 0,
              "ticks": ""
             }
            },
            "type": "scatterpolar"
           }
          ],
          "scatterpolargl": [
           {
            "marker": {
             "colorbar": {
              "outlinewidth": 0,
              "ticks": ""
             }
            },
            "type": "scatterpolargl"
           }
          ],
          "scatterternary": [
           {
            "marker": {
             "colorbar": {
              "outlinewidth": 0,
              "ticks": ""
             }
            },
            "type": "scatterternary"
           }
          ],
          "surface": [
           {
            "colorbar": {
             "outlinewidth": 0,
             "ticks": ""
            },
            "colorscale": [
             [
              0,
              "#0d0887"
             ],
             [
              0.1111111111111111,
              "#46039f"
             ],
             [
              0.2222222222222222,
              "#7201a8"
             ],
             [
              0.3333333333333333,
              "#9c179e"
             ],
             [
              0.4444444444444444,
              "#bd3786"
             ],
             [
              0.5555555555555556,
              "#d8576b"
             ],
             [
              0.6666666666666666,
              "#ed7953"
             ],
             [
              0.7777777777777778,
              "#fb9f3a"
             ],
             [
              0.8888888888888888,
              "#fdca26"
             ],
             [
              1,
              "#f0f921"
             ]
            ],
            "type": "surface"
           }
          ],
          "table": [
           {
            "cells": {
             "fill": {
              "color": "#EBF0F8"
             },
             "line": {
              "color": "white"
             }
            },
            "header": {
             "fill": {
              "color": "#C8D4E3"
             },
             "line": {
              "color": "white"
             }
            },
            "type": "table"
           }
          ]
         },
         "layout": {
          "annotationdefaults": {
           "arrowcolor": "#2a3f5f",
           "arrowhead": 0,
           "arrowwidth": 1
          },
          "autotypenumbers": "strict",
          "coloraxis": {
           "colorbar": {
            "outlinewidth": 0,
            "ticks": ""
           }
          },
          "colorscale": {
           "diverging": [
            [
             0,
             "#8e0152"
            ],
            [
             0.1,
             "#c51b7d"
            ],
            [
             0.2,
             "#de77ae"
            ],
            [
             0.3,
             "#f1b6da"
            ],
            [
             0.4,
             "#fde0ef"
            ],
            [
             0.5,
             "#f7f7f7"
            ],
            [
             0.6,
             "#e6f5d0"
            ],
            [
             0.7,
             "#b8e186"
            ],
            [
             0.8,
             "#7fbc41"
            ],
            [
             0.9,
             "#4d9221"
            ],
            [
             1,
             "#276419"
            ]
           ],
           "sequential": [
            [
             0,
             "#0d0887"
            ],
            [
             0.1111111111111111,
             "#46039f"
            ],
            [
             0.2222222222222222,
             "#7201a8"
            ],
            [
             0.3333333333333333,
             "#9c179e"
            ],
            [
             0.4444444444444444,
             "#bd3786"
            ],
            [
             0.5555555555555556,
             "#d8576b"
            ],
            [
             0.6666666666666666,
             "#ed7953"
            ],
            [
             0.7777777777777778,
             "#fb9f3a"
            ],
            [
             0.8888888888888888,
             "#fdca26"
            ],
            [
             1,
             "#f0f921"
            ]
           ],
           "sequentialminus": [
            [
             0,
             "#0d0887"
            ],
            [
             0.1111111111111111,
             "#46039f"
            ],
            [
             0.2222222222222222,
             "#7201a8"
            ],
            [
             0.3333333333333333,
             "#9c179e"
            ],
            [
             0.4444444444444444,
             "#bd3786"
            ],
            [
             0.5555555555555556,
             "#d8576b"
            ],
            [
             0.6666666666666666,
             "#ed7953"
            ],
            [
             0.7777777777777778,
             "#fb9f3a"
            ],
            [
             0.8888888888888888,
             "#fdca26"
            ],
            [
             1,
             "#f0f921"
            ]
           ]
          },
          "colorway": [
           "#636efa",
           "#EF553B",
           "#00cc96",
           "#ab63fa",
           "#FFA15A",
           "#19d3f3",
           "#FF6692",
           "#B6E880",
           "#FF97FF",
           "#FECB52"
          ],
          "font": {
           "color": "#2a3f5f"
          },
          "geo": {
           "bgcolor": "white",
           "lakecolor": "white",
           "landcolor": "#E5ECF6",
           "showlakes": true,
           "showland": true,
           "subunitcolor": "white"
          },
          "hoverlabel": {
           "align": "left"
          },
          "hovermode": "closest",
          "mapbox": {
           "style": "light"
          },
          "paper_bgcolor": "white",
          "plot_bgcolor": "#E5ECF6",
          "polar": {
           "angularaxis": {
            "gridcolor": "white",
            "linecolor": "white",
            "ticks": ""
           },
           "bgcolor": "#E5ECF6",
           "radialaxis": {
            "gridcolor": "white",
            "linecolor": "white",
            "ticks": ""
           }
          },
          "scene": {
           "xaxis": {
            "backgroundcolor": "#E5ECF6",
            "gridcolor": "white",
            "gridwidth": 2,
            "linecolor": "white",
            "showbackground": true,
            "ticks": "",
            "zerolinecolor": "white"
           },
           "yaxis": {
            "backgroundcolor": "#E5ECF6",
            "gridcolor": "white",
            "gridwidth": 2,
            "linecolor": "white",
            "showbackground": true,
            "ticks": "",
            "zerolinecolor": "white"
           },
           "zaxis": {
            "backgroundcolor": "#E5ECF6",
            "gridcolor": "white",
            "gridwidth": 2,
            "linecolor": "white",
            "showbackground": true,
            "ticks": "",
            "zerolinecolor": "white"
           }
          },
          "shapedefaults": {
           "line": {
            "color": "#2a3f5f"
           }
          },
          "ternary": {
           "aaxis": {
            "gridcolor": "white",
            "linecolor": "white",
            "ticks": ""
           },
           "baxis": {
            "gridcolor": "white",
            "linecolor": "white",
            "ticks": ""
           },
           "bgcolor": "#E5ECF6",
           "caxis": {
            "gridcolor": "white",
            "linecolor": "white",
            "ticks": ""
           }
          },
          "title": {
           "x": 0.05
          },
          "xaxis": {
           "automargin": true,
           "gridcolor": "white",
           "linecolor": "white",
           "ticks": "",
           "title": {
            "standoff": 15
           },
           "zerolinecolor": "white",
           "zerolinewidth": 2
          },
          "yaxis": {
           "automargin": true,
           "gridcolor": "white",
           "linecolor": "white",
           "ticks": "",
           "title": {
            "standoff": 15
           },
           "zerolinecolor": "white",
           "zerolinewidth": 2
          }
         }
        },
        "title": {
         "text": "Scree Plot"
        },
        "xaxis": {
         "anchor": "y",
         "domain": [
          0,
          1
         ],
         "title": {
          "text": "Principal Component"
         }
        },
        "yaxis": {
         "anchor": "x",
         "domain": [
          0,
          1
         ],
         "title": {
          "text": "Percentage of Variation Explained"
         }
        }
       }
      }
     },
     "metadata": {},
     "output_type": "display_data"
    }
   ],
   "source": [
    "# primero calculamos el porcentaje de la varianza total que cada componente principal es capaz de explicar\n",
    "per_var = np.round(pca.explained_variance_ratio_*100,decimals=1)\n",
    "# ahora generamos los nombres para nuestros componentes principales\n",
    "labels = [\"PC\" + str(x) for x in range(1,len(per_var)+1)] \n",
    "# creamos nuestro scree plot que nos ayudará a ver la importancia de cada componente principal a la hora de representar un modelo:\n",
    "px.bar(x=labels,y=per_var,title=\"Scree Plot\",labels={\"x\":\"Principal Component\",\"y\":\"Percentage of Variation Explained\"})"
   ]
  },
  {
   "cell_type": "code",
   "execution_count": 58,
   "metadata": {},
   "outputs": [
    {
     "name": "stdout",
     "output_type": "stream",
     "text": [
      "el número óptimo de componentes principales son 8, explicando el 90.07% de la varianza\n"
     ]
    }
   ],
   "source": [
    "for i in range(2,18):\n",
    "    pca = PCA(n_components=i)\n",
    "    pca.fit_transform(df.values.T)\n",
    "    explicacion = pca.explained_variance_ratio_\n",
    "    if np.sum(explicacion) > 0.9:\n",
    "        print(f\"el número óptimo de componentes principales son {i}, explicando el {round(np.sum(explicacion)*100,2)}% de la varianza\")\n",
    "        break\n"
   ]
  },
  {
   "cell_type": "code",
   "execution_count": 49,
   "metadata": {},
   "outputs": [
    {
     "data": {
      "text/html": [
       "<div>\n",
       "<style scoped>\n",
       "    .dataframe tbody tr th:only-of-type {\n",
       "        vertical-align: middle;\n",
       "    }\n",
       "\n",
       "    .dataframe tbody tr th {\n",
       "        vertical-align: top;\n",
       "    }\n",
       "\n",
       "    .dataframe thead th {\n",
       "        text-align: right;\n",
       "    }\n",
       "</style>\n",
       "<table border=\"1\" class=\"dataframe\">\n",
       "  <thead>\n",
       "    <tr style=\"text-align: right;\">\n",
       "      <th></th>\n",
       "      <th>PC1</th>\n",
       "      <th>PC2</th>\n",
       "      <th>PC3</th>\n",
       "      <th>PC4</th>\n",
       "      <th>PC5</th>\n",
       "      <th>PC6</th>\n",
       "      <th>PC7</th>\n",
       "      <th>PC8</th>\n",
       "      <th>PC9</th>\n",
       "      <th>PC10</th>\n",
       "      <th>PC11</th>\n",
       "      <th>PC12</th>\n",
       "      <th>PC13</th>\n",
       "      <th>PC14</th>\n",
       "      <th>PC15</th>\n",
       "      <th>PC16</th>\n",
       "      <th>PC17</th>\n",
       "    </tr>\n",
       "  </thead>\n",
       "  <tbody>\n",
       "    <tr>\n",
       "      <th>gdp</th>\n",
       "      <td>64.496676</td>\n",
       "      <td>7.976019</td>\n",
       "      <td>-7.301102</td>\n",
       "      <td>-1.009737</td>\n",
       "      <td>-18.185399</td>\n",
       "      <td>-23.437273</td>\n",
       "      <td>-0.384276</td>\n",
       "      <td>-2.958770</td>\n",
       "      <td>-7.954409</td>\n",
       "      <td>2.003926</td>\n",
       "      <td>-3.575669</td>\n",
       "      <td>-0.713322</td>\n",
       "      <td>1.287512</td>\n",
       "      <td>-0.724224</td>\n",
       "      <td>11.681802</td>\n",
       "      <td>-3.756333</td>\n",
       "      <td>9.492407e-15</td>\n",
       "    </tr>\n",
       "    <tr>\n",
       "      <th>population</th>\n",
       "      <td>60.047242</td>\n",
       "      <td>15.547835</td>\n",
       "      <td>-39.791309</td>\n",
       "      <td>0.120865</td>\n",
       "      <td>0.913668</td>\n",
       "      <td>9.066773</td>\n",
       "      <td>9.274014</td>\n",
       "      <td>3.603691</td>\n",
       "      <td>-10.828199</td>\n",
       "      <td>5.217534</td>\n",
       "      <td>-2.497641</td>\n",
       "      <td>-3.533187</td>\n",
       "      <td>-9.809962</td>\n",
       "      <td>0.534821</td>\n",
       "      <td>-9.357615</td>\n",
       "      <td>0.227702</td>\n",
       "      <td>4.177214e-15</td>\n",
       "    </tr>\n",
       "    <tr>\n",
       "      <th>energy_production</th>\n",
       "      <td>5.168468</td>\n",
       "      <td>24.898315</td>\n",
       "      <td>7.718913</td>\n",
       "      <td>48.995299</td>\n",
       "      <td>-10.502040</td>\n",
       "      <td>4.325086</td>\n",
       "      <td>-3.480173</td>\n",
       "      <td>2.935348</td>\n",
       "      <td>14.980562</td>\n",
       "      <td>-4.931219</td>\n",
       "      <td>12.318874</td>\n",
       "      <td>-6.267768</td>\n",
       "      <td>-5.965141</td>\n",
       "      <td>-9.502948</td>\n",
       "      <td>1.246500</td>\n",
       "      <td>1.208919</td>\n",
       "      <td>-3.282791e-14</td>\n",
       "    </tr>\n",
       "    <tr>\n",
       "      <th>energy_consumption</th>\n",
       "      <td>17.696453</td>\n",
       "      <td>42.553262</td>\n",
       "      <td>6.866945</td>\n",
       "      <td>18.888875</td>\n",
       "      <td>-20.948001</td>\n",
       "      <td>5.996820</td>\n",
       "      <td>-6.228813</td>\n",
       "      <td>-6.587332</td>\n",
       "      <td>2.856609</td>\n",
       "      <td>-2.904255</td>\n",
       "      <td>-3.090638</td>\n",
       "      <td>11.546613</td>\n",
       "      <td>15.291790</td>\n",
       "      <td>4.374192</td>\n",
       "      <td>-5.900169</td>\n",
       "      <td>-0.829404</td>\n",
       "      <td>-1.209449e-14</td>\n",
       "    </tr>\n",
       "    <tr>\n",
       "      <th>co2_emission</th>\n",
       "      <td>-4.844374</td>\n",
       "      <td>50.736291</td>\n",
       "      <td>20.649845</td>\n",
       "      <td>-6.359780</td>\n",
       "      <td>18.856222</td>\n",
       "      <td>-2.781524</td>\n",
       "      <td>4.604697</td>\n",
       "      <td>0.785901</td>\n",
       "      <td>3.522979</td>\n",
       "      <td>-2.999267</td>\n",
       "      <td>2.382788</td>\n",
       "      <td>1.481369</td>\n",
       "      <td>-7.960664</td>\n",
       "      <td>13.857449</td>\n",
       "      <td>3.999373</td>\n",
       "      <td>6.075787</td>\n",
       "      <td>6.685277e-14</td>\n",
       "    </tr>\n",
       "    <tr>\n",
       "      <th>per_capita_production</th>\n",
       "      <td>10.850540</td>\n",
       "      <td>-42.416349</td>\n",
       "      <td>55.526281</td>\n",
       "      <td>-4.113198</td>\n",
       "      <td>-13.798037</td>\n",
       "      <td>-10.941737</td>\n",
       "      <td>-17.715202</td>\n",
       "      <td>-15.830269</td>\n",
       "      <td>-4.430790</td>\n",
       "      <td>-2.749583</td>\n",
       "      <td>-4.263907</td>\n",
       "      <td>-1.689756</td>\n",
       "      <td>-7.854779</td>\n",
       "      <td>0.157017</td>\n",
       "      <td>-5.121238</td>\n",
       "      <td>0.787378</td>\n",
       "      <td>-1.998401e-14</td>\n",
       "    </tr>\n",
       "    <tr>\n",
       "      <th>energy_intensity_by_gdp</th>\n",
       "      <td>26.654970</td>\n",
       "      <td>-36.732919</td>\n",
       "      <td>37.161667</td>\n",
       "      <td>-5.766485</td>\n",
       "      <td>0.602635</td>\n",
       "      <td>38.561585</td>\n",
       "      <td>28.334972</td>\n",
       "      <td>6.420414</td>\n",
       "      <td>0.791819</td>\n",
       "      <td>0.918566</td>\n",
       "      <td>0.615576</td>\n",
       "      <td>0.954769</td>\n",
       "      <td>3.277968</td>\n",
       "      <td>-0.081779</td>\n",
       "      <td>3.054595</td>\n",
       "      <td>-1.036250</td>\n",
       "      <td>3.169687e-14</td>\n",
       "    </tr>\n",
       "    <tr>\n",
       "      <th>balance</th>\n",
       "      <td>-22.703979</td>\n",
       "      <td>-34.078963</td>\n",
       "      <td>-9.589750</td>\n",
       "      <td>50.039956</td>\n",
       "      <td>39.299001</td>\n",
       "      <td>-16.130197</td>\n",
       "      <td>14.581608</td>\n",
       "      <td>-6.860580</td>\n",
       "      <td>-7.345527</td>\n",
       "      <td>1.929038</td>\n",
       "      <td>-5.663833</td>\n",
       "      <td>3.824696</td>\n",
       "      <td>2.324294</td>\n",
       "      <td>1.224369</td>\n",
       "      <td>0.012671</td>\n",
       "      <td>-0.635853</td>\n",
       "      <td>-8.605616e-14</td>\n",
       "    </tr>\n",
       "    <tr>\n",
       "      <th>eficiency</th>\n",
       "      <td>-6.527172</td>\n",
       "      <td>44.826549</td>\n",
       "      <td>11.903285</td>\n",
       "      <td>-35.864273</td>\n",
       "      <td>30.834497</td>\n",
       "      <td>-4.349186</td>\n",
       "      <td>7.320136</td>\n",
       "      <td>-9.763783</td>\n",
       "      <td>0.799358</td>\n",
       "      <td>-1.126181</td>\n",
       "      <td>-5.471408</td>\n",
       "      <td>1.895043</td>\n",
       "      <td>2.200793</td>\n",
       "      <td>-13.696953</td>\n",
       "      <td>-0.735254</td>\n",
       "      <td>0.618172</td>\n",
       "      <td>5.857814e-14</td>\n",
       "    </tr>\n",
       "    <tr>\n",
       "      <th>energy_dependecy</th>\n",
       "      <td>-56.460331</td>\n",
       "      <td>12.563228</td>\n",
       "      <td>-24.058525</td>\n",
       "      <td>3.649941</td>\n",
       "      <td>-11.435081</td>\n",
       "      <td>33.745583</td>\n",
       "      <td>-15.246105</td>\n",
       "      <td>-12.776399</td>\n",
       "      <td>-12.746898</td>\n",
       "      <td>0.163587</td>\n",
       "      <td>-5.131862</td>\n",
       "      <td>-1.222283</td>\n",
       "      <td>-4.161665</td>\n",
       "      <td>0.075498</td>\n",
       "      <td>4.880663</td>\n",
       "      <td>-2.110732</td>\n",
       "      <td>-6.408762e-14</td>\n",
       "    </tr>\n",
       "    <tr>\n",
       "      <th>use_intensity_pc</th>\n",
       "      <td>-48.426448</td>\n",
       "      <td>-11.009606</td>\n",
       "      <td>-20.720469</td>\n",
       "      <td>-15.498262</td>\n",
       "      <td>-38.727273</td>\n",
       "      <td>-18.196029</td>\n",
       "      <td>32.328451</td>\n",
       "      <td>-4.504019</td>\n",
       "      <td>7.440472</td>\n",
       "      <td>-5.845059</td>\n",
       "      <td>-0.594306</td>\n",
       "      <td>0.526315</td>\n",
       "      <td>-2.397793</td>\n",
       "      <td>0.683480</td>\n",
       "      <td>-1.601763</td>\n",
       "      <td>0.352104</td>\n",
       "      <td>2.896988e-14</td>\n",
       "    </tr>\n",
       "    <tr>\n",
       "      <th>co2_pc</th>\n",
       "      <td>-43.438457</td>\n",
       "      <td>19.009583</td>\n",
       "      <td>28.308506</td>\n",
       "      <td>1.310785</td>\n",
       "      <td>-10.695770</td>\n",
       "      <td>-12.185435</td>\n",
       "      <td>-3.194370</td>\n",
       "      <td>25.066549</td>\n",
       "      <td>-15.006342</td>\n",
       "      <td>14.295276</td>\n",
       "      <td>1.293816</td>\n",
       "      <td>-1.841294</td>\n",
       "      <td>1.742639</td>\n",
       "      <td>-1.752742</td>\n",
       "      <td>-1.706804</td>\n",
       "      <td>-1.365227</td>\n",
       "      <td>1.070845e-14</td>\n",
       "    </tr>\n",
       "    <tr>\n",
       "      <th>Energy_type_coal</th>\n",
       "      <td>-1.173980</td>\n",
       "      <td>-18.157074</td>\n",
       "      <td>-11.792619</td>\n",
       "      <td>-17.579739</td>\n",
       "      <td>13.084895</td>\n",
       "      <td>-3.615401</td>\n",
       "      <td>-7.890448</td>\n",
       "      <td>4.588231</td>\n",
       "      <td>-10.984985</td>\n",
       "      <td>-19.426596</td>\n",
       "      <td>22.383392</td>\n",
       "      <td>3.496236</td>\n",
       "      <td>2.499279</td>\n",
       "      <td>0.948545</td>\n",
       "      <td>-1.077729</td>\n",
       "      <td>-3.162107</td>\n",
       "      <td>1.387779e-17</td>\n",
       "    </tr>\n",
       "    <tr>\n",
       "      <th>Energy_type_natural_gas</th>\n",
       "      <td>-4.091755</td>\n",
       "      <td>-10.797062</td>\n",
       "      <td>-9.494925</td>\n",
       "      <td>-15.254573</td>\n",
       "      <td>10.636967</td>\n",
       "      <td>-1.256269</td>\n",
       "      <td>-6.270179</td>\n",
       "      <td>-10.286557</td>\n",
       "      <td>15.830082</td>\n",
       "      <td>22.413480</td>\n",
       "      <td>12.832853</td>\n",
       "      <td>-3.749924</td>\n",
       "      <td>1.885330</td>\n",
       "      <td>4.237443</td>\n",
       "      <td>-0.943519</td>\n",
       "      <td>-5.310923</td>\n",
       "      <td>5.320744e-14</td>\n",
       "    </tr>\n",
       "    <tr>\n",
       "      <th>Energy_type_nuclear</th>\n",
       "      <td>3.502278</td>\n",
       "      <td>-22.823674</td>\n",
       "      <td>-17.280712</td>\n",
       "      <td>-6.973123</td>\n",
       "      <td>-0.541987</td>\n",
       "      <td>0.052096</td>\n",
       "      <td>-7.967986</td>\n",
       "      <td>0.250184</td>\n",
       "      <td>-1.358594</td>\n",
       "      <td>-0.142713</td>\n",
       "      <td>-1.098313</td>\n",
       "      <td>-16.543913</td>\n",
       "      <td>11.833905</td>\n",
       "      <td>0.254696</td>\n",
       "      <td>0.473156</td>\n",
       "      <td>9.922748</td>\n",
       "      <td>-1.147693e-14</td>\n",
       "    </tr>\n",
       "    <tr>\n",
       "      <th>Energy_type_petroleum_n_other_liquids</th>\n",
       "      <td>-4.634255</td>\n",
       "      <td>-6.351271</td>\n",
       "      <td>-5.953250</td>\n",
       "      <td>-5.919203</td>\n",
       "      <td>12.273026</td>\n",
       "      <td>-0.268226</td>\n",
       "      <td>-11.999099</td>\n",
       "      <td>15.035856</td>\n",
       "      <td>15.467739</td>\n",
       "      <td>-12.282726</td>\n",
       "      <td>-17.422715</td>\n",
       "      <td>-7.362274</td>\n",
       "      <td>-0.325143</td>\n",
       "      <td>3.125241</td>\n",
       "      <td>-0.969668</td>\n",
       "      <td>-6.732078</td>\n",
       "      <td>1.920686e-14</td>\n",
       "    </tr>\n",
       "    <tr>\n",
       "      <th>Energy_type_renewables_n_other</th>\n",
       "      <td>3.884124</td>\n",
       "      <td>-35.744162</td>\n",
       "      <td>-22.152781</td>\n",
       "      <td>-8.667348</td>\n",
       "      <td>-1.667323</td>\n",
       "      <td>1.413334</td>\n",
       "      <td>-16.067227</td>\n",
       "      <td>10.881537</td>\n",
       "      <td>8.966124</td>\n",
       "      <td>5.466192</td>\n",
       "      <td>-3.017006</td>\n",
       "      <td>19.198681</td>\n",
       "      <td>-3.868363</td>\n",
       "      <td>-3.714106</td>\n",
       "      <td>2.065001</td>\n",
       "      <td>5.746097</td>\n",
       "      <td>-4.338196e-14</td>\n",
       "    </tr>\n",
       "  </tbody>\n",
       "</table>\n",
       "</div>"
      ],
      "text/plain": [
       "                                             PC1        PC2        PC3  \\\n",
       "gdp                                    64.496676   7.976019  -7.301102   \n",
       "population                             60.047242  15.547835 -39.791309   \n",
       "energy_production                       5.168468  24.898315   7.718913   \n",
       "energy_consumption                     17.696453  42.553262   6.866945   \n",
       "co2_emission                           -4.844374  50.736291  20.649845   \n",
       "per_capita_production                  10.850540 -42.416349  55.526281   \n",
       "energy_intensity_by_gdp                26.654970 -36.732919  37.161667   \n",
       "balance                               -22.703979 -34.078963  -9.589750   \n",
       "eficiency                              -6.527172  44.826549  11.903285   \n",
       "energy_dependecy                      -56.460331  12.563228 -24.058525   \n",
       "use_intensity_pc                      -48.426448 -11.009606 -20.720469   \n",
       "co2_pc                                -43.438457  19.009583  28.308506   \n",
       "Energy_type_coal                       -1.173980 -18.157074 -11.792619   \n",
       "Energy_type_natural_gas                -4.091755 -10.797062  -9.494925   \n",
       "Energy_type_nuclear                     3.502278 -22.823674 -17.280712   \n",
       "Energy_type_petroleum_n_other_liquids  -4.634255  -6.351271  -5.953250   \n",
       "Energy_type_renewables_n_other          3.884124 -35.744162 -22.152781   \n",
       "\n",
       "                                             PC4        PC5        PC6  \\\n",
       "gdp                                    -1.009737 -18.185399 -23.437273   \n",
       "population                              0.120865   0.913668   9.066773   \n",
       "energy_production                      48.995299 -10.502040   4.325086   \n",
       "energy_consumption                     18.888875 -20.948001   5.996820   \n",
       "co2_emission                           -6.359780  18.856222  -2.781524   \n",
       "per_capita_production                  -4.113198 -13.798037 -10.941737   \n",
       "energy_intensity_by_gdp                -5.766485   0.602635  38.561585   \n",
       "balance                                50.039956  39.299001 -16.130197   \n",
       "eficiency                             -35.864273  30.834497  -4.349186   \n",
       "energy_dependecy                        3.649941 -11.435081  33.745583   \n",
       "use_intensity_pc                      -15.498262 -38.727273 -18.196029   \n",
       "co2_pc                                  1.310785 -10.695770 -12.185435   \n",
       "Energy_type_coal                      -17.579739  13.084895  -3.615401   \n",
       "Energy_type_natural_gas               -15.254573  10.636967  -1.256269   \n",
       "Energy_type_nuclear                    -6.973123  -0.541987   0.052096   \n",
       "Energy_type_petroleum_n_other_liquids  -5.919203  12.273026  -0.268226   \n",
       "Energy_type_renewables_n_other         -8.667348  -1.667323   1.413334   \n",
       "\n",
       "                                             PC7        PC8        PC9  \\\n",
       "gdp                                    -0.384276  -2.958770  -7.954409   \n",
       "population                              9.274014   3.603691 -10.828199   \n",
       "energy_production                      -3.480173   2.935348  14.980562   \n",
       "energy_consumption                     -6.228813  -6.587332   2.856609   \n",
       "co2_emission                            4.604697   0.785901   3.522979   \n",
       "per_capita_production                 -17.715202 -15.830269  -4.430790   \n",
       "energy_intensity_by_gdp                28.334972   6.420414   0.791819   \n",
       "balance                                14.581608  -6.860580  -7.345527   \n",
       "eficiency                               7.320136  -9.763783   0.799358   \n",
       "energy_dependecy                      -15.246105 -12.776399 -12.746898   \n",
       "use_intensity_pc                       32.328451  -4.504019   7.440472   \n",
       "co2_pc                                 -3.194370  25.066549 -15.006342   \n",
       "Energy_type_coal                       -7.890448   4.588231 -10.984985   \n",
       "Energy_type_natural_gas                -6.270179 -10.286557  15.830082   \n",
       "Energy_type_nuclear                    -7.967986   0.250184  -1.358594   \n",
       "Energy_type_petroleum_n_other_liquids -11.999099  15.035856  15.467739   \n",
       "Energy_type_renewables_n_other        -16.067227  10.881537   8.966124   \n",
       "\n",
       "                                            PC10       PC11       PC12  \\\n",
       "gdp                                     2.003926  -3.575669  -0.713322   \n",
       "population                              5.217534  -2.497641  -3.533187   \n",
       "energy_production                      -4.931219  12.318874  -6.267768   \n",
       "energy_consumption                     -2.904255  -3.090638  11.546613   \n",
       "co2_emission                           -2.999267   2.382788   1.481369   \n",
       "per_capita_production                  -2.749583  -4.263907  -1.689756   \n",
       "energy_intensity_by_gdp                 0.918566   0.615576   0.954769   \n",
       "balance                                 1.929038  -5.663833   3.824696   \n",
       "eficiency                              -1.126181  -5.471408   1.895043   \n",
       "energy_dependecy                        0.163587  -5.131862  -1.222283   \n",
       "use_intensity_pc                       -5.845059  -0.594306   0.526315   \n",
       "co2_pc                                 14.295276   1.293816  -1.841294   \n",
       "Energy_type_coal                      -19.426596  22.383392   3.496236   \n",
       "Energy_type_natural_gas                22.413480  12.832853  -3.749924   \n",
       "Energy_type_nuclear                    -0.142713  -1.098313 -16.543913   \n",
       "Energy_type_petroleum_n_other_liquids -12.282726 -17.422715  -7.362274   \n",
       "Energy_type_renewables_n_other          5.466192  -3.017006  19.198681   \n",
       "\n",
       "                                            PC13       PC14       PC15  \\\n",
       "gdp                                     1.287512  -0.724224  11.681802   \n",
       "population                             -9.809962   0.534821  -9.357615   \n",
       "energy_production                      -5.965141  -9.502948   1.246500   \n",
       "energy_consumption                     15.291790   4.374192  -5.900169   \n",
       "co2_emission                           -7.960664  13.857449   3.999373   \n",
       "per_capita_production                  -7.854779   0.157017  -5.121238   \n",
       "energy_intensity_by_gdp                 3.277968  -0.081779   3.054595   \n",
       "balance                                 2.324294   1.224369   0.012671   \n",
       "eficiency                               2.200793 -13.696953  -0.735254   \n",
       "energy_dependecy                       -4.161665   0.075498   4.880663   \n",
       "use_intensity_pc                       -2.397793   0.683480  -1.601763   \n",
       "co2_pc                                  1.742639  -1.752742  -1.706804   \n",
       "Energy_type_coal                        2.499279   0.948545  -1.077729   \n",
       "Energy_type_natural_gas                 1.885330   4.237443  -0.943519   \n",
       "Energy_type_nuclear                    11.833905   0.254696   0.473156   \n",
       "Energy_type_petroleum_n_other_liquids  -0.325143   3.125241  -0.969668   \n",
       "Energy_type_renewables_n_other         -3.868363  -3.714106   2.065001   \n",
       "\n",
       "                                           PC16          PC17  \n",
       "gdp                                   -3.756333  9.492407e-15  \n",
       "population                             0.227702  4.177214e-15  \n",
       "energy_production                      1.208919 -3.282791e-14  \n",
       "energy_consumption                    -0.829404 -1.209449e-14  \n",
       "co2_emission                           6.075787  6.685277e-14  \n",
       "per_capita_production                  0.787378 -1.998401e-14  \n",
       "energy_intensity_by_gdp               -1.036250  3.169687e-14  \n",
       "balance                               -0.635853 -8.605616e-14  \n",
       "eficiency                              0.618172  5.857814e-14  \n",
       "energy_dependecy                      -2.110732 -6.408762e-14  \n",
       "use_intensity_pc                       0.352104  2.896988e-14  \n",
       "co2_pc                                -1.365227  1.070845e-14  \n",
       "Energy_type_coal                      -3.162107  1.387779e-17  \n",
       "Energy_type_natural_gas               -5.310923  5.320744e-14  \n",
       "Energy_type_nuclear                    9.922748 -1.147693e-14  \n",
       "Energy_type_petroleum_n_other_liquids -6.732078  1.920686e-14  \n",
       "Energy_type_renewables_n_other         5.746097 -4.338196e-14  "
      ]
     },
     "execution_count": 49,
     "metadata": {},
     "output_type": "execute_result"
    }
   ],
   "source": [
    "# creamos un dataframe en el cual podemos ver la importancia de cada variable dentro de cada componente principal. Esta importancia viene dada por los loading scores\n",
    "# que son el resultado del escalado de los vectores propios mediante la división de estos entre la distancia del dato al orígen. Digamos que es la receta con la que cada uno\n",
    "# de los componentes principales está fabricado.\n",
    "pca_df = pd.DataFrame(pca_data,index=df.columns,columns=labels)\n",
    "pca_df"
   ]
  },
  {
   "cell_type": "code",
   "execution_count": 50,
   "metadata": {},
   "outputs": [
    {
     "data": {
      "application/vnd.plotly.v1+json": {
       "config": {
        "plotlyServerURL": "https://plot.ly"
       },
       "data": [
        {
         "hovertemplate": "PC1: 23.8%=%{x}<br>PC2: 20.4%=%{y}<extra></extra>",
         "legendgroup": "",
         "marker": {
          "color": "#636efa",
          "symbol": "circle"
         },
         "mode": "markers",
         "name": "",
         "orientation": "v",
         "showlegend": false,
         "type": "scatter",
         "x": [
          64.49667563899416,
          60.0472419477171,
          5.168467783788996,
          17.696453394867632,
          -4.844373708519154,
          10.850540278416384,
          26.65496956398266,
          -22.703979337100694,
          -6.527172032944462,
          -56.46033054695326,
          -48.426447995241475,
          -43.43845731108504,
          -1.1739800715979702,
          -4.091754874501139,
          3.502277828495819,
          -4.634254977354372,
          3.884124419034839
         ],
         "xaxis": "x",
         "y": [
          7.976018850067442,
          15.547835026963238,
          24.8983145750006,
          42.55326193128794,
          50.736291007498394,
          -42.416349150924766,
          -36.732918953976615,
          -34.0789626328793,
          44.82654851899156,
          12.563227526734021,
          -11.009606291917258,
          19.00958268948791,
          -18.1570738290921,
          -10.79706213931057,
          -22.823674152906538,
          -6.351270500555277,
          -35.74416247446871
         ],
         "yaxis": "y"
        }
       ],
       "layout": {
        "annotations": [
         {
          "text": "gdp",
          "x": 64.49667563899416,
          "y": 7.976018850067442
         },
         {
          "text": "population",
          "x": 60.0472419477171,
          "y": 15.547835026963238
         },
         {
          "text": "energy_production",
          "x": 5.168467783788996,
          "y": 24.8983145750006
         },
         {
          "text": "energy_consumption",
          "x": 17.696453394867632,
          "y": 42.55326193128794
         },
         {
          "text": "co2_emission",
          "x": -4.844373708519154,
          "y": 50.736291007498394
         },
         {
          "text": "per_capita_production",
          "x": 10.850540278416384,
          "y": -42.416349150924766
         },
         {
          "text": "energy_intensity_by_gdp",
          "x": 26.65496956398266,
          "y": -36.732918953976615
         },
         {
          "text": "balance",
          "x": -22.703979337100694,
          "y": -34.0789626328793
         },
         {
          "text": "eficiency",
          "x": -6.527172032944462,
          "y": 44.82654851899156
         },
         {
          "text": "energy_dependecy",
          "x": -56.46033054695326,
          "y": 12.563227526734021
         },
         {
          "text": "use_intensity_pc",
          "x": -48.426447995241475,
          "y": -11.009606291917258
         },
         {
          "text": "co2_pc",
          "x": -43.43845731108504,
          "y": 19.00958268948791
         },
         {
          "text": "Energy_type_coal",
          "x": -1.1739800715979702,
          "y": -18.1570738290921
         },
         {
          "text": "Energy_type_natural_gas",
          "x": -4.091754874501139,
          "y": -10.79706213931057
         },
         {
          "text": "Energy_type_nuclear",
          "x": 3.502277828495819,
          "y": -22.823674152906538
         },
         {
          "text": "Energy_type_petroleum_n_other_liquids",
          "x": -4.634254977354372,
          "y": -6.351270500555277
         },
         {
          "text": "Energy_type_renewables_n_other",
          "x": 3.884124419034839,
          "y": -35.74416247446871
         }
        ],
        "legend": {
         "tracegroupgap": 0
        },
        "shapes": [
         {
          "line": {
           "color": "red",
           "dash": "dash"
          },
          "type": "line",
          "x0": 0,
          "x1": 1,
          "xref": "x domain",
          "y0": 0,
          "y1": 0,
          "yref": "y"
         },
         {
          "line": {
           "color": "green",
           "dash": "dash"
          },
          "type": "line",
          "x0": 0,
          "x1": 0,
          "xref": "x",
          "y0": 0,
          "y1": 1,
          "yref": "y domain"
         }
        ],
        "template": {
         "data": {
          "bar": [
           {
            "error_x": {
             "color": "#2a3f5f"
            },
            "error_y": {
             "color": "#2a3f5f"
            },
            "marker": {
             "line": {
              "color": "#E5ECF6",
              "width": 0.5
             },
             "pattern": {
              "fillmode": "overlay",
              "size": 10,
              "solidity": 0.2
             }
            },
            "type": "bar"
           }
          ],
          "barpolar": [
           {
            "marker": {
             "line": {
              "color": "#E5ECF6",
              "width": 0.5
             },
             "pattern": {
              "fillmode": "overlay",
              "size": 10,
              "solidity": 0.2
             }
            },
            "type": "barpolar"
           }
          ],
          "carpet": [
           {
            "aaxis": {
             "endlinecolor": "#2a3f5f",
             "gridcolor": "white",
             "linecolor": "white",
             "minorgridcolor": "white",
             "startlinecolor": "#2a3f5f"
            },
            "baxis": {
             "endlinecolor": "#2a3f5f",
             "gridcolor": "white",
             "linecolor": "white",
             "minorgridcolor": "white",
             "startlinecolor": "#2a3f5f"
            },
            "type": "carpet"
           }
          ],
          "choropleth": [
           {
            "colorbar": {
             "outlinewidth": 0,
             "ticks": ""
            },
            "type": "choropleth"
           }
          ],
          "contour": [
           {
            "colorbar": {
             "outlinewidth": 0,
             "ticks": ""
            },
            "colorscale": [
             [
              0,
              "#0d0887"
             ],
             [
              0.1111111111111111,
              "#46039f"
             ],
             [
              0.2222222222222222,
              "#7201a8"
             ],
             [
              0.3333333333333333,
              "#9c179e"
             ],
             [
              0.4444444444444444,
              "#bd3786"
             ],
             [
              0.5555555555555556,
              "#d8576b"
             ],
             [
              0.6666666666666666,
              "#ed7953"
             ],
             [
              0.7777777777777778,
              "#fb9f3a"
             ],
             [
              0.8888888888888888,
              "#fdca26"
             ],
             [
              1,
              "#f0f921"
             ]
            ],
            "type": "contour"
           }
          ],
          "contourcarpet": [
           {
            "colorbar": {
             "outlinewidth": 0,
             "ticks": ""
            },
            "type": "contourcarpet"
           }
          ],
          "heatmap": [
           {
            "colorbar": {
             "outlinewidth": 0,
             "ticks": ""
            },
            "colorscale": [
             [
              0,
              "#0d0887"
             ],
             [
              0.1111111111111111,
              "#46039f"
             ],
             [
              0.2222222222222222,
              "#7201a8"
             ],
             [
              0.3333333333333333,
              "#9c179e"
             ],
             [
              0.4444444444444444,
              "#bd3786"
             ],
             [
              0.5555555555555556,
              "#d8576b"
             ],
             [
              0.6666666666666666,
              "#ed7953"
             ],
             [
              0.7777777777777778,
              "#fb9f3a"
             ],
             [
              0.8888888888888888,
              "#fdca26"
             ],
             [
              1,
              "#f0f921"
             ]
            ],
            "type": "heatmap"
           }
          ],
          "heatmapgl": [
           {
            "colorbar": {
             "outlinewidth": 0,
             "ticks": ""
            },
            "colorscale": [
             [
              0,
              "#0d0887"
             ],
             [
              0.1111111111111111,
              "#46039f"
             ],
             [
              0.2222222222222222,
              "#7201a8"
             ],
             [
              0.3333333333333333,
              "#9c179e"
             ],
             [
              0.4444444444444444,
              "#bd3786"
             ],
             [
              0.5555555555555556,
              "#d8576b"
             ],
             [
              0.6666666666666666,
              "#ed7953"
             ],
             [
              0.7777777777777778,
              "#fb9f3a"
             ],
             [
              0.8888888888888888,
              "#fdca26"
             ],
             [
              1,
              "#f0f921"
             ]
            ],
            "type": "heatmapgl"
           }
          ],
          "histogram": [
           {
            "marker": {
             "pattern": {
              "fillmode": "overlay",
              "size": 10,
              "solidity": 0.2
             }
            },
            "type": "histogram"
           }
          ],
          "histogram2d": [
           {
            "colorbar": {
             "outlinewidth": 0,
             "ticks": ""
            },
            "colorscale": [
             [
              0,
              "#0d0887"
             ],
             [
              0.1111111111111111,
              "#46039f"
             ],
             [
              0.2222222222222222,
              "#7201a8"
             ],
             [
              0.3333333333333333,
              "#9c179e"
             ],
             [
              0.4444444444444444,
              "#bd3786"
             ],
             [
              0.5555555555555556,
              "#d8576b"
             ],
             [
              0.6666666666666666,
              "#ed7953"
             ],
             [
              0.7777777777777778,
              "#fb9f3a"
             ],
             [
              0.8888888888888888,
              "#fdca26"
             ],
             [
              1,
              "#f0f921"
             ]
            ],
            "type": "histogram2d"
           }
          ],
          "histogram2dcontour": [
           {
            "colorbar": {
             "outlinewidth": 0,
             "ticks": ""
            },
            "colorscale": [
             [
              0,
              "#0d0887"
             ],
             [
              0.1111111111111111,
              "#46039f"
             ],
             [
              0.2222222222222222,
              "#7201a8"
             ],
             [
              0.3333333333333333,
              "#9c179e"
             ],
             [
              0.4444444444444444,
              "#bd3786"
             ],
             [
              0.5555555555555556,
              "#d8576b"
             ],
             [
              0.6666666666666666,
              "#ed7953"
             ],
             [
              0.7777777777777778,
              "#fb9f3a"
             ],
             [
              0.8888888888888888,
              "#fdca26"
             ],
             [
              1,
              "#f0f921"
             ]
            ],
            "type": "histogram2dcontour"
           }
          ],
          "mesh3d": [
           {
            "colorbar": {
             "outlinewidth": 0,
             "ticks": ""
            },
            "type": "mesh3d"
           }
          ],
          "parcoords": [
           {
            "line": {
             "colorbar": {
              "outlinewidth": 0,
              "ticks": ""
             }
            },
            "type": "parcoords"
           }
          ],
          "pie": [
           {
            "automargin": true,
            "type": "pie"
           }
          ],
          "scatter": [
           {
            "fillpattern": {
             "fillmode": "overlay",
             "size": 10,
             "solidity": 0.2
            },
            "type": "scatter"
           }
          ],
          "scatter3d": [
           {
            "line": {
             "colorbar": {
              "outlinewidth": 0,
              "ticks": ""
             }
            },
            "marker": {
             "colorbar": {
              "outlinewidth": 0,
              "ticks": ""
             }
            },
            "type": "scatter3d"
           }
          ],
          "scattercarpet": [
           {
            "marker": {
             "colorbar": {
              "outlinewidth": 0,
              "ticks": ""
             }
            },
            "type": "scattercarpet"
           }
          ],
          "scattergeo": [
           {
            "marker": {
             "colorbar": {
              "outlinewidth": 0,
              "ticks": ""
             }
            },
            "type": "scattergeo"
           }
          ],
          "scattergl": [
           {
            "marker": {
             "colorbar": {
              "outlinewidth": 0,
              "ticks": ""
             }
            },
            "type": "scattergl"
           }
          ],
          "scattermapbox": [
           {
            "marker": {
             "colorbar": {
              "outlinewidth": 0,
              "ticks": ""
             }
            },
            "type": "scattermapbox"
           }
          ],
          "scatterpolar": [
           {
            "marker": {
             "colorbar": {
              "outlinewidth": 0,
              "ticks": ""
             }
            },
            "type": "scatterpolar"
           }
          ],
          "scatterpolargl": [
           {
            "marker": {
             "colorbar": {
              "outlinewidth": 0,
              "ticks": ""
             }
            },
            "type": "scatterpolargl"
           }
          ],
          "scatterternary": [
           {
            "marker": {
             "colorbar": {
              "outlinewidth": 0,
              "ticks": ""
             }
            },
            "type": "scatterternary"
           }
          ],
          "surface": [
           {
            "colorbar": {
             "outlinewidth": 0,
             "ticks": ""
            },
            "colorscale": [
             [
              0,
              "#0d0887"
             ],
             [
              0.1111111111111111,
              "#46039f"
             ],
             [
              0.2222222222222222,
              "#7201a8"
             ],
             [
              0.3333333333333333,
              "#9c179e"
             ],
             [
              0.4444444444444444,
              "#bd3786"
             ],
             [
              0.5555555555555556,
              "#d8576b"
             ],
             [
              0.6666666666666666,
              "#ed7953"
             ],
             [
              0.7777777777777778,
              "#fb9f3a"
             ],
             [
              0.8888888888888888,
              "#fdca26"
             ],
             [
              1,
              "#f0f921"
             ]
            ],
            "type": "surface"
           }
          ],
          "table": [
           {
            "cells": {
             "fill": {
              "color": "#EBF0F8"
             },
             "line": {
              "color": "white"
             }
            },
            "header": {
             "fill": {
              "color": "#C8D4E3"
             },
             "line": {
              "color": "white"
             }
            },
            "type": "table"
           }
          ]
         },
         "layout": {
          "annotationdefaults": {
           "arrowcolor": "#2a3f5f",
           "arrowhead": 0,
           "arrowwidth": 1
          },
          "autotypenumbers": "strict",
          "coloraxis": {
           "colorbar": {
            "outlinewidth": 0,
            "ticks": ""
           }
          },
          "colorscale": {
           "diverging": [
            [
             0,
             "#8e0152"
            ],
            [
             0.1,
             "#c51b7d"
            ],
            [
             0.2,
             "#de77ae"
            ],
            [
             0.3,
             "#f1b6da"
            ],
            [
             0.4,
             "#fde0ef"
            ],
            [
             0.5,
             "#f7f7f7"
            ],
            [
             0.6,
             "#e6f5d0"
            ],
            [
             0.7,
             "#b8e186"
            ],
            [
             0.8,
             "#7fbc41"
            ],
            [
             0.9,
             "#4d9221"
            ],
            [
             1,
             "#276419"
            ]
           ],
           "sequential": [
            [
             0,
             "#0d0887"
            ],
            [
             0.1111111111111111,
             "#46039f"
            ],
            [
             0.2222222222222222,
             "#7201a8"
            ],
            [
             0.3333333333333333,
             "#9c179e"
            ],
            [
             0.4444444444444444,
             "#bd3786"
            ],
            [
             0.5555555555555556,
             "#d8576b"
            ],
            [
             0.6666666666666666,
             "#ed7953"
            ],
            [
             0.7777777777777778,
             "#fb9f3a"
            ],
            [
             0.8888888888888888,
             "#fdca26"
            ],
            [
             1,
             "#f0f921"
            ]
           ],
           "sequentialminus": [
            [
             0,
             "#0d0887"
            ],
            [
             0.1111111111111111,
             "#46039f"
            ],
            [
             0.2222222222222222,
             "#7201a8"
            ],
            [
             0.3333333333333333,
             "#9c179e"
            ],
            [
             0.4444444444444444,
             "#bd3786"
            ],
            [
             0.5555555555555556,
             "#d8576b"
            ],
            [
             0.6666666666666666,
             "#ed7953"
            ],
            [
             0.7777777777777778,
             "#fb9f3a"
            ],
            [
             0.8888888888888888,
             "#fdca26"
            ],
            [
             1,
             "#f0f921"
            ]
           ]
          },
          "colorway": [
           "#636efa",
           "#EF553B",
           "#00cc96",
           "#ab63fa",
           "#FFA15A",
           "#19d3f3",
           "#FF6692",
           "#B6E880",
           "#FF97FF",
           "#FECB52"
          ],
          "font": {
           "color": "#2a3f5f"
          },
          "geo": {
           "bgcolor": "white",
           "lakecolor": "white",
           "landcolor": "#E5ECF6",
           "showlakes": true,
           "showland": true,
           "subunitcolor": "white"
          },
          "hoverlabel": {
           "align": "left"
          },
          "hovermode": "closest",
          "mapbox": {
           "style": "light"
          },
          "paper_bgcolor": "white",
          "plot_bgcolor": "#E5ECF6",
          "polar": {
           "angularaxis": {
            "gridcolor": "white",
            "linecolor": "white",
            "ticks": ""
           },
           "bgcolor": "#E5ECF6",
           "radialaxis": {
            "gridcolor": "white",
            "linecolor": "white",
            "ticks": ""
           }
          },
          "scene": {
           "xaxis": {
            "backgroundcolor": "#E5ECF6",
            "gridcolor": "white",
            "gridwidth": 2,
            "linecolor": "white",
            "showbackground": true,
            "ticks": "",
            "zerolinecolor": "white"
           },
           "yaxis": {
            "backgroundcolor": "#E5ECF6",
            "gridcolor": "white",
            "gridwidth": 2,
            "linecolor": "white",
            "showbackground": true,
            "ticks": "",
            "zerolinecolor": "white"
           },
           "zaxis": {
            "backgroundcolor": "#E5ECF6",
            "gridcolor": "white",
            "gridwidth": 2,
            "linecolor": "white",
            "showbackground": true,
            "ticks": "",
            "zerolinecolor": "white"
           }
          },
          "shapedefaults": {
           "line": {
            "color": "#2a3f5f"
           }
          },
          "ternary": {
           "aaxis": {
            "gridcolor": "white",
            "linecolor": "white",
            "ticks": ""
           },
           "baxis": {
            "gridcolor": "white",
            "linecolor": "white",
            "ticks": ""
           },
           "bgcolor": "#E5ECF6",
           "caxis": {
            "gridcolor": "white",
            "linecolor": "white",
            "ticks": ""
           }
          },
          "title": {
           "x": 0.05
          },
          "xaxis": {
           "automargin": true,
           "gridcolor": "white",
           "linecolor": "white",
           "ticks": "",
           "title": {
            "standoff": 15
           },
           "zerolinecolor": "white",
           "zerolinewidth": 2
          },
          "yaxis": {
           "automargin": true,
           "gridcolor": "white",
           "linecolor": "white",
           "ticks": "",
           "title": {
            "standoff": 15
           },
           "zerolinecolor": "white",
           "zerolinewidth": 2
          }
         }
        },
        "title": {
         "text": "My PCA Graph"
        },
        "xaxis": {
         "anchor": "y",
         "domain": [
          0,
          1
         ],
         "title": {
          "text": "PC1: 23.8%"
         }
        },
        "yaxis": {
         "anchor": "x",
         "domain": [
          0,
          1
         ],
         "title": {
          "text": "PC2: 20.4%"
         }
        }
       }
      }
     },
     "metadata": {},
     "output_type": "display_data"
    }
   ],
   "source": [
    "fig = px.scatter(data_frame=pca_df,x=\"PC1\",y=\"PC2\",\n",
    "            labels={\"PC1\":f\"PC1: {round(per_var[0],2)}%\",\"PC2\":f\"PC2: {round(per_var[1],2)}%\"},\n",
    "            title=\"My PCA Graph\")\n",
    "\n",
    "for var in pca_df.index:\n",
    "    fig.add_annotation({\"x\":pca_df.PC1.loc[var],\"y\":pca_df.PC2.loc[var],\"text\":var})\n",
    "fig.add_hline(y=0,line_color=\"red\",line_dash=\"dash\").add_vline(x=0,line_color=\"green\",line_dash=\"dash\")\n",
    "fig"
   ]
  },
  {
   "cell_type": "markdown",
   "metadata": {},
   "source": [
    "Podemos decir que de la varianza total a lo largo del eje de las x, donde se representa PC1, las variables más importantes son population y gdp en la parte positiva y energy_dependency, co2_pc y use_intensity_pc en la parte negativa. Por otra parte, de la variación total en el eje de las y, donde se representa el PC2, los que más afectan a la misma son c02_emission, eficiency y energy_consumption en la parte positiva y per_capita_production en la negativa.\n",
    "Vemos que existe una varianza mayor en el pc1 que en el pc2, por lo que a la hora de explicar la variabilidad de nuestros datos es más importante pc1 que pc2, aunque no por mucho. Además, por la forma en que se agrupan las variables podemos intuir que los datos se van a dividir entre 3 y 4 clusters. En mi opinión es más claro que se dividen en cuatro que en tres, y que uno de los clusters es bastante más grande que los otros tres."
   ]
  },
  {
   "cell_type": "code",
   "execution_count": 51,
   "metadata": {},
   "outputs": [
    {
     "name": "stdout",
     "output_type": "stream",
     "text": [
      "381     0.076895\n",
      "5523    0.076708\n",
      "5502    0.076647\n",
      "5522    0.076544\n",
      "5462    0.076519\n",
      "5501    0.076472\n",
      "5461    0.076427\n",
      "5491    0.076382\n",
      "5481    0.076363\n",
      "5482    0.076328\n",
      "dtype: float64\n"
     ]
    }
   ],
   "source": [
    "loading_scores = pd.Series(pca.components_[0]) # sacamos los loading scores de pc1\n",
    "loading_scores_sorted = loading_scores.abs().sort_values(ascending=False) #  y lo ordenamos por importancia, usando valores absolutos\n",
    "top_10_rows = loading_scores_sorted[:10]\n",
    "print(top_10_rows)"
   ]
  },
  {
   "cell_type": "markdown",
   "metadata": {},
   "source": [
    "vemos que todos ellos tienen valores muy similares, lo que nos indica que muchas entradas de datos han sido importantes a la hora de determinar la separación que existe entre nuestras variables y no ha sido decidida por unas pocas entradas del dataset.\n",
    "# Conclusión\n",
    "Este análisis es consecuente con el realizado en la parte de clusterización donde se decidió que el dataset podría ser dividio entre 3 y 4 clusters decantandonos al final por una división de 4 clusters. Además, la elección de 8 componentes principales para generar un modelo de regresión lineal también está en el rango de la horquilla de entre 6-9 variables según el estudio en la parte de regresión, decantandonos al final por un modelo con 6 variables. Vemos además que, entre las variables más importantes que componen nuestros  8 componentes principales esenciales para tener un buen modelo, están las variables que componen el modelo de regresión."
   ]
  },
  {
   "cell_type": "code",
   "execution_count": 52,
   "metadata": {},
   "outputs": [
    {
     "data": {
      "text/html": [
       "<div>\n",
       "<style scoped>\n",
       "    .dataframe tbody tr th:only-of-type {\n",
       "        vertical-align: middle;\n",
       "    }\n",
       "\n",
       "    .dataframe tbody tr th {\n",
       "        vertical-align: top;\n",
       "    }\n",
       "\n",
       "    .dataframe thead th {\n",
       "        text-align: right;\n",
       "    }\n",
       "</style>\n",
       "<table border=\"1\" class=\"dataframe\">\n",
       "  <thead>\n",
       "    <tr style=\"text-align: right;\">\n",
       "      <th></th>\n",
       "      <th>PC1</th>\n",
       "      <th>PC2</th>\n",
       "      <th>PC3</th>\n",
       "      <th>PC4</th>\n",
       "      <th>PC5</th>\n",
       "      <th>PC6</th>\n",
       "      <th>PC7</th>\n",
       "      <th>PC8</th>\n",
       "    </tr>\n",
       "  </thead>\n",
       "  <tbody>\n",
       "    <tr>\n",
       "      <th>energy_production</th>\n",
       "      <td>5.168468</td>\n",
       "      <td>24.898315</td>\n",
       "      <td>7.718913</td>\n",
       "      <td>48.995299</td>\n",
       "      <td>-10.502040</td>\n",
       "      <td>4.325086</td>\n",
       "      <td>-3.480173</td>\n",
       "      <td>2.935348</td>\n",
       "    </tr>\n",
       "    <tr>\n",
       "      <th>energy_consumption</th>\n",
       "      <td>17.696453</td>\n",
       "      <td>42.553262</td>\n",
       "      <td>6.866945</td>\n",
       "      <td>18.888875</td>\n",
       "      <td>-20.948001</td>\n",
       "      <td>5.996820</td>\n",
       "      <td>-6.228813</td>\n",
       "      <td>-6.587332</td>\n",
       "    </tr>\n",
       "    <tr>\n",
       "      <th>co2_emission</th>\n",
       "      <td>-4.844374</td>\n",
       "      <td>50.736291</td>\n",
       "      <td>20.649845</td>\n",
       "      <td>-6.359780</td>\n",
       "      <td>18.856222</td>\n",
       "      <td>-2.781524</td>\n",
       "      <td>4.604697</td>\n",
       "      <td>0.785901</td>\n",
       "    </tr>\n",
       "    <tr>\n",
       "      <th>eficiency</th>\n",
       "      <td>-6.527172</td>\n",
       "      <td>44.826549</td>\n",
       "      <td>11.903285</td>\n",
       "      <td>-35.864273</td>\n",
       "      <td>30.834497</td>\n",
       "      <td>-4.349186</td>\n",
       "      <td>7.320136</td>\n",
       "      <td>-9.763783</td>\n",
       "    </tr>\n",
       "    <tr>\n",
       "      <th>co2_pc</th>\n",
       "      <td>-43.438457</td>\n",
       "      <td>19.009583</td>\n",
       "      <td>28.308506</td>\n",
       "      <td>1.310785</td>\n",
       "      <td>-10.695770</td>\n",
       "      <td>-12.185435</td>\n",
       "      <td>-3.194370</td>\n",
       "      <td>25.066549</td>\n",
       "    </tr>\n",
       "    <tr>\n",
       "      <th>Energy_type_nuclear</th>\n",
       "      <td>3.502278</td>\n",
       "      <td>-22.823674</td>\n",
       "      <td>-17.280712</td>\n",
       "      <td>-6.973123</td>\n",
       "      <td>-0.541987</td>\n",
       "      <td>0.052096</td>\n",
       "      <td>-7.967986</td>\n",
       "      <td>0.250184</td>\n",
       "    </tr>\n",
       "    <tr>\n",
       "      <th>Energy_type_renewables_n_other</th>\n",
       "      <td>3.884124</td>\n",
       "      <td>-35.744162</td>\n",
       "      <td>-22.152781</td>\n",
       "      <td>-8.667348</td>\n",
       "      <td>-1.667323</td>\n",
       "      <td>1.413334</td>\n",
       "      <td>-16.067227</td>\n",
       "      <td>10.881537</td>\n",
       "    </tr>\n",
       "  </tbody>\n",
       "</table>\n",
       "</div>"
      ],
      "text/plain": [
       "                                      PC1        PC2        PC3        PC4  \\\n",
       "energy_production                5.168468  24.898315   7.718913  48.995299   \n",
       "energy_consumption              17.696453  42.553262   6.866945  18.888875   \n",
       "co2_emission                    -4.844374  50.736291  20.649845  -6.359780   \n",
       "eficiency                       -6.527172  44.826549  11.903285 -35.864273   \n",
       "co2_pc                         -43.438457  19.009583  28.308506   1.310785   \n",
       "Energy_type_nuclear              3.502278 -22.823674 -17.280712  -6.973123   \n",
       "Energy_type_renewables_n_other   3.884124 -35.744162 -22.152781  -8.667348   \n",
       "\n",
       "                                      PC5        PC6        PC7        PC8  \n",
       "energy_production              -10.502040   4.325086  -3.480173   2.935348  \n",
       "energy_consumption             -20.948001   5.996820  -6.228813  -6.587332  \n",
       "co2_emission                    18.856222  -2.781524   4.604697   0.785901  \n",
       "eficiency                       30.834497  -4.349186   7.320136  -9.763783  \n",
       "co2_pc                         -10.695770 -12.185435  -3.194370  25.066549  \n",
       "Energy_type_nuclear             -0.541987   0.052096  -7.967986   0.250184  \n",
       "Energy_type_renewables_n_other  -1.667323   1.413334 -16.067227  10.881537  "
      ]
     },
     "execution_count": 52,
     "metadata": {},
     "output_type": "execute_result"
    }
   ],
   "source": [
    "# variables elegidas para el modelo de regresión lineal junto con sus loading scores:\n",
    "df2 = pd.read_csv(\"/Users/fersaol/Library/CloudStorage/OneDrive-Personal/Documentos/MIS_COSAS_DE_THE_BRIDGE/Proyectos_Machine_Learning/co2_ml/src/data/processed/df_goldenvars.csv\")\n",
    "pca_df.loc[df2.columns[2:],:\"PC8\"]"
   ]
  }
 ],
 "metadata": {
  "kernelspec": {
   "display_name": "Python 3.10.4 ('thebridge_22')",
   "language": "python",
   "name": "python3"
  },
  "language_info": {
   "codemirror_mode": {
    "name": "ipython",
    "version": 3
   },
   "file_extension": ".py",
   "mimetype": "text/x-python",
   "name": "python",
   "nbconvert_exporter": "python",
   "pygments_lexer": "ipython3",
   "version": "3.10.4"
  },
  "orig_nbformat": 4,
  "vscode": {
   "interpreter": {
    "hash": "f4d036012801a11d2adfc166d63ca2422b9a5eef4932bd62775d12b6b2a43707"
   }
  }
 },
 "nbformat": 4,
 "nbformat_minor": 2
}
