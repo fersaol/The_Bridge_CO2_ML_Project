{
 "cells": [
  {
   "cell_type": "code",
   "execution_count": 1,
   "metadata": {},
   "outputs": [
    {
     "data": {
      "text/plain": [
       "['/Users/fersaol/Library/CloudStorage/OneDrive-Personal/Documentos/MIS_COSAS_DE_THE_BRIDGE/Proyectos_Machine_Learning/co2_ml/src/notebooks',\n",
       " '/Users/fersaol/.vscode/extensions/ms-toolsai.jupyter-2022.7.1002181843/pythonFiles',\n",
       " '/Users/fersaol/.vscode/extensions/ms-toolsai.jupyter-2022.7.1002181843/pythonFiles/lib/python',\n",
       " '/Users/fersaol/opt/miniconda3/envs/thebridge_22/lib/python310.zip',\n",
       " '/Users/fersaol/opt/miniconda3/envs/thebridge_22/lib/python3.10',\n",
       " '/Users/fersaol/opt/miniconda3/envs/thebridge_22/lib/python3.10/lib-dynload',\n",
       " '',\n",
       " '/Users/fersaol/opt/miniconda3/envs/thebridge_22/lib/python3.10/site-packages',\n",
       " '/Users/fersaol/Library/CloudStorage/OneDrive-Personal/Documentos/MIS_COSAS_DE_THE_BRIDGE/Proyectos_Machine_Learning/co2_ml/src/utils']"
      ]
     },
     "execution_count": 1,
     "metadata": {},
     "output_type": "execute_result"
    }
   ],
   "source": [
    "import sys\n",
    "sys.path.append(\"/Users/fersaol/Library/CloudStorage/OneDrive-Personal/Documentos/MIS_COSAS_DE_THE_BRIDGE/Proyectos_Machine_Learning/co2_ml/src/utils\")\n",
    "sys.path"
   ]
  },
  {
   "cell_type": "code",
   "execution_count": 2,
   "metadata": {},
   "outputs": [
    {
     "name": "stdout",
     "output_type": "stream",
     "text": [
      "Hey!, el código ha sido importado correctamente 🥳\n"
     ]
    }
   ],
   "source": [
    "import co2_functions as co2\n",
    "import matplotlib.pyplot as plt"
   ]
  },
  {
   "cell_type": "code",
   "execution_count": 3,
   "metadata": {},
   "outputs": [
    {
     "name": "stdout",
     "output_type": "stream",
     "text": [
      "esta puta función se activa pero no funciona\n"
     ]
    }
   ],
   "source": [
    "class ClasePrueba:\n",
    "\n",
    "    \"\"\"definicion de la clase\"\"\"\n",
    "\n",
    "    def __init__(self):\n",
    "        pass\n",
    "    def funcion_prueba(self):\n",
    "        print(\"esta puta función se activa pero no funciona\")\n",
    "\n",
    "objeto = ClasePrueba()\n",
    "objeto.funcion_prueba()"
   ]
  },
  {
   "cell_type": "code",
   "execution_count": 4,
   "metadata": {},
   "outputs": [],
   "source": [
    "objeto1 = co2.Predicting()"
   ]
  },
  {
   "cell_type": "code",
   "execution_count": 5,
   "metadata": {},
   "outputs": [
    {
     "name": "stdout",
     "output_type": "stream",
     "text": [
      "estoy funcionando\n"
     ]
    }
   ],
   "source": [
    "objeto1.nueva_funcion()"
   ]
  },
  {
   "cell_type": "code",
   "execution_count": 7,
   "metadata": {},
   "outputs": [
    {
     "name": "stdout",
     "output_type": "stream",
     "text": [
      "que pasa tron\n"
     ]
    }
   ],
   "source": [
    "objeto2 = co2.Clustering()\n",
    "objeto2.otra_funcion()"
   ]
  }
 ],
 "metadata": {
  "kernelspec": {
   "display_name": "Python 3.10.4 ('thebridge_22')",
   "language": "python",
   "name": "python3"
  },
  "language_info": {
   "codemirror_mode": {
    "name": "ipython",
    "version": 3
   },
   "file_extension": ".py",
   "mimetype": "text/x-python",
   "name": "python",
   "nbconvert_exporter": "python",
   "pygments_lexer": "ipython3",
   "version": "3.10.4"
  },
  "orig_nbformat": 4,
  "vscode": {
   "interpreter": {
    "hash": "f4d036012801a11d2adfc166d63ca2422b9a5eef4932bd62775d12b6b2a43707"
   }
  }
 },
 "nbformat": 4,
 "nbformat_minor": 2
}
