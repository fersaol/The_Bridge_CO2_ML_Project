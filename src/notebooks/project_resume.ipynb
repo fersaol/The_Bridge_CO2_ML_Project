{
 "cells": [
  {
   "cell_type": "code",
   "execution_count": null,
   "metadata": {},
   "outputs": [],
   "source": []
  }
 ],
 "metadata": {
  "kernelspec": {
   "display_name": "Python 3.10.4 ('thebridge_22')",
   "language": "python",
   "name": "python3"
  },
  "language_info": {
   "name": "python",
   "version": "3.10.4"
  },
  "orig_nbformat": 4,
  "vscode": {
   "interpreter": {
    "hash": "f4d036012801a11d2adfc166d63ca2422b9a5eef4932bd62775d12b6b2a43707"
   }
  }
 },
 "nbformat": 4,
 "nbformat_minor": 2
}
