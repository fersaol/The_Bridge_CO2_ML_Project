{
 "cells": [
  {
   "cell_type": "code",
   "execution_count": 1,
   "metadata": {},
   "outputs": [
    {
     "name": "stdout",
     "output_type": "stream",
     "text": [
      "Hey!, el módulo co2 ha sido importado correctamente 🥳\n"
     ]
    }
   ],
   "source": [
    "import sys\n",
    "sys.path.append(r\"C:\\Users\\ferna\\OneDrive\\Documentos\\MIS_COSAS_DE_THE_BRIDGE\\Proyectos_Machine_Learning\\co2_ml\\src\\utils\")\n",
    "\n",
    "from co2_functions import Predicting\n",
    "import pandas as pd\n",
    "import numpy as np\n",
    "import plotly.express as px\n",
    "import matplotlib.pyplot as plt\n",
    "import seaborn as sns\n",
    "from sklearn.compose import make_column_transformer\n",
    "from sklearn.preprocessing import OneHotEncoder, PowerTransformer, RobustScaler\n",
    "import scipy.stats as ss\n",
    "from statsmodels.stats.outliers_influence import variance_inflation_factor\n",
    "from statsmodels.tools.tools import add_constant\n",
    "import statsmodels.api as sm\n",
    "from sklearn.model_selection import train_test_split, cross_val_score,cross_val_predict\n",
    "from sklearn.feature_selection import RFECV\n",
    "from sklearn.linear_model import LinearRegression\n",
    "from sklearn.metrics import r2_score,mean_absolute_error,mean_absolute_percentage_error,mean_squared_error"
   ]
  },
  {
   "cell_type": "markdown",
   "metadata": {},
   "source": [
    "# Cargamos los datos:"
   ]
  },
  {
   "cell_type": "code",
   "execution_count": 2,
   "metadata": {},
   "outputs": [
    {
     "data": {
      "text/html": [
       "<div>\n",
       "<style scoped>\n",
       "    .dataframe tbody tr th:only-of-type {\n",
       "        vertical-align: middle;\n",
       "    }\n",
       "\n",
       "    .dataframe tbody tr th {\n",
       "        vertical-align: top;\n",
       "    }\n",
       "\n",
       "    .dataframe thead th {\n",
       "        text-align: right;\n",
       "    }\n",
       "</style>\n",
       "<table border=\"1\" class=\"dataframe\">\n",
       "  <thead>\n",
       "    <tr style=\"text-align: right;\">\n",
       "      <th></th>\n",
       "      <th>GDP</th>\n",
       "      <th>Population</th>\n",
       "      <th>Energy_production</th>\n",
       "      <th>Energy_consumption</th>\n",
       "      <th>CO2_emission</th>\n",
       "      <th>per_capita_production</th>\n",
       "      <th>Energy_intensity_by_GDP</th>\n",
       "      <th>balance</th>\n",
       "      <th>eficiency</th>\n",
       "      <th>energy_dependecy</th>\n",
       "      <th>use_intensity_pc</th>\n",
       "      <th>co2_pc</th>\n",
       "      <th>latitude</th>\n",
       "      <th>longitude</th>\n",
       "      <th>Year</th>\n",
       "      <th>Country</th>\n",
       "      <th>Energy_type</th>\n",
       "      <th>CODE_x</th>\n",
       "      <th>continent</th>\n",
       "    </tr>\n",
       "  </thead>\n",
       "  <tbody>\n",
       "    <tr>\n",
       "      <th>0</th>\n",
       "      <td>279.389</td>\n",
       "      <td>15182.60</td>\n",
       "      <td>0.150</td>\n",
       "      <td>0.155</td>\n",
       "      <td>0.0</td>\n",
       "      <td>104.341</td>\n",
       "      <td>5.670</td>\n",
       "      <td>-0.005</td>\n",
       "      <td>0.0</td>\n",
       "      <td>0.001</td>\n",
       "      <td>0.0</td>\n",
       "      <td>0.0</td>\n",
       "      <td>6.424</td>\n",
       "      <td>-66.59</td>\n",
       "      <td>1980-01-01</td>\n",
       "      <td>Venezuela</td>\n",
       "      <td>renewables_n_other</td>\n",
       "      <td>VEN</td>\n",
       "      <td>South America</td>\n",
       "    </tr>\n",
       "    <tr>\n",
       "      <th>1</th>\n",
       "      <td>279.389</td>\n",
       "      <td>15182.60</td>\n",
       "      <td>5.000</td>\n",
       "      <td>0.812</td>\n",
       "      <td>0.0</td>\n",
       "      <td>104.341</td>\n",
       "      <td>5.670</td>\n",
       "      <td>4.188</td>\n",
       "      <td>0.0</td>\n",
       "      <td>0.003</td>\n",
       "      <td>0.0</td>\n",
       "      <td>0.0</td>\n",
       "      <td>6.424</td>\n",
       "      <td>-66.59</td>\n",
       "      <td>1980-01-01</td>\n",
       "      <td>Venezuela</td>\n",
       "      <td>petroleum_n_other_liquids</td>\n",
       "      <td>VEN</td>\n",
       "      <td>South America</td>\n",
       "    </tr>\n",
       "    <tr>\n",
       "      <th>2</th>\n",
       "      <td>279.389</td>\n",
       "      <td>15182.60</td>\n",
       "      <td>0.616</td>\n",
       "      <td>0.616</td>\n",
       "      <td>0.0</td>\n",
       "      <td>104.341</td>\n",
       "      <td>5.670</td>\n",
       "      <td>0.000</td>\n",
       "      <td>0.0</td>\n",
       "      <td>0.002</td>\n",
       "      <td>0.0</td>\n",
       "      <td>0.0</td>\n",
       "      <td>6.424</td>\n",
       "      <td>-66.59</td>\n",
       "      <td>1980-01-01</td>\n",
       "      <td>Venezuela</td>\n",
       "      <td>natural_gas</td>\n",
       "      <td>VEN</td>\n",
       "      <td>South America</td>\n",
       "    </tr>\n",
       "    <tr>\n",
       "      <th>3</th>\n",
       "      <td>279.389</td>\n",
       "      <td>15182.60</td>\n",
       "      <td>0.001</td>\n",
       "      <td>0.002</td>\n",
       "      <td>0.0</td>\n",
       "      <td>104.341</td>\n",
       "      <td>5.670</td>\n",
       "      <td>-0.000</td>\n",
       "      <td>0.0</td>\n",
       "      <td>0.000</td>\n",
       "      <td>0.0</td>\n",
       "      <td>0.0</td>\n",
       "      <td>6.424</td>\n",
       "      <td>-66.59</td>\n",
       "      <td>1980-01-01</td>\n",
       "      <td>Venezuela</td>\n",
       "      <td>coal</td>\n",
       "      <td>VEN</td>\n",
       "      <td>South America</td>\n",
       "    </tr>\n",
       "    <tr>\n",
       "      <th>4</th>\n",
       "      <td>278.376</td>\n",
       "      <td>15597.88</td>\n",
       "      <td>0.156</td>\n",
       "      <td>0.161</td>\n",
       "      <td>0.0</td>\n",
       "      <td>110.257</td>\n",
       "      <td>6.178</td>\n",
       "      <td>-0.005</td>\n",
       "      <td>0.0</td>\n",
       "      <td>0.001</td>\n",
       "      <td>0.0</td>\n",
       "      <td>0.0</td>\n",
       "      <td>6.424</td>\n",
       "      <td>-66.59</td>\n",
       "      <td>1981-01-01</td>\n",
       "      <td>Venezuela</td>\n",
       "      <td>renewables_n_other</td>\n",
       "      <td>VEN</td>\n",
       "      <td>South America</td>\n",
       "    </tr>\n",
       "  </tbody>\n",
       "</table>\n",
       "</div>"
      ],
      "text/plain": [
       "       GDP  Population  Energy_production  Energy_consumption  CO2_emission  \\\n",
       "0  279.389    15182.60              0.150               0.155           0.0   \n",
       "1  279.389    15182.60              5.000               0.812           0.0   \n",
       "2  279.389    15182.60              0.616               0.616           0.0   \n",
       "3  279.389    15182.60              0.001               0.002           0.0   \n",
       "4  278.376    15597.88              0.156               0.161           0.0   \n",
       "\n",
       "   per_capita_production  Energy_intensity_by_GDP  balance  eficiency  \\\n",
       "0                104.341                    5.670   -0.005        0.0   \n",
       "1                104.341                    5.670    4.188        0.0   \n",
       "2                104.341                    5.670    0.000        0.0   \n",
       "3                104.341                    5.670   -0.000        0.0   \n",
       "4                110.257                    6.178   -0.005        0.0   \n",
       "\n",
       "   energy_dependecy  use_intensity_pc  co2_pc  latitude  longitude  \\\n",
       "0             0.001               0.0     0.0     6.424     -66.59   \n",
       "1             0.003               0.0     0.0     6.424     -66.59   \n",
       "2             0.002               0.0     0.0     6.424     -66.59   \n",
       "3             0.000               0.0     0.0     6.424     -66.59   \n",
       "4             0.001               0.0     0.0     6.424     -66.59   \n",
       "\n",
       "         Year    Country                Energy_type CODE_x      continent  \n",
       "0  1980-01-01  Venezuela         renewables_n_other    VEN  South America  \n",
       "1  1980-01-01  Venezuela  petroleum_n_other_liquids    VEN  South America  \n",
       "2  1980-01-01  Venezuela                natural_gas    VEN  South America  \n",
       "3  1980-01-01  Venezuela                       coal    VEN  South America  \n",
       "4  1981-01-01  Venezuela         renewables_n_other    VEN  South America  "
      ]
     },
     "execution_count": 2,
     "metadata": {},
     "output_type": "execute_result"
    }
   ],
   "source": [
    "pathmac = \"/Users/fersaol/Library/CloudStorage/OneDrive-Personal/Documentos/MIS_COSAS_DE_THE_BRIDGE/Proyectos_Machine_Learning/co2_ml/src/data/processed/df_v3.csv\"\n",
    "pathwin = r\"C:\\Users\\ferna\\OneDrive\\Documentos\\MIS_COSAS_DE_THE_BRIDGE\\Proyectos_Machine_Learning\\co2_ml\\src\\data\\processed\\df_v3.csv\"\n",
    "df = pd.read_csv(pathwin)\n",
    "df.head()"
   ]
  },
  {
   "cell_type": "code",
   "execution_count": 3,
   "metadata": {},
   "outputs": [
    {
     "name": "stdout",
     "output_type": "stream",
     "text": [
      "<class 'pandas.core.frame.DataFrame'>\n",
      "RangeIndex: 6484 entries, 0 to 6483\n",
      "Data columns (total 19 columns):\n",
      " #   Column                   Non-Null Count  Dtype  \n",
      "---  ------                   --------------  -----  \n",
      " 0   GDP                      6484 non-null   float64\n",
      " 1   Population               6484 non-null   float64\n",
      " 2   Energy_production        6484 non-null   float64\n",
      " 3   Energy_consumption       6484 non-null   float64\n",
      " 4   CO2_emission             6484 non-null   float64\n",
      " 5   per_capita_production    6484 non-null   float64\n",
      " 6   Energy_intensity_by_GDP  6484 non-null   float64\n",
      " 7   balance                  6484 non-null   float64\n",
      " 8   eficiency                6484 non-null   float64\n",
      " 9   energy_dependecy         6484 non-null   float64\n",
      " 10  use_intensity_pc         6484 non-null   float64\n",
      " 11  co2_pc                   6484 non-null   float64\n",
      " 12  latitude                 6484 non-null   float64\n",
      " 13  longitude                6484 non-null   float64\n",
      " 14  Year                     6484 non-null   object \n",
      " 15  Country                  6484 non-null   object \n",
      " 16  Energy_type              6484 non-null   object \n",
      " 17  CODE_x                   6484 non-null   object \n",
      " 18  continent                6484 non-null   object \n",
      "dtypes: float64(14), object(5)\n",
      "memory usage: 962.6+ KB\n"
     ]
    }
   ],
   "source": [
    "df.info()"
   ]
  },
  {
   "cell_type": "code",
   "execution_count": 3,
   "metadata": {},
   "outputs": [
    {
     "data": {
      "text/html": [
       "<div>\n",
       "<style scoped>\n",
       "    .dataframe tbody tr th:only-of-type {\n",
       "        vertical-align: middle;\n",
       "    }\n",
       "\n",
       "    .dataframe tbody tr th {\n",
       "        vertical-align: top;\n",
       "    }\n",
       "\n",
       "    .dataframe thead th {\n",
       "        text-align: right;\n",
       "    }\n",
       "</style>\n",
       "<table border=\"1\" class=\"dataframe\">\n",
       "  <thead>\n",
       "    <tr style=\"text-align: right;\">\n",
       "      <th></th>\n",
       "      <th>GDP</th>\n",
       "      <th>Population</th>\n",
       "      <th>Energy_production</th>\n",
       "      <th>Energy_consumption</th>\n",
       "      <th>CO2_emission</th>\n",
       "      <th>per_capita_production</th>\n",
       "      <th>Energy_intensity_by_GDP</th>\n",
       "      <th>balance</th>\n",
       "      <th>eficiency</th>\n",
       "      <th>energy_dependecy</th>\n",
       "      <th>use_intensity_pc</th>\n",
       "      <th>co2_pc</th>\n",
       "      <th>Year</th>\n",
       "      <th>Country</th>\n",
       "      <th>Energy_type</th>\n",
       "    </tr>\n",
       "  </thead>\n",
       "  <tbody>\n",
       "    <tr>\n",
       "      <th>0</th>\n",
       "      <td>279.389</td>\n",
       "      <td>15182.60</td>\n",
       "      <td>0.150</td>\n",
       "      <td>0.155</td>\n",
       "      <td>0.0</td>\n",
       "      <td>104.341</td>\n",
       "      <td>5.670</td>\n",
       "      <td>-0.005</td>\n",
       "      <td>0.0</td>\n",
       "      <td>0.001</td>\n",
       "      <td>0.0</td>\n",
       "      <td>0.0</td>\n",
       "      <td>1980-01-01</td>\n",
       "      <td>Venezuela</td>\n",
       "      <td>renewables_n_other</td>\n",
       "    </tr>\n",
       "    <tr>\n",
       "      <th>1</th>\n",
       "      <td>279.389</td>\n",
       "      <td>15182.60</td>\n",
       "      <td>5.000</td>\n",
       "      <td>0.812</td>\n",
       "      <td>0.0</td>\n",
       "      <td>104.341</td>\n",
       "      <td>5.670</td>\n",
       "      <td>4.188</td>\n",
       "      <td>0.0</td>\n",
       "      <td>0.003</td>\n",
       "      <td>0.0</td>\n",
       "      <td>0.0</td>\n",
       "      <td>1980-01-01</td>\n",
       "      <td>Venezuela</td>\n",
       "      <td>petroleum_n_other_liquids</td>\n",
       "    </tr>\n",
       "    <tr>\n",
       "      <th>2</th>\n",
       "      <td>279.389</td>\n",
       "      <td>15182.60</td>\n",
       "      <td>0.616</td>\n",
       "      <td>0.616</td>\n",
       "      <td>0.0</td>\n",
       "      <td>104.341</td>\n",
       "      <td>5.670</td>\n",
       "      <td>0.000</td>\n",
       "      <td>0.0</td>\n",
       "      <td>0.002</td>\n",
       "      <td>0.0</td>\n",
       "      <td>0.0</td>\n",
       "      <td>1980-01-01</td>\n",
       "      <td>Venezuela</td>\n",
       "      <td>natural_gas</td>\n",
       "    </tr>\n",
       "    <tr>\n",
       "      <th>3</th>\n",
       "      <td>279.389</td>\n",
       "      <td>15182.60</td>\n",
       "      <td>0.001</td>\n",
       "      <td>0.002</td>\n",
       "      <td>0.0</td>\n",
       "      <td>104.341</td>\n",
       "      <td>5.670</td>\n",
       "      <td>-0.000</td>\n",
       "      <td>0.0</td>\n",
       "      <td>0.000</td>\n",
       "      <td>0.0</td>\n",
       "      <td>0.0</td>\n",
       "      <td>1980-01-01</td>\n",
       "      <td>Venezuela</td>\n",
       "      <td>coal</td>\n",
       "    </tr>\n",
       "    <tr>\n",
       "      <th>4</th>\n",
       "      <td>278.376</td>\n",
       "      <td>15597.88</td>\n",
       "      <td>0.156</td>\n",
       "      <td>0.161</td>\n",
       "      <td>0.0</td>\n",
       "      <td>110.257</td>\n",
       "      <td>6.178</td>\n",
       "      <td>-0.005</td>\n",
       "      <td>0.0</td>\n",
       "      <td>0.001</td>\n",
       "      <td>0.0</td>\n",
       "      <td>0.0</td>\n",
       "      <td>1981-01-01</td>\n",
       "      <td>Venezuela</td>\n",
       "      <td>renewables_n_other</td>\n",
       "    </tr>\n",
       "  </tbody>\n",
       "</table>\n",
       "</div>"
      ],
      "text/plain": [
       "       GDP  Population  Energy_production  Energy_consumption  CO2_emission  \\\n",
       "0  279.389    15182.60              0.150               0.155           0.0   \n",
       "1  279.389    15182.60              5.000               0.812           0.0   \n",
       "2  279.389    15182.60              0.616               0.616           0.0   \n",
       "3  279.389    15182.60              0.001               0.002           0.0   \n",
       "4  278.376    15597.88              0.156               0.161           0.0   \n",
       "\n",
       "   per_capita_production  Energy_intensity_by_GDP  balance  eficiency  \\\n",
       "0                104.341                    5.670   -0.005        0.0   \n",
       "1                104.341                    5.670    4.188        0.0   \n",
       "2                104.341                    5.670    0.000        0.0   \n",
       "3                104.341                    5.670   -0.000        0.0   \n",
       "4                110.257                    6.178   -0.005        0.0   \n",
       "\n",
       "   energy_dependecy  use_intensity_pc  co2_pc        Year    Country  \\\n",
       "0             0.001               0.0     0.0  1980-01-01  Venezuela   \n",
       "1             0.003               0.0     0.0  1980-01-01  Venezuela   \n",
       "2             0.002               0.0     0.0  1980-01-01  Venezuela   \n",
       "3             0.000               0.0     0.0  1980-01-01  Venezuela   \n",
       "4             0.001               0.0     0.0  1981-01-01  Venezuela   \n",
       "\n",
       "                 Energy_type  \n",
       "0         renewables_n_other  \n",
       "1  petroleum_n_other_liquids  \n",
       "2                natural_gas  \n",
       "3                       coal  \n",
       "4         renewables_n_other  "
      ]
     },
     "execution_count": 3,
     "metadata": {},
     "output_type": "execute_result"
    }
   ],
   "source": [
    "df_2 = df.drop(columns=[\"continent\",\"CODE_x\",\"latitude\",\"longitude\"])\n",
    "df_2.head()"
   ]
  },
  {
   "cell_type": "code",
   "execution_count": 4,
   "metadata": {},
   "outputs": [
    {
     "data": {
      "text/html": [
       "<div>\n",
       "<style scoped>\n",
       "    .dataframe tbody tr th:only-of-type {\n",
       "        vertical-align: middle;\n",
       "    }\n",
       "\n",
       "    .dataframe tbody tr th {\n",
       "        vertical-align: top;\n",
       "    }\n",
       "\n",
       "    .dataframe thead th {\n",
       "        text-align: right;\n",
       "    }\n",
       "</style>\n",
       "<table border=\"1\" class=\"dataframe\">\n",
       "  <thead>\n",
       "    <tr style=\"text-align: right;\">\n",
       "      <th></th>\n",
       "      <th>GDP</th>\n",
       "      <th>Population</th>\n",
       "      <th>Energy_production</th>\n",
       "      <th>Energy_consumption</th>\n",
       "      <th>CO2_emission</th>\n",
       "      <th>per_capita_production</th>\n",
       "      <th>Energy_intensity_by_GDP</th>\n",
       "      <th>balance</th>\n",
       "      <th>eficiency</th>\n",
       "      <th>energy_dependecy</th>\n",
       "      <th>use_intensity_pc</th>\n",
       "      <th>co2_pc</th>\n",
       "      <th>Year</th>\n",
       "      <th>Country</th>\n",
       "      <th>Energy_type</th>\n",
       "      <th>energy_type</th>\n",
       "    </tr>\n",
       "  </thead>\n",
       "  <tbody>\n",
       "    <tr>\n",
       "      <th>0</th>\n",
       "      <td>279.389</td>\n",
       "      <td>15182.60</td>\n",
       "      <td>0.150</td>\n",
       "      <td>0.155</td>\n",
       "      <td>0.0</td>\n",
       "      <td>104.341</td>\n",
       "      <td>5.670</td>\n",
       "      <td>-0.005</td>\n",
       "      <td>0.0</td>\n",
       "      <td>0.001</td>\n",
       "      <td>0.0</td>\n",
       "      <td>0.0</td>\n",
       "      <td>1980-01-01</td>\n",
       "      <td>Venezuela</td>\n",
       "      <td>renewables_n_other</td>\n",
       "      <td>0</td>\n",
       "    </tr>\n",
       "    <tr>\n",
       "      <th>1</th>\n",
       "      <td>279.389</td>\n",
       "      <td>15182.60</td>\n",
       "      <td>5.000</td>\n",
       "      <td>0.812</td>\n",
       "      <td>0.0</td>\n",
       "      <td>104.341</td>\n",
       "      <td>5.670</td>\n",
       "      <td>4.188</td>\n",
       "      <td>0.0</td>\n",
       "      <td>0.003</td>\n",
       "      <td>0.0</td>\n",
       "      <td>0.0</td>\n",
       "      <td>1980-01-01</td>\n",
       "      <td>Venezuela</td>\n",
       "      <td>petroleum_n_other_liquids</td>\n",
       "      <td>3</td>\n",
       "    </tr>\n",
       "    <tr>\n",
       "      <th>2</th>\n",
       "      <td>279.389</td>\n",
       "      <td>15182.60</td>\n",
       "      <td>0.616</td>\n",
       "      <td>0.616</td>\n",
       "      <td>0.0</td>\n",
       "      <td>104.341</td>\n",
       "      <td>5.670</td>\n",
       "      <td>0.000</td>\n",
       "      <td>0.0</td>\n",
       "      <td>0.002</td>\n",
       "      <td>0.0</td>\n",
       "      <td>0.0</td>\n",
       "      <td>1980-01-01</td>\n",
       "      <td>Venezuela</td>\n",
       "      <td>natural_gas</td>\n",
       "      <td>2</td>\n",
       "    </tr>\n",
       "    <tr>\n",
       "      <th>3</th>\n",
       "      <td>279.389</td>\n",
       "      <td>15182.60</td>\n",
       "      <td>0.001</td>\n",
       "      <td>0.002</td>\n",
       "      <td>0.0</td>\n",
       "      <td>104.341</td>\n",
       "      <td>5.670</td>\n",
       "      <td>-0.000</td>\n",
       "      <td>0.0</td>\n",
       "      <td>0.000</td>\n",
       "      <td>0.0</td>\n",
       "      <td>0.0</td>\n",
       "      <td>1980-01-01</td>\n",
       "      <td>Venezuela</td>\n",
       "      <td>coal</td>\n",
       "      <td>4</td>\n",
       "    </tr>\n",
       "    <tr>\n",
       "      <th>4</th>\n",
       "      <td>278.376</td>\n",
       "      <td>15597.88</td>\n",
       "      <td>0.156</td>\n",
       "      <td>0.161</td>\n",
       "      <td>0.0</td>\n",
       "      <td>110.257</td>\n",
       "      <td>6.178</td>\n",
       "      <td>-0.005</td>\n",
       "      <td>0.0</td>\n",
       "      <td>0.001</td>\n",
       "      <td>0.0</td>\n",
       "      <td>0.0</td>\n",
       "      <td>1981-01-01</td>\n",
       "      <td>Venezuela</td>\n",
       "      <td>renewables_n_other</td>\n",
       "      <td>0</td>\n",
       "    </tr>\n",
       "  </tbody>\n",
       "</table>\n",
       "</div>"
      ],
      "text/plain": [
       "       GDP  Population  Energy_production  Energy_consumption  CO2_emission  \\\n",
       "0  279.389    15182.60              0.150               0.155           0.0   \n",
       "1  279.389    15182.60              5.000               0.812           0.0   \n",
       "2  279.389    15182.60              0.616               0.616           0.0   \n",
       "3  279.389    15182.60              0.001               0.002           0.0   \n",
       "4  278.376    15597.88              0.156               0.161           0.0   \n",
       "\n",
       "   per_capita_production  Energy_intensity_by_GDP  balance  eficiency  \\\n",
       "0                104.341                    5.670   -0.005        0.0   \n",
       "1                104.341                    5.670    4.188        0.0   \n",
       "2                104.341                    5.670    0.000        0.0   \n",
       "3                104.341                    5.670   -0.000        0.0   \n",
       "4                110.257                    6.178   -0.005        0.0   \n",
       "\n",
       "   energy_dependecy  use_intensity_pc  co2_pc        Year    Country  \\\n",
       "0             0.001               0.0     0.0  1980-01-01  Venezuela   \n",
       "1             0.003               0.0     0.0  1980-01-01  Venezuela   \n",
       "2             0.002               0.0     0.0  1980-01-01  Venezuela   \n",
       "3             0.000               0.0     0.0  1980-01-01  Venezuela   \n",
       "4             0.001               0.0     0.0  1981-01-01  Venezuela   \n",
       "\n",
       "                 Energy_type  energy_type  \n",
       "0         renewables_n_other            0  \n",
       "1  petroleum_n_other_liquids            3  \n",
       "2                natural_gas            2  \n",
       "3                       coal            4  \n",
       "4         renewables_n_other            0  "
      ]
     },
     "execution_count": 4,
     "metadata": {},
     "output_type": "execute_result"
    }
   ],
   "source": [
    "own_scale = {\"renewables_n_other\":0,\"nuclear\":1,\"natural_gas\":2,\"petroleum_n_other_liquids\":3,\"coal\":4}\n",
    "df_2 = df_2.copy()\n",
    "df_2[\"energy_type\"] = df.Energy_type.map(own_scale)\n",
    "df_2.head()"
   ]
  },
  {
   "cell_type": "code",
   "execution_count": 5,
   "metadata": {},
   "outputs": [],
   "source": [
    "# reorganizamos las columnas y las renombramos por facilidad de uso:\n",
    "df_2 = df_2.drop(columns=\"Energy_type\")\n",
    "df_2 = df_2.rename(columns=dict(zip(df_2.columns,df_2.columns.str.lower())))\n",
    "df_2 = df_2[[\"gdp\",\"population\",\"energy_production\",\"energy_consumption\",\n",
    "            \"co2_emission\",\"per_capita_production\",\"energy_intensity_by_gdp\",\n",
    "            \"balance\",\"eficiency\",\"energy_dependecy\",\"use_intensity_pc\",\n",
    "            \"co2_pc\",\"energy_type\",\"year\",\"country\"]]"
   ]
  },
  {
   "cell_type": "markdown",
   "metadata": {},
   "source": [
    "Vamos a realizar la regresión para uno de los países solamente, estableciendo las fechas como indices"
   ]
  },
  {
   "cell_type": "code",
   "execution_count": 6,
   "metadata": {},
   "outputs": [
    {
     "data": {
      "text/html": [
       "<div>\n",
       "<style scoped>\n",
       "    .dataframe tbody tr th:only-of-type {\n",
       "        vertical-align: middle;\n",
       "    }\n",
       "\n",
       "    .dataframe tbody tr th {\n",
       "        vertical-align: top;\n",
       "    }\n",
       "\n",
       "    .dataframe thead th {\n",
       "        text-align: right;\n",
       "    }\n",
       "</style>\n",
       "<table border=\"1\" class=\"dataframe\">\n",
       "  <thead>\n",
       "    <tr style=\"text-align: right;\">\n",
       "      <th></th>\n",
       "      <th>gdp</th>\n",
       "      <th>population</th>\n",
       "      <th>energy_production</th>\n",
       "      <th>energy_consumption</th>\n",
       "      <th>co2_emission</th>\n",
       "      <th>per_capita_production</th>\n",
       "      <th>energy_intensity_by_gdp</th>\n",
       "      <th>balance</th>\n",
       "      <th>eficiency</th>\n",
       "      <th>energy_dependecy</th>\n",
       "      <th>use_intensity_pc</th>\n",
       "      <th>co2_pc</th>\n",
       "      <th>energy_type</th>\n",
       "      <th>country</th>\n",
       "    </tr>\n",
       "    <tr>\n",
       "      <th>year</th>\n",
       "      <th></th>\n",
       "      <th></th>\n",
       "      <th></th>\n",
       "      <th></th>\n",
       "      <th></th>\n",
       "      <th></th>\n",
       "      <th></th>\n",
       "      <th></th>\n",
       "      <th></th>\n",
       "      <th></th>\n",
       "      <th></th>\n",
       "      <th></th>\n",
       "      <th></th>\n",
       "      <th></th>\n",
       "    </tr>\n",
       "  </thead>\n",
       "  <tbody>\n",
       "    <tr>\n",
       "      <th>1980-01-01</th>\n",
       "      <td>684.621</td>\n",
       "      <td>1001920.0</td>\n",
       "      <td>0.599</td>\n",
       "      <td>0.592</td>\n",
       "      <td>0.0</td>\n",
       "      <td>19.071</td>\n",
       "      <td>27.909</td>\n",
       "      <td>0.006</td>\n",
       "      <td>0.0</td>\n",
       "      <td>0.001</td>\n",
       "      <td>0.0</td>\n",
       "      <td>0.0</td>\n",
       "      <td>0</td>\n",
       "      <td>China</td>\n",
       "    </tr>\n",
       "    <tr>\n",
       "      <th>1980-01-01</th>\n",
       "      <td>684.621</td>\n",
       "      <td>1001920.0</td>\n",
       "      <td>4.548</td>\n",
       "      <td>4.124</td>\n",
       "      <td>0.0</td>\n",
       "      <td>19.071</td>\n",
       "      <td>27.909</td>\n",
       "      <td>0.424</td>\n",
       "      <td>0.0</td>\n",
       "      <td>0.006</td>\n",
       "      <td>0.0</td>\n",
       "      <td>0.0</td>\n",
       "      <td>3</td>\n",
       "      <td>China</td>\n",
       "    </tr>\n",
       "    <tr>\n",
       "      <th>1980-01-01</th>\n",
       "      <td>684.621</td>\n",
       "      <td>1001920.0</td>\n",
       "      <td>0.581</td>\n",
       "      <td>0.581</td>\n",
       "      <td>0.0</td>\n",
       "      <td>19.071</td>\n",
       "      <td>27.909</td>\n",
       "      <td>0.000</td>\n",
       "      <td>0.0</td>\n",
       "      <td>0.001</td>\n",
       "      <td>0.0</td>\n",
       "      <td>0.0</td>\n",
       "      <td>2</td>\n",
       "      <td>China</td>\n",
       "    </tr>\n",
       "  </tbody>\n",
       "</table>\n",
       "</div>"
      ],
      "text/plain": [
       "                gdp  population  energy_production  energy_consumption  \\\n",
       "year                                                                     \n",
       "1980-01-01  684.621   1001920.0              0.599               0.592   \n",
       "1980-01-01  684.621   1001920.0              4.548               4.124   \n",
       "1980-01-01  684.621   1001920.0              0.581               0.581   \n",
       "\n",
       "            co2_emission  per_capita_production  energy_intensity_by_gdp  \\\n",
       "year                                                                       \n",
       "1980-01-01           0.0                 19.071                   27.909   \n",
       "1980-01-01           0.0                 19.071                   27.909   \n",
       "1980-01-01           0.0                 19.071                   27.909   \n",
       "\n",
       "            balance  eficiency  energy_dependecy  use_intensity_pc  co2_pc  \\\n",
       "year                                                                         \n",
       "1980-01-01    0.006        0.0             0.001               0.0     0.0   \n",
       "1980-01-01    0.424        0.0             0.006               0.0     0.0   \n",
       "1980-01-01    0.000        0.0             0.001               0.0     0.0   \n",
       "\n",
       "            energy_type country  \n",
       "year                             \n",
       "1980-01-01            0   China  \n",
       "1980-01-01            3   China  \n",
       "1980-01-01            2   China  "
      ]
     },
     "execution_count": 6,
     "metadata": {},
     "output_type": "execute_result"
    }
   ],
   "source": [
    "df_china = df_2[df_2.country==\"China\"].set_index(\"year\").sort_index()\n",
    "df_china.head(3)"
   ]
  },
  {
   "cell_type": "markdown",
   "metadata": {},
   "source": [
    "Esta vez, aplicamos los algoritmos directamente:"
   ]
  },
  {
   "cell_type": "code",
   "execution_count": 7,
   "metadata": {},
   "outputs": [],
   "source": [
    "x = df_china.drop(columns=[\"eficiency\",\"country\"])\n",
    "y = df_china.eficiency\n",
    "x_train,x_test,y_train,y_test = train_test_split(x,y,test_size=0.2,random_state=1234)"
   ]
  },
  {
   "cell_type": "code",
   "execution_count": 8,
   "metadata": {},
   "outputs": [],
   "source": [
    "#Transformación con PowerTransformer\n",
    "power_trans = PowerTransformer()\n",
    "x_train = power_trans.fit_transform(x_train)\n",
    "x_train = pd.DataFrame(x_train,columns=power_trans.get_feature_names_out())\n",
    "x_test = power_trans.transform(x_test)\n",
    "x_test = pd.DataFrame(x_test,columns=power_trans.get_feature_names_out())"
   ]
  },
  {
   "cell_type": "markdown",
   "metadata": {},
   "source": [
    "Statsmodels necesita que la variable target también esté preprocesada porque de lo contrario obtenemos resultados muy pobres mientras que sklearn trabaja bien, por lo tanto creamos una variable \"y\" preprocesada para statsmodels:"
   ]
  },
  {
   "cell_type": "code",
   "execution_count": 9,
   "metadata": {},
   "outputs": [],
   "source": [
    "y_train_stats = power_trans.fit_transform(y_train.values.reshape(-1,1))\n",
    "y_test_stats = power_trans.fit_transform(y_test.values.reshape(-1,1))"
   ]
  },
  {
   "cell_type": "code",
   "execution_count": 14,
   "metadata": {},
   "outputs": [
    {
     "data": {
      "text/html": [
       "<table class=\"simpletable\">\n",
       "<tr>\n",
       "          <td>Model:</td>                 <td>OLS</td>       <td>Adj. R-squared (uncentered):</td>   <td>0.980</td>  \n",
       "</tr>\n",
       "<tr>\n",
       "    <td>Dependent Variable:</td>           <td>y</td>                    <td>AIC:</td>             <td>-150.5326</td>\n",
       "</tr>\n",
       "<tr>\n",
       "           <td>Date:</td>          <td>2022-08-17 17:50</td>             <td>BIC:</td>             <td>-117.4156</td>\n",
       "</tr>\n",
       "<tr>\n",
       "     <td>No. Observations:</td>           <td>150</td>              <td>Log-Likelihood:</td>        <td>86.266</td>  \n",
       "</tr>\n",
       "<tr>\n",
       "         <td>Df Model:</td>               <td>11</td>                <td>F-statistic:</td>           <td>669.1</td>  \n",
       "</tr>\n",
       "<tr>\n",
       "       <td>Df Residuals:</td>             <td>139</td>            <td>Prob (F-statistic):</td>     <td>1.72e-114</td>\n",
       "</tr>\n",
       "<tr>\n",
       "  <td>R-squared (uncentered):</td>       <td>0.981</td>                 <td>Scale:</td>            <td>0.020002</td> \n",
       "</tr>\n",
       "</table>\n",
       "<table class=\"simpletable\">\n",
       "<tr>\n",
       "    <td></td>     <th>Coef.</th>  <th>Std.Err.</th>    <th>t</th>     <th>P>|t|</th> <th>[0.025</th>  <th>0.975]</th> \n",
       "</tr>\n",
       "<tr>\n",
       "  <th>x1</th>    <td>0.2343</td>   <td>0.5167</td>  <td>0.4535</td>  <td>0.6509</td> <td>-0.7873</td> <td>1.2560</td> \n",
       "</tr>\n",
       "<tr>\n",
       "  <th>x2</th>    <td>-0.3217</td>  <td>0.2491</td>  <td>-1.2914</td> <td>0.1987</td> <td>-0.8141</td> <td>0.1708</td> \n",
       "</tr>\n",
       "<tr>\n",
       "  <th>x3</th>    <td>-0.4866</td>  <td>0.1220</td>  <td>-3.9883</td> <td>0.0001</td> <td>-0.7279</td> <td>-0.2454</td>\n",
       "</tr>\n",
       "<tr>\n",
       "  <th>x4</th>    <td>0.7179</td>   <td>0.1200</td>  <td>5.9836</td>  <td>0.0000</td> <td>0.4807</td>  <td>0.9552</td> \n",
       "</tr>\n",
       "<tr>\n",
       "  <th>x5</th>    <td>1.0176</td>   <td>0.0452</td>  <td>22.5279</td> <td>0.0000</td> <td>0.9282</td>  <td>1.1069</td> \n",
       "</tr>\n",
       "<tr>\n",
       "  <th>x6</th>    <td>-0.0731</td>  <td>0.2475</td>  <td>-0.2955</td> <td>0.7681</td> <td>-0.5625</td> <td>0.4162</td> \n",
       "</tr>\n",
       "<tr>\n",
       "  <th>x7</th>    <td>0.0856</td>   <td>0.1283</td>  <td>0.6670</td>  <td>0.5059</td> <td>-0.1681</td> <td>0.3392</td> \n",
       "</tr>\n",
       "<tr>\n",
       "  <th>x8</th>    <td>0.0493</td>   <td>0.0192</td>  <td>2.5674</td>  <td>0.0113</td> <td>0.0113</td>  <td>0.0872</td> \n",
       "</tr>\n",
       "<tr>\n",
       "  <th>x9</th>    <td>-0.4559</td>  <td>0.0566</td>  <td>-8.0517</td> <td>0.0000</td> <td>-0.5678</td> <td>-0.3439</td>\n",
       "</tr>\n",
       "<tr>\n",
       "  <th>const</th> <td>0.0000</td>   <td>0.0000</td>  <td>4.0063</td>  <td>0.0001</td> <td>0.0000</td>  <td>0.0000</td> \n",
       "</tr>\n",
       "<tr>\n",
       "  <th>x10</th>   <td>-0.0778</td>  <td>0.0271</td>  <td>-2.8715</td> <td>0.0047</td> <td>-0.1313</td> <td>-0.0242</td>\n",
       "</tr>\n",
       "<tr>\n",
       "  <th>x11</th>   <td>0.1619</td>   <td>0.0403</td>  <td>4.0224</td>  <td>0.0001</td> <td>0.0823</td>  <td>0.2415</td> \n",
       "</tr>\n",
       "</table>\n",
       "<table class=\"simpletable\">\n",
       "<tr>\n",
       "     <td>Omnibus:</td>    <td>6.614</td>  <td>Durbin-Watson:</td>           <td>2.277</td>       \n",
       "</tr>\n",
       "<tr>\n",
       "  <td>Prob(Omnibus):</td> <td>0.037</td> <td>Jarque-Bera (JB):</td>         <td>6.256</td>       \n",
       "</tr>\n",
       "<tr>\n",
       "       <td>Skew:</td>     <td>0.433</td>     <td>Prob(JB):</td>             <td>0.044</td>       \n",
       "</tr>\n",
       "<tr>\n",
       "     <td>Kurtosis:</td>   <td>3.501</td>  <td>Condition No.:</td>   <td>31116061935939198976</td>\n",
       "</tr>\n",
       "</table>"
      ],
      "text/plain": [
       "<class 'statsmodels.iolib.summary2.Summary'>\n",
       "\"\"\"\n",
       "                        Results: Ordinary least squares\n",
       "===============================================================================\n",
       "Model:                  OLS              Adj. R-squared (uncentered): 0.980    \n",
       "Dependent Variable:     y                AIC:                         -150.5326\n",
       "Date:                   2022-08-17 17:50 BIC:                         -117.4156\n",
       "No. Observations:       150              Log-Likelihood:              86.266   \n",
       "Df Model:               11               F-statistic:                 669.1    \n",
       "Df Residuals:           139              Prob (F-statistic):          1.72e-114\n",
       "R-squared (uncentered): 0.981            Scale:                       0.020002 \n",
       "------------------------------------------------------------------------------------\n",
       "             Coef.       Std.Err.         t         P>|t|        [0.025       0.975]\n",
       "------------------------------------------------------------------------------------\n",
       "x1           0.2343        0.5167       0.4535      0.6509      -0.7873       1.2560\n",
       "x2          -0.3217        0.2491      -1.2914      0.1987      -0.8141       0.1708\n",
       "x3          -0.4866        0.1220      -3.9883      0.0001      -0.7279      -0.2454\n",
       "x4           0.7179        0.1200       5.9836      0.0000       0.4807       0.9552\n",
       "x5           1.0176        0.0452      22.5279      0.0000       0.9282       1.1069\n",
       "x6          -0.0731        0.2475      -0.2955      0.7681      -0.5625       0.4162\n",
       "x7           0.0856        0.1283       0.6670      0.5059      -0.1681       0.3392\n",
       "x8           0.0493        0.0192       2.5674      0.0113       0.0113       0.0872\n",
       "x9          -0.4559        0.0566      -8.0517      0.0000      -0.5678      -0.3439\n",
       "const        0.0000        0.0000       4.0063      0.0001       0.0000       0.0000\n",
       "x10         -0.0778        0.0271      -2.8715      0.0047      -0.1313      -0.0242\n",
       "x11          0.1619        0.0403       4.0224      0.0001       0.0823       0.2415\n",
       "-------------------------------------------------------------------------------\n",
       "Omnibus:               6.614       Durbin-Watson:          2.277               \n",
       "Prob(Omnibus):         0.037       Jarque-Bera (JB):       6.256               \n",
       "Skew:                  0.433       Prob(JB):               0.044               \n",
       "Kurtosis:              3.501       Condition No.:          31116061935939198976\n",
       "===============================================================================\n",
       "* The condition number is large (3e+19). This might indicate             strong\n",
       "multicollinearity or other numerical problems.\n",
       "\"\"\""
      ]
     },
     "execution_count": 14,
     "metadata": {},
     "output_type": "execute_result"
    }
   ],
   "source": [
    "model = sm.OLS(y_train_stats,x_train.values)\n",
    "results = model.fit()\n",
    "results.summary2()"
   ]
  },
  {
   "cell_type": "code",
   "execution_count": 10,
   "metadata": {},
   "outputs": [
    {
     "data": {
      "image/png": "[encoded data removed]",
      "text/plain": [
       "<Figure size 720x360 with 1 Axes>"
      ]
     },
     "metadata": {
      "needs_background": "light"
     },
     "output_type": "display_data"
    }
   ],
   "source": [
    "Predicting.cross_val_regression(LinearRegression(),x_train,y_train,x_test,y_test,\"no\")"
   ]
  },
  {
   "cell_type": "markdown",
   "metadata": {},
   "source": [
    "Usando todas las variables obtenemos datos muy buenos con Linear Regression de sklearn y con ols de statsmodels. En statsmodels el r^2 se situa en 0.981 y en sklearn en 0.968.Veamos que nos sugiere la selección de variables automática de rfecv. Por otra parte, statsmodels nos dice que existen algunas de las variables que son estadísticamente iguales a 0 y por tanto podrían ser eliminadas del modelo, quedando igual o incluso mejorandolo. Veamos a que variables se refiere cada uno de ellos y realicemos sus modelos:"
   ]
  },
  {
   "cell_type": "code",
   "execution_count": 11,
   "metadata": {},
   "outputs": [
    {
     "name": "stdout",
     "output_type": "stream",
     "text": [
      "Número óptimo de variables: 5\n",
      "Variables a seleccionar: ['gdp', 'energy_production', 'energy_consumption', 'co2_emission', 'per_capita_production']\n",
      "El ranking de las variables es [1 3 1 1 1 1 2 7 4 8 6 5]\n",
      "============================================================\n",
      "r2: 0.9498034490987297\n",
      "mae: 7.922480455058246\n",
      "mse: 122.03287072084204\n",
      "rmse: 11.046848904590034\n"
     ]
    }
   ],
   "source": [
    "\n",
    "rfecv = RFECV(estimator=LinearRegression(),step=1,cv=10,scoring=\"r2\",n_jobs=-1)\n",
    "rfecv.fit(x_train,y_train)\n",
    "print(\"Número óptimo de variables: %d\" % rfecv.n_features_)\n",
    "print('Variables a seleccionar: %s' % list(x_train.columns[rfecv.support_]))\n",
    "print(f\"El ranking de las variables es {rfecv.ranking_}\")\n",
    "prediction =rfecv.predict(x_test)\n",
    "print(\"=\"*60)\n",
    "print(f\"r2: {r2_score(y_test,prediction)}\")\n",
    "print(f\"mae: {mean_absolute_error(y_test,prediction)}\")\n",
    "print(f\"mse: {mean_squared_error(y_test,prediction)}\")\n",
    "print(f\"rmse: {mean_squared_error(y_test,prediction)**(1/2)}\")"
   ]
  },
  {
   "cell_type": "markdown",
   "metadata": {},
   "source": [
    "Mediante RFECV el r2 es muy parecido que con 12 variables, así como el resto de datos que tienen un margen de empeoramiento asumible para la enorme simplificación que nos genera del modelo."
   ]
  },
  {
   "cell_type": "code",
   "execution_count": 12,
   "metadata": {},
   "outputs": [
    {
     "data": {
      "text/plain": [
       "['population',\n",
       " 'energy_intensity_by_gdp',\n",
       " 'balance',\n",
       " 'energy_dependecy',\n",
       " 'use_intensity_pc',\n",
       " 'co2_pc',\n",
       " 'energy_type']"
      ]
     },
     "execution_count": 12,
     "metadata": {},
     "output_type": "execute_result"
    }
   ],
   "source": [
    "rfecv_eliminacion = []\n",
    "for i in range(len(rfecv.ranking_)):\n",
    "    if rfecv.ranking_[i] != 1:\n",
    "        rfecv_eliminacion.append(x_train.columns[i])\n",
    "rfecv_eliminacion"
   ]
  },
  {
   "cell_type": "markdown",
   "metadata": {},
   "source": [
    "Realizamos el mismo modelo con statsmodels para mirar que datos nos ofrece, sobre todo en aic y bic, que son dos métricas muy interesantes:"
   ]
  },
  {
   "cell_type": "code",
   "execution_count": 13,
   "metadata": {},
   "outputs": [
    {
     "data": {
      "text/html": [
       "<table class=\"simpletable\">\n",
       "<tr>\n",
       "          <td>Model:</td>                 <td>OLS</td>       <td>Adj. R-squared (uncentered):</td>   <td>0.960</td>  \n",
       "</tr>\n",
       "<tr>\n",
       "    <td>Dependent Variable:</td>           <td>y</td>                    <td>AIC:</td>             <td>-51.5745</td> \n",
       "</tr>\n",
       "<tr>\n",
       "           <td>Date:</td>          <td>2022-08-17 21:05</td>             <td>BIC:</td>             <td>-36.5214</td> \n",
       "</tr>\n",
       "<tr>\n",
       "     <td>No. Observations:</td>           <td>150</td>              <td>Log-Likelihood:</td>        <td>30.787</td>  \n",
       "</tr>\n",
       "<tr>\n",
       "         <td>Df Model:</td>                <td>5</td>                <td>F-statistic:</td>           <td>717.7</td>  \n",
       "</tr>\n",
       "<tr>\n",
       "       <td>Df Residuals:</td>             <td>145</td>            <td>Prob (F-statistic):</td>     <td>2.36e-100</td>\n",
       "</tr>\n",
       "<tr>\n",
       "  <td>R-squared (uncentered):</td>       <td>0.961</td>                 <td>Scale:</td>            <td>0.040177</td> \n",
       "</tr>\n",
       "</table>\n",
       "<table class=\"simpletable\">\n",
       "<tr>\n",
       "   <td></td>   <th>Coef.</th>  <th>Std.Err.</th>    <th>t</th>     <th>P>|t|</th> <th>[0.025</th>  <th>0.975]</th> \n",
       "</tr>\n",
       "<tr>\n",
       "  <th>x1</th> <td>-0.0919</td>  <td>0.0956</td>  <td>-0.9606</td> <td>0.3384</td> <td>-0.2809</td> <td>0.0972</td> \n",
       "</tr>\n",
       "<tr>\n",
       "  <th>x2</th> <td>-0.6954</td>  <td>0.1185</td>  <td>-5.8683</td> <td>0.0000</td> <td>-0.9296</td> <td>-0.4612</td>\n",
       "</tr>\n",
       "<tr>\n",
       "  <th>x3</th> <td>0.4546</td>   <td>0.1329</td>  <td>3.4207</td>  <td>0.0008</td> <td>0.1919</td>  <td>0.7173</td> \n",
       "</tr>\n",
       "<tr>\n",
       "  <th>x4</th> <td>1.1175</td>   <td>0.0288</td>  <td>38.8650</td> <td>0.0000</td> <td>1.0607</td>  <td>1.1744</td> \n",
       "</tr>\n",
       "<tr>\n",
       "  <th>x5</th> <td>0.0767</td>   <td>0.0982</td>  <td>0.7807</td>  <td>0.4362</td> <td>-0.1175</td> <td>0.2709</td> \n",
       "</tr>\n",
       "</table>\n",
       "<table class=\"simpletable\">\n",
       "<tr>\n",
       "     <td>Omnibus:</td>     <td>6.324</td>  <td>Durbin-Watson:</td>   <td>2.277</td>\n",
       "</tr>\n",
       "<tr>\n",
       "  <td>Prob(Omnibus):</td>  <td>0.042</td> <td>Jarque-Bera (JB):</td> <td>3.142</td>\n",
       "</tr>\n",
       "<tr>\n",
       "       <td>Skew:</td>     <td>-0.032</td>     <td>Prob(JB):</td>     <td>0.208</td>\n",
       "</tr>\n",
       "<tr>\n",
       "     <td>Kurtosis:</td>    <td>2.294</td>  <td>Condition No.:</td>    <td>19</td>  \n",
       "</tr>\n",
       "</table>"
      ],
      "text/plain": [
       "<class 'statsmodels.iolib.summary2.Summary'>\n",
       "\"\"\"\n",
       "                        Results: Ordinary least squares\n",
       "===============================================================================\n",
       "Model:                  OLS              Adj. R-squared (uncentered): 0.960    \n",
       "Dependent Variable:     y                AIC:                         -51.5745 \n",
       "Date:                   2022-08-17 21:05 BIC:                         -36.5214 \n",
       "No. Observations:       150              Log-Likelihood:              30.787   \n",
       "Df Model:               5                F-statistic:                 717.7    \n",
       "Df Residuals:           145              Prob (F-statistic):          2.36e-100\n",
       "R-squared (uncentered): 0.961            Scale:                       0.040177 \n",
       "------------------------------------------------------------------------------------\n",
       "             Coef.       Std.Err.         t         P>|t|        [0.025       0.975]\n",
       "------------------------------------------------------------------------------------\n",
       "x1          -0.0919        0.0956      -0.9606      0.3384      -0.2809       0.0972\n",
       "x2          -0.6954        0.1185      -5.8683      0.0000      -0.9296      -0.4612\n",
       "x3           0.4546        0.1329       3.4207      0.0008       0.1919       0.7173\n",
       "x4           1.1175        0.0288      38.8650      0.0000       1.0607       1.1744\n",
       "x5           0.0767        0.0982       0.7807      0.4362      -0.1175       0.2709\n",
       "-------------------------------------------------------------------------------\n",
       "Omnibus:                   6.324             Durbin-Watson:               2.277\n",
       "Prob(Omnibus):             0.042             Jarque-Bera (JB):            3.142\n",
       "Skew:                      -0.032            Prob(JB):                    0.208\n",
       "Kurtosis:                  2.294             Condition No.:               19   \n",
       "===============================================================================\n",
       "\n",
       "\"\"\""
      ]
     },
     "execution_count": 13,
     "metadata": {},
     "output_type": "execute_result"
    }
   ],
   "source": [
    "new_xtrain = x_train.drop(columns=rfecv_eliminacion)\n",
    "new_xtest = x_test.drop(columns=rfecv_eliminacion)\n",
    "\n",
    "model = sm.OLS(y_train_stats,new_xtrain.values)\n",
    "results = model.fit()\n",
    "results.summary2()"
   ]
  },
  {
   "cell_type": "markdown",
   "metadata": {},
   "source": [
    "usando las 5 variables con statsmodels vemos que el aic y el bic sube algo, por lo que el modelo explica las variaciones de la variable dependiente algo peor que el otro, pero hemos bajado la complejidad bastante en ambos casos.\n",
    "\n",
    "Por otra parte, siguiendo con el modelo de 12 variables creado con statsmodels al principio, veamos como se comporta si eliminamos las variables que nos decía que no son relevantes:"
   ]
  },
  {
   "cell_type": "code",
   "execution_count": 23,
   "metadata": {},
   "outputs": [],
   "source": [
    "indice_variables = pd.Series(x_train.columns)\n",
    "statsmodels_eliminar = indice_variables[[0,5]].values # eliminamos las variables estadísticamente iguales a 0 según statsmodels"
   ]
  },
  {
   "cell_type": "code",
   "execution_count": 25,
   "metadata": {},
   "outputs": [
    {
     "data": {
      "text/html": [
       "<table class=\"simpletable\">\n",
       "<tr>\n",
       "          <td>Model:</td>                 <td>OLS</td>       <td>Adj. R-squared (uncentered):</td>   <td>0.980</td>  \n",
       "</tr>\n",
       "<tr>\n",
       "    <td>Dependent Variable:</td>           <td>y</td>                    <td>AIC:</td>             <td>-154.1652</td>\n",
       "</tr>\n",
       "<tr>\n",
       "           <td>Date:</td>          <td>2022-08-17 20:42</td>             <td>BIC:</td>             <td>-127.0694</td>\n",
       "</tr>\n",
       "<tr>\n",
       "     <td>No. Observations:</td>           <td>150</td>              <td>Log-Likelihood:</td>        <td>86.083</td>  \n",
       "</tr>\n",
       "<tr>\n",
       "         <td>Df Model:</td>                <td>9</td>                <td>F-statistic:</td>           <td>827.5</td>  \n",
       "</tr>\n",
       "<tr>\n",
       "       <td>Df Residuals:</td>             <td>141</td>            <td>Prob (F-statistic):</td>     <td>2.46e-117</td>\n",
       "</tr>\n",
       "<tr>\n",
       "  <td>R-squared (uncentered):</td>       <td>0.981</td>                 <td>Scale:</td>            <td>0.019766</td> \n",
       "</tr>\n",
       "</table>\n",
       "<table class=\"simpletable\">\n",
       "<tr>\n",
       "    <td></td>     <th>Coef.</th>  <th>Std.Err.</th>    <th>t</th>     <th>P>|t|</th> <th>[0.025</th>  <th>0.975]</th> \n",
       "</tr>\n",
       "<tr>\n",
       "  <th>x1</th>    <td>-0.1807</td>  <td>0.0591</td>  <td>-3.0562</td> <td>0.0027</td> <td>-0.2975</td> <td>-0.0638</td>\n",
       "</tr>\n",
       "<tr>\n",
       "  <th>x2</th>    <td>-0.4879</td>  <td>0.1207</td>  <td>-4.0412</td> <td>0.0001</td> <td>-0.7266</td> <td>-0.2492</td>\n",
       "</tr>\n",
       "<tr>\n",
       "  <th>x3</th>    <td>0.7213</td>   <td>0.1191</td>  <td>6.0547</td>  <td>0.0000</td> <td>0.4858</td>  <td>0.9568</td> \n",
       "</tr>\n",
       "<tr>\n",
       "  <th>x4</th>    <td>1.0170</td>   <td>0.0431</td>  <td>23.6201</td> <td>0.0000</td> <td>0.9319</td>  <td>1.1021</td> \n",
       "</tr>\n",
       "<tr>\n",
       "  <th>x5</th>    <td>0.0650</td>   <td>0.0504</td>  <td>1.2899</td>  <td>0.1992</td> <td>-0.0346</td> <td>0.1645</td> \n",
       "</tr>\n",
       "<tr>\n",
       "  <th>x6</th>    <td>0.0471</td>   <td>0.0181</td>  <td>2.6033</td>  <td>0.0102</td> <td>0.0113</td>  <td>0.0828</td> \n",
       "</tr>\n",
       "<tr>\n",
       "  <th>x7</th>    <td>-0.4550</td>  <td>0.0558</td>  <td>-8.1525</td> <td>0.0000</td> <td>-0.5654</td> <td>-0.3447</td>\n",
       "</tr>\n",
       "<tr>\n",
       "  <th>const</th> <td>0.0000</td>   <td>0.0000</td>  <td>4.8286</td>  <td>0.0000</td> <td>0.0000</td>  <td>0.0000</td> \n",
       "</tr>\n",
       "<tr>\n",
       "  <th>x8</th>    <td>-0.0784</td>  <td>0.0268</td>  <td>-2.9251</td> <td>0.0040</td> <td>-0.1314</td> <td>-0.0254</td>\n",
       "</tr>\n",
       "<tr>\n",
       "  <th>x9</th>    <td>0.1609</td>   <td>0.0393</td>  <td>4.0933</td>  <td>0.0001</td> <td>0.0832</td>  <td>0.2386</td> \n",
       "</tr>\n",
       "</table>\n",
       "<table class=\"simpletable\">\n",
       "<tr>\n",
       "     <td>Omnibus:</td>    <td>6.987</td>  <td>Durbin-Watson:</td>           <td>2.260</td>        \n",
       "</tr>\n",
       "<tr>\n",
       "  <td>Prob(Omnibus):</td> <td>0.030</td> <td>Jarque-Bera (JB):</td>         <td>6.724</td>        \n",
       "</tr>\n",
       "<tr>\n",
       "       <td>Skew:</td>     <td>0.437</td>     <td>Prob(JB):</td>             <td>0.035</td>        \n",
       "</tr>\n",
       "<tr>\n",
       "     <td>Kurtosis:</td>   <td>3.558</td>  <td>Condition No.:</td>   <td>100274903082847125504</td>\n",
       "</tr>\n",
       "</table>"
      ],
      "text/plain": [
       "<class 'statsmodels.iolib.summary2.Summary'>\n",
       "\"\"\"\n",
       "                        Results: Ordinary least squares\n",
       "===============================================================================\n",
       "Model:                  OLS              Adj. R-squared (uncentered): 0.980    \n",
       "Dependent Variable:     y                AIC:                         -154.1652\n",
       "Date:                   2022-08-17 20:42 BIC:                         -127.0694\n",
       "No. Observations:       150              Log-Likelihood:              86.083   \n",
       "Df Model:               9                F-statistic:                 827.5    \n",
       "Df Residuals:           141              Prob (F-statistic):          2.46e-117\n",
       "R-squared (uncentered): 0.981            Scale:                       0.019766 \n",
       "------------------------------------------------------------------------------------\n",
       "             Coef.       Std.Err.         t         P>|t|        [0.025       0.975]\n",
       "------------------------------------------------------------------------------------\n",
       "x1          -0.1807        0.0591      -3.0562      0.0027      -0.2975      -0.0638\n",
       "x2          -0.4879        0.1207      -4.0412      0.0001      -0.7266      -0.2492\n",
       "x3           0.7213        0.1191       6.0547      0.0000       0.4858       0.9568\n",
       "x4           1.0170        0.0431      23.6201      0.0000       0.9319       1.1021\n",
       "x5           0.0650        0.0504       1.2899      0.1992      -0.0346       0.1645\n",
       "x6           0.0471        0.0181       2.6033      0.0102       0.0113       0.0828\n",
       "x7          -0.4550        0.0558      -8.1525      0.0000      -0.5654      -0.3447\n",
       "const        0.0000        0.0000       4.8286      0.0000       0.0000       0.0000\n",
       "x8          -0.0784        0.0268      -2.9251      0.0040      -0.1314      -0.0254\n",
       "x9           0.1609        0.0393       4.0933      0.0001       0.0832       0.2386\n",
       "-------------------------------------------------------------------------------\n",
       "Omnibus:              6.987       Durbin-Watson:          2.260                \n",
       "Prob(Omnibus):        0.030       Jarque-Bera (JB):       6.724                \n",
       "Skew:                 0.437       Prob(JB):               0.035                \n",
       "Kurtosis:             3.558       Condition No.:          100274903082847125504\n",
       "===============================================================================\n",
       "* The condition number is large (1e+20). This might indicate             strong\n",
       "multicollinearity or other numerical problems.\n",
       "\"\"\""
      ]
     },
     "execution_count": 25,
     "metadata": {},
     "output_type": "execute_result"
    }
   ],
   "source": [
    "nuevo_xtrain = x_train.drop(columns=statsmodels_eliminar)\n",
    "model2 = sm.OLS(y_train_stats,nuevo_xtrain.values)\n",
    "results2 = model2.fit()\n",
    "results2.summary2()"
   ]
  },
  {
   "cell_type": "markdown",
   "metadata": {},
   "source": [
    "Con statsmodel eliminando las variables que estadísticamente son cero y por tanto no aportan nada, nos queda el modelo con el mismo r2 que con todas las variables y mejora algo el aic y el bic, por lo que este modelo sería mejor al tener una complejidad menor y métricas similares.\n",
    "Vamos a realizar una selección manual, viendo el vif y la correlación:"
   ]
  },
  {
   "cell_type": "code",
   "execution_count": 16,
   "metadata": {},
   "outputs": [
    {
     "data": {
      "application/vnd.plotly.v1+json": {
       "config": {
        "plotlyServerURL": "https://plot.ly"
       },
       "data": [
        {
         "coloraxis": "coloraxis",
         "hovertemplate": "x: %{x}<br>y: %{y}<br>color: %{z}<extra></extra>",
         "name": "0",
         "texttemplate": "%{z}",
         "type": "heatmap",
         "x": [
          "gdp",
          "population",
          "energy_production",
          "energy_consumption",
          "co2_emission",
          "per_capita_production",
          "energy_intensity_by_gdp",
          "balance",
          "eficiency",
          "energy_dependecy",
          "co2_pc",
          "energy_type"
         ],
         "xaxis": "x",
         "y": [
          "gdp",
          "population",
          "energy_production",
          "energy_consumption",
          "co2_emission",
          "per_capita_production",
          "energy_intensity_by_gdp",
          "balance",
          "eficiency",
          "energy_dependecy",
          "co2_pc",
          "energy_type"
         ],
         "yaxis": "y",
         "z": [
          [
           1,
           0.8442482440976263,
           0.3088445931645471,
           0.38689383265857474,
           0.3019454068609927,
           0.979633784735801,
           -0.7093691849673114,
           -0.5441802701620201,
           0.212141386389141,
           -0.2537529519579664,
           0.2734249589443596,
           -0.04192017345834511
          ],
          [
           0.8442482440976263,
           1,
           0.26983801455788936,
           0.33089427329075377,
           0.26350163853836883,
           0.8537307072783179,
           -0.967955655128087,
           -0.43555654349273315,
           0.16118573214547557,
           -0.36087486984257466,
           0.24466800527367635,
           -0.06424206550344934
          ],
          [
           0.3088445931645471,
           0.26983801455788936,
           1,
           0.9850182942678118,
           0.9839372812634053,
           0.3162127946630122,
           -0.2228655693524751,
           -0.26528604314115245,
           0.45440782226849086,
           0.46445336419886013,
           0.9759181131391907,
           0.5831751581479967
          ],
          [
           0.38689383265857474,
           0.33089427329075377,
           0.9850182942678118,
           1,
           0.9867274778971602,
           0.3931665826581041,
           -0.2712098851821833,
           -0.4275825597112345,
           0.5496820716500342,
           0.4186214801851562,
           0.9779256555467816,
           0.5990029527110418
          ],
          [
           0.3019454068609927,
           0.26350163853836883,
           0.9839372812634053,
           0.9867274778971602,
           1,
           0.30855049661766004,
           -0.21921791108635375,
           -0.35904333263775146,
           0.5242672264650704,
           0.42764200721624024,
           0.9897157624542489,
           0.6148774081878083
          ],
          [
           0.979633784735801,
           0.8537307072783179,
           0.3162127946630122,
           0.3931665826581041,
           0.30855049661766004,
           1,
           -0.7053012282508696,
           -0.5406308117892608,
           0.20412050981648694,
           -0.2518783998176361,
           0.28551352580950995,
           -0.042567399081590546
          ],
          [
           -0.7093691849673114,
           -0.967955655128087,
           -0.2228655693524751,
           -0.2712098851821833,
           -0.21921791108635375,
           -0.7053012282508696,
           1,
           0.34808670266781633,
           -0.1321314504584738,
           0.3778382453754468,
           -0.20233069180665247,
           0.06784873845616088
          ],
          [
           -0.5441802701620201,
           -0.43555654349273315,
           -0.26528604314115245,
           -0.4275825597112345,
           -0.35904333263775146,
           -0.5406308117892608,
           0.34808670266781633,
           1,
           -0.6912844512546416,
           0.09414635258001584,
           -0.35186840213496773,
           -0.2920405701504175
          ],
          [
           0.212141386389141,
           0.16118573214547557,
           0.45440782226849086,
           0.5496820716500342,
           0.5242672264650704,
           0.20412050981648694,
           -0.1321314504584738,
           -0.6912844512546416,
           1,
           0.38885977842699593,
           0.5318809800957748,
           0.8250005163849191
          ],
          [
           -0.2537529519579664,
           -0.36087486984257466,
           0.46445336419886013,
           0.4186214801851562,
           0.42764200721624024,
           -0.2518783998176361,
           0.3778382453754468,
           0.09414635258001584,
           0.38885977842699593,
           1,
           0.47493151818674023,
           0.6679500735064892
          ],
          [
           0.2734249589443596,
           0.24466800527367635,
           0.9759181131391907,
           0.9779256555467816,
           0.9897157624542489,
           0.28551352580950995,
           -0.20233069180665247,
           -0.35186840213496773,
           0.5318809800957748,
           0.47493151818674023,
           1,
           0.6249892147042567
          ],
          [
           -0.04192017345834511,
           -0.06424206550344934,
           0.5831751581479967,
           0.5990029527110418,
           0.6148774081878083,
           -0.042567399081590546,
           0.06784873845616088,
           -0.2920405701504175,
           0.8250005163849191,
           0.6679500735064892,
           0.6249892147042567,
           1
          ]
         ]
        }
       ],
       "layout": {
        "coloraxis": {
         "colorscale": [
          [
           0,
           "#0d0887"
          ],
          [
           0.1111111111111111,
           "#46039f"
          ],
          [
           0.2222222222222222,
           "#7201a8"
          ],
          [
           0.3333333333333333,
           "#9c179e"
          ],
          [
           0.4444444444444444,
           "#bd3786"
          ],
          [
           0.5555555555555556,
           "#d8576b"
          ],
          [
           0.6666666666666666,
           "#ed7953"
          ],
          [
           0.7777777777777778,
           "#fb9f3a"
          ],
          [
           0.8888888888888888,
           "#fdca26"
          ],
          [
           1,
           "#f0f921"
          ]
         ]
        },
        "template": {
         "data": {
          "bar": [
           {
            "error_x": {
             "color": "#2a3f5f"
            },
            "error_y": {
             "color": "#2a3f5f"
            },
            "marker": {
             "line": {
              "color": "#E5ECF6",
              "width": 0.5
             },
             "pattern": {
              "fillmode": "overlay",
              "size": 10,
              "solidity": 0.2
             }
            },
            "type": "bar"
           }
          ],
          "barpolar": [
           {
            "marker": {
             "line": {
              "color": "#E5ECF6",
              "width": 0.5
             },
             "pattern": {
              "fillmode": "overlay",
              "size": 10,
              "solidity": 0.2
             }
            },
            "type": "barpolar"
           }
          ],
          "carpet": [
           {
            "aaxis": {
             "endlinecolor": "#2a3f5f",
             "gridcolor": "white",
             "linecolor": "white",
             "minorgridcolor": "white",
             "startlinecolor": "#2a3f5f"
            },
            "baxis": {
             "endlinecolor": "#2a3f5f",
             "gridcolor": "white",
             "linecolor": "white",
             "minorgridcolor": "white",
             "startlinecolor": "#2a3f5f"
            },
            "type": "carpet"
           }
          ],
          "choropleth": [
           {
            "colorbar": {
             "outlinewidth": 0,
             "ticks": ""
            },
            "type": "choropleth"
           }
          ],
          "contour": [
           {
            "colorbar": {
             "outlinewidth": 0,
             "ticks": ""
            },
            "colorscale": [
             [
              0,
              "#0d0887"
             ],
             [
              0.1111111111111111,
              "#46039f"
             ],
             [
              0.2222222222222222,
              "#7201a8"
             ],
             [
              0.3333333333333333,
              "#9c179e"
             ],
             [
              0.4444444444444444,
              "#bd3786"
             ],
             [
              0.5555555555555556,
              "#d8576b"
             ],
             [
              0.6666666666666666,
              "#ed7953"
             ],
             [
              0.7777777777777778,
              "#fb9f3a"
             ],
             [
              0.8888888888888888,
              "#fdca26"
             ],
             [
              1,
              "#f0f921"
             ]
            ],
            "type": "contour"
           }
          ],
          "contourcarpet": [
           {
            "colorbar": {
             "outlinewidth": 0,
             "ticks": ""
            },
            "type": "contourcarpet"
           }
          ],
          "heatmap": [
           {
            "colorbar": {
             "outlinewidth": 0,
             "ticks": ""
            },
            "colorscale": [
             [
              0,
              "#0d0887"
             ],
             [
              0.1111111111111111,
              "#46039f"
             ],
             [
              0.2222222222222222,
              "#7201a8"
             ],
             [
              0.3333333333333333,
              "#9c179e"
             ],
             [
              0.4444444444444444,
              "#bd3786"
             ],
             [
              0.5555555555555556,
              "#d8576b"
             ],
             [
              0.6666666666666666,
              "#ed7953"
             ],
             [
              0.7777777777777778,
              "#fb9f3a"
             ],
             [
              0.8888888888888888,
              "#fdca26"
             ],
             [
              1,
              "#f0f921"
             ]
            ],
            "type": "heatmap"
           }
          ],
          "heatmapgl": [
           {
            "colorbar": {
             "outlinewidth": 0,
             "ticks": ""
            },
            "colorscale": [
             [
              0,
              "#0d0887"
             ],
             [
              0.1111111111111111,
              "#46039f"
             ],
             [
              0.2222222222222222,
              "#7201a8"
             ],
             [
              0.3333333333333333,
              "#9c179e"
             ],
             [
              0.4444444444444444,
              "#bd3786"
             ],
             [
              0.5555555555555556,
              "#d8576b"
             ],
             [
              0.6666666666666666,
              "#ed7953"
             ],
             [
              0.7777777777777778,
              "#fb9f3a"
             ],
             [
              0.8888888888888888,
              "#fdca26"
             ],
             [
              1,
              "#f0f921"
             ]
            ],
            "type": "heatmapgl"
           }
          ],
          "histogram": [
           {
            "marker": {
             "pattern": {
              "fillmode": "overlay",
              "size": 10,
              "solidity": 0.2
             }
            },
            "type": "histogram"
           }
          ],
          "histogram2d": [
           {
            "colorbar": {
             "outlinewidth": 0,
             "ticks": ""
            },
            "colorscale": [
             [
              0,
              "#0d0887"
             ],
             [
              0.1111111111111111,
              "#46039f"
             ],
             [
              0.2222222222222222,
              "#7201a8"
             ],
             [
              0.3333333333333333,
              "#9c179e"
             ],
             [
              0.4444444444444444,
              "#bd3786"
             ],
             [
              0.5555555555555556,
              "#d8576b"
             ],
             [
              0.6666666666666666,
              "#ed7953"
             ],
             [
              0.7777777777777778,
              "#fb9f3a"
             ],
             [
              0.8888888888888888,
              "#fdca26"
             ],
             [
              1,
              "#f0f921"
             ]
            ],
            "type": "histogram2d"
           }
          ],
          "histogram2dcontour": [
           {
            "colorbar": {
             "outlinewidth": 0,
             "ticks": ""
            },
            "colorscale": [
             [
              0,
              "#0d0887"
             ],
             [
              0.1111111111111111,
              "#46039f"
             ],
             [
              0.2222222222222222,
              "#7201a8"
             ],
             [
              0.3333333333333333,
              "#9c179e"
             ],
             [
              0.4444444444444444,
              "#bd3786"
             ],
             [
              0.5555555555555556,
              "#d8576b"
             ],
             [
              0.6666666666666666,
              "#ed7953"
             ],
             [
              0.7777777777777778,
              "#fb9f3a"
             ],
             [
              0.8888888888888888,
              "#fdca26"
             ],
             [
              1,
              "#f0f921"
             ]
            ],
            "type": "histogram2dcontour"
           }
          ],
          "mesh3d": [
           {
            "colorbar": {
             "outlinewidth": 0,
             "ticks": ""
            },
            "type": "mesh3d"
           }
          ],
          "parcoords": [
           {
            "line": {
             "colorbar": {
              "outlinewidth": 0,
              "ticks": ""
             }
            },
            "type": "parcoords"
           }
          ],
          "pie": [
           {
            "automargin": true,
            "type": "pie"
           }
          ],
          "scatter": [
           {
            "fillpattern": {
             "fillmode": "overlay",
             "size": 10,
             "solidity": 0.2
            },
            "type": "scatter"
           }
          ],
          "scatter3d": [
           {
            "line": {
             "colorbar": {
              "outlinewidth": 0,
              "ticks": ""
             }
            },
            "marker": {
             "colorbar": {
              "outlinewidth": 0,
              "ticks": ""
             }
            },
            "type": "scatter3d"
           }
          ],
          "scattercarpet": [
           {
            "marker": {
             "colorbar": {
              "outlinewidth": 0,
              "ticks": ""
             }
            },
            "type": "scattercarpet"
           }
          ],
          "scattergeo": [
           {
            "marker": {
             "colorbar": {
              "outlinewidth": 0,
              "ticks": ""
             }
            },
            "type": "scattergeo"
           }
          ],
          "scattergl": [
           {
            "marker": {
             "colorbar": {
              "outlinewidth": 0,
              "ticks": ""
             }
            },
            "type": "scattergl"
           }
          ],
          "scattermapbox": [
           {
            "marker": {
             "colorbar": {
              "outlinewidth": 0,
              "ticks": ""
             }
            },
            "type": "scattermapbox"
           }
          ],
          "scatterpolar": [
           {
            "marker": {
             "colorbar": {
              "outlinewidth": 0,
              "ticks": ""
             }
            },
            "type": "scatterpolar"
           }
          ],
          "scatterpolargl": [
           {
            "marker": {
             "colorbar": {
              "outlinewidth": 0,
              "ticks": ""
             }
            },
            "type": "scatterpolargl"
           }
          ],
          "scatterternary": [
           {
            "marker": {
             "colorbar": {
              "outlinewidth": 0,
              "ticks": ""
             }
            },
            "type": "scatterternary"
           }
          ],
          "surface": [
           {
            "colorbar": {
             "outlinewidth": 0,
             "ticks": ""
            },
            "colorscale": [
             [
              0,
              "#0d0887"
             ],
             [
              0.1111111111111111,
              "#46039f"
             ],
             [
              0.2222222222222222,
              "#7201a8"
             ],
             [
              0.3333333333333333,
              "#9c179e"
             ],
             [
              0.4444444444444444,
              "#bd3786"
             ],
             [
              0.5555555555555556,
              "#d8576b"
             ],
             [
              0.6666666666666666,
              "#ed7953"
             ],
             [
              0.7777777777777778,
              "#fb9f3a"
             ],
             [
              0.8888888888888888,
              "#fdca26"
             ],
             [
              1,
              "#f0f921"
             ]
            ],
            "type": "surface"
           }
          ],
          "table": [
           {
            "cells": {
             "fill": {
              "color": "#EBF0F8"
             },
             "line": {
              "color": "white"
             }
            },
            "header": {
             "fill": {
              "color": "#C8D4E3"
             },
             "line": {
              "color": "white"
             }
            },
            "type": "table"
           }
          ]
         },
         "layout": {
          "annotationdefaults": {
           "arrowcolor": "#2a3f5f",
           "arrowhead": 0,
           "arrowwidth": 1
          },
          "autotypenumbers": "strict",
          "coloraxis": {
           "colorbar": {
            "outlinewidth": 0,
            "ticks": ""
           }
          },
          "colorscale": {
           "diverging": [
            [
             0,
             "#8e0152"
            ],
            [
             0.1,
             "#c51b7d"
            ],
            [
             0.2,
             "#de77ae"
            ],
            [
             0.3,
             "#f1b6da"
            ],
            [
             0.4,
             "#fde0ef"
            ],
            [
             0.5,
             "#f7f7f7"
            ],
            [
             0.6,
             "#e6f5d0"
            ],
            [
             0.7,
             "#b8e186"
            ],
            [
             0.8,
             "#7fbc41"
            ],
            [
             0.9,
             "#4d9221"
            ],
            [
             1,
             "#276419"
            ]
           ],
           "sequential": [
            [
             0,
             "#0d0887"
            ],
            [
             0.1111111111111111,
             "#46039f"
            ],
            [
             0.2222222222222222,
             "#7201a8"
            ],
            [
             0.3333333333333333,
             "#9c179e"
            ],
            [
             0.4444444444444444,
             "#bd3786"
            ],
            [
             0.5555555555555556,
             "#d8576b"
            ],
            [
             0.6666666666666666,
             "#ed7953"
            ],
            [
             0.7777777777777778,
             "#fb9f3a"
            ],
            [
             0.8888888888888888,
             "#fdca26"
            ],
            [
             1,
             "#f0f921"
            ]
           ],
           "sequentialminus": [
            [
             0,
             "#0d0887"
            ],
            [
             0.1111111111111111,
             "#46039f"
            ],
            [
             0.2222222222222222,
             "#7201a8"
            ],
            [
             0.3333333333333333,
             "#9c179e"
            ],
            [
             0.4444444444444444,
             "#bd3786"
            ],
            [
             0.5555555555555556,
             "#d8576b"
            ],
            [
             0.6666666666666666,
             "#ed7953"
            ],
            [
             0.7777777777777778,
             "#fb9f3a"
            ],
            [
             0.8888888888888888,
             "#fdca26"
            ],
            [
             1,
             "#f0f921"
            ]
           ]
          },
          "colorway": [
           "#636efa",
           "#EF553B",
           "#00cc96",
           "#ab63fa",
           "#FFA15A",
           "#19d3f3",
           "#FF6692",
           "#B6E880",
           "#FF97FF",
           "#FECB52"
          ],
          "font": {
           "color": "#2a3f5f"
          },
          "geo": {
           "bgcolor": "white",
           "lakecolor": "white",
           "landcolor": "#E5ECF6",
           "showlakes": true,
           "showland": true,
           "subunitcolor": "white"
          },
          "hoverlabel": {
           "align": "left"
          },
          "hovermode": "closest",
          "mapbox": {
           "style": "light"
          },
          "paper_bgcolor": "white",
          "plot_bgcolor": "#E5ECF6",
          "polar": {
           "angularaxis": {
            "gridcolor": "white",
            "linecolor": "white",
            "ticks": ""
           },
           "bgcolor": "#E5ECF6",
           "radialaxis": {
            "gridcolor": "white",
            "linecolor": "white",
            "ticks": ""
           }
          },
          "scene": {
           "xaxis": {
            "backgroundcolor": "#E5ECF6",
            "gridcolor": "white",
            "gridwidth": 2,
            "linecolor": "white",
            "showbackground": true,
            "ticks": "",
            "zerolinecolor": "white"
           },
           "yaxis": {
            "backgroundcolor": "#E5ECF6",
            "gridcolor": "white",
            "gridwidth": 2,
            "linecolor": "white",
            "showbackground": true,
            "ticks": "",
            "zerolinecolor": "white"
           },
           "zaxis": {
            "backgroundcolor": "#E5ECF6",
            "gridcolor": "white",
            "gridwidth": 2,
            "linecolor": "white",
            "showbackground": true,
            "ticks": "",
            "zerolinecolor": "white"
           }
          },
          "shapedefaults": {
           "line": {
            "color": "#2a3f5f"
           }
          },
          "ternary": {
           "aaxis": {
            "gridcolor": "white",
            "linecolor": "white",
            "ticks": ""
           },
           "baxis": {
            "gridcolor": "white",
            "linecolor": "white",
            "ticks": ""
           },
           "bgcolor": "#E5ECF6",
           "caxis": {
            "gridcolor": "white",
            "linecolor": "white",
            "ticks": ""
           }
          },
          "title": {
           "x": 0.05
          },
          "xaxis": {
           "automargin": true,
           "gridcolor": "white",
           "linecolor": "white",
           "ticks": "",
           "title": {
            "standoff": 15
           },
           "zerolinecolor": "white",
           "zerolinewidth": 2
          },
          "yaxis": {
           "automargin": true,
           "gridcolor": "white",
           "linecolor": "white",
           "ticks": "",
           "title": {
            "standoff": 15
           },
           "zerolinecolor": "white",
           "zerolinewidth": 2
          }
         }
        },
        "title": {
         "text": "Matriz de Correlaciones"
        },
        "xaxis": {
         "anchor": "y",
         "domain": [
          0,
          1
         ]
        },
        "yaxis": {
         "anchor": "x",
         "autorange": "reversed",
         "domain": [
          0,
          1
         ]
        }
       }
      }
     },
     "metadata": {},
     "output_type": "display_data"
    }
   ],
   "source": [
    "correlaciones = df_china[[col for col in df_china.columns if col != \"use_intensity_pc\"]].corr()\n",
    "px.imshow(correlaciones,text_auto=True,aspect=\"auto\",title=\"Matriz de Correlaciones\")"
   ]
  },
  {
   "cell_type": "code",
   "execution_count": 17,
   "metadata": {},
   "outputs": [
    {
     "data": {
      "text/plain": [
       "energy_production     0.454408\n",
       "energy_consumption    0.549682\n",
       "co2_emission          0.524267\n",
       "balance              -0.691284\n",
       "eficiency             1.000000\n",
       "co2_pc                0.531881\n",
       "energy_type           0.825001\n",
       "Name: eficiency, dtype: float64"
      ]
     },
     "execution_count": 17,
     "metadata": {},
     "output_type": "execute_result"
    }
   ],
   "source": [
    "eleccion_corr = correlaciones.loc[abs(correlaciones.eficiency) >= 0.45,\"eficiency\"]\n",
    "eleccion_corr"
   ]
  },
  {
   "cell_type": "markdown",
   "metadata": {},
   "source": [
    "En teoría las mejores variables con las que nos podríamos quedar serían 6, vamos a ver el vif entre todas las variables, para ver cuales quedarían:"
   ]
  },
  {
   "cell_type": "markdown",
   "metadata": {},
   "source": [
    "Empezamos usando todas las variables para ver cuales se podrían eliminar:"
   ]
  },
  {
   "cell_type": "markdown",
   "metadata": {},
   "source": [
    "<mark>ELIMINAR LA NOTACIÓN CIENTIFICA</mark>"
   ]
  },
  {
   "cell_type": "code",
   "execution_count": 30,
   "metadata": {},
   "outputs": [
    {
     "data": {
      "text/html": [
       "<div>\n",
       "<style scoped>\n",
       "    .dataframe tbody tr th:only-of-type {\n",
       "        vertical-align: middle;\n",
       "    }\n",
       "\n",
       "    .dataframe tbody tr th {\n",
       "        vertical-align: top;\n",
       "    }\n",
       "\n",
       "    .dataframe thead th {\n",
       "        text-align: right;\n",
       "    }\n",
       "</style>\n",
       "<table border=\"1\" class=\"dataframe\">\n",
       "  <thead>\n",
       "    <tr style=\"text-align: right;\">\n",
       "      <th></th>\n",
       "      <th>Variable</th>\n",
       "      <th>VIF</th>\n",
       "    </tr>\n",
       "  </thead>\n",
       "  <tbody>\n",
       "    <tr>\n",
       "      <th>3</th>\n",
       "      <td>energy_consumption</td>\n",
       "      <td>2.488150e+09</td>\n",
       "    </tr>\n",
       "    <tr>\n",
       "      <th>2</th>\n",
       "      <td>energy_production</td>\n",
       "      <td>2.187190e+09</td>\n",
       "    </tr>\n",
       "    <tr>\n",
       "      <th>7</th>\n",
       "      <td>balance</td>\n",
       "      <td>7.959995e+07</td>\n",
       "    </tr>\n",
       "    <tr>\n",
       "      <th>1</th>\n",
       "      <td>population</td>\n",
       "      <td>2.599200e+02</td>\n",
       "    </tr>\n",
       "    <tr>\n",
       "      <th>6</th>\n",
       "      <td>energy_intensity_by_gdp</td>\n",
       "      <td>1.418100e+02</td>\n",
       "    </tr>\n",
       "    <tr>\n",
       "      <th>4</th>\n",
       "      <td>co2_emission</td>\n",
       "      <td>1.325200e+02</td>\n",
       "    </tr>\n",
       "    <tr>\n",
       "      <th>5</th>\n",
       "      <td>per_capita_production</td>\n",
       "      <td>8.364000e+01</td>\n",
       "    </tr>\n",
       "    <tr>\n",
       "      <th>10</th>\n",
       "      <td>co2_pc</td>\n",
       "      <td>6.816000e+01</td>\n",
       "    </tr>\n",
       "    <tr>\n",
       "      <th>0</th>\n",
       "      <td>gdp</td>\n",
       "      <td>3.278000e+01</td>\n",
       "    </tr>\n",
       "    <tr>\n",
       "      <th>8</th>\n",
       "      <td>eficiency</td>\n",
       "      <td>1.201000e+01</td>\n",
       "    </tr>\n",
       "    <tr>\n",
       "      <th>11</th>\n",
       "      <td>energy_type</td>\n",
       "      <td>1.018000e+01</td>\n",
       "    </tr>\n",
       "    <tr>\n",
       "      <th>9</th>\n",
       "      <td>energy_dependecy</td>\n",
       "      <td>4.020000e+00</td>\n",
       "    </tr>\n",
       "  </tbody>\n",
       "</table>\n",
       "</div>"
      ],
      "text/plain": [
       "                   Variable           VIF\n",
       "3        energy_consumption  2.488150e+09\n",
       "2         energy_production  2.187190e+09\n",
       "7                   balance  7.959995e+07\n",
       "1                population  2.599200e+02\n",
       "6   energy_intensity_by_gdp  1.418100e+02\n",
       "4              co2_emission  1.325200e+02\n",
       "5     per_capita_production  8.364000e+01\n",
       "10                   co2_pc  6.816000e+01\n",
       "0                       gdp  3.278000e+01\n",
       "8                 eficiency  1.201000e+01\n",
       "11              energy_type  1.018000e+01\n",
       "9          energy_dependecy  4.020000e+00"
      ]
     },
     "execution_count": 30,
     "metadata": {},
     "output_type": "execute_result"
    }
   ],
   "source": [
    "variables = [col for col in df_china.columns if col not in [\"country\",\"use_intensity_pc\"]]\n",
    "Predicting.compute_vif(df_china,variables)"
   ]
  },
  {
   "cell_type": "markdown",
   "metadata": {},
   "source": [
    "Si solo elegimos las variables que nos ha dado mejor correlación, el vif de las variables sería alto en casi todas ellas y por tanto sí que tendríamos multicolinealidad."
   ]
  },
  {
   "cell_type": "code",
   "execution_count": 18,
   "metadata": {},
   "outputs": [
    {
     "data": {
      "text/html": [
       "<div>\n",
       "<style scoped>\n",
       "    .dataframe tbody tr th:only-of-type {\n",
       "        vertical-align: middle;\n",
       "    }\n",
       "\n",
       "    .dataframe tbody tr th {\n",
       "        vertical-align: top;\n",
       "    }\n",
       "\n",
       "    .dataframe thead th {\n",
       "        text-align: right;\n",
       "    }\n",
       "</style>\n",
       "<table border=\"1\" class=\"dataframe\">\n",
       "  <thead>\n",
       "    <tr style=\"text-align: right;\">\n",
       "      <th></th>\n",
       "      <th>Variable</th>\n",
       "      <th>VIF</th>\n",
       "    </tr>\n",
       "  </thead>\n",
       "  <tbody>\n",
       "    <tr>\n",
       "      <th>1</th>\n",
       "      <td>energy_consumption</td>\n",
       "      <td>2.339041e+09</td>\n",
       "    </tr>\n",
       "    <tr>\n",
       "      <th>0</th>\n",
       "      <td>energy_production</td>\n",
       "      <td>2.056149e+09</td>\n",
       "    </tr>\n",
       "    <tr>\n",
       "      <th>3</th>\n",
       "      <td>balance</td>\n",
       "      <td>7.482741e+07</td>\n",
       "    </tr>\n",
       "    <tr>\n",
       "      <th>2</th>\n",
       "      <td>co2_emission</td>\n",
       "      <td>8.803486e+01</td>\n",
       "    </tr>\n",
       "    <tr>\n",
       "      <th>4</th>\n",
       "      <td>co2_pc</td>\n",
       "      <td>5.055477e+01</td>\n",
       "    </tr>\n",
       "    <tr>\n",
       "      <th>5</th>\n",
       "      <td>energy_type</td>\n",
       "      <td>1.716874e+00</td>\n",
       "    </tr>\n",
       "  </tbody>\n",
       "</table>\n",
       "</div>"
      ],
      "text/plain": [
       "             Variable           VIF\n",
       "1  energy_consumption  2.339041e+09\n",
       "0   energy_production  2.056149e+09\n",
       "3             balance  7.482741e+07\n",
       "2        co2_emission  8.803486e+01\n",
       "4              co2_pc  5.055477e+01\n",
       "5         energy_type  1.716874e+00"
      ]
     },
     "execution_count": 18,
     "metadata": {},
     "output_type": "execute_result"
    }
   ],
   "source": [
    "variables = [col for col in eleccion_corr.index if col != \"eficiency\"]\n",
    "df_corr = Predicting.compute_vif(df_china,variables)\n",
    "df_corr"
   ]
  },
  {
   "cell_type": "markdown",
   "metadata": {},
   "source": [
    "Vayamos eliminando una por una hasta eliminar o reducir la multicolinealidad:"
   ]
  },
  {
   "cell_type": "code",
   "execution_count": 20,
   "metadata": {},
   "outputs": [
    {
     "data": {
      "text/html": [
       "<div>\n",
       "<style scoped>\n",
       "    .dataframe tbody tr th:only-of-type {\n",
       "        vertical-align: middle;\n",
       "    }\n",
       "\n",
       "    .dataframe tbody tr th {\n",
       "        vertical-align: top;\n",
       "    }\n",
       "\n",
       "    .dataframe thead th {\n",
       "        text-align: right;\n",
       "    }\n",
       "</style>\n",
       "<table border=\"1\" class=\"dataframe\">\n",
       "  <thead>\n",
       "    <tr style=\"text-align: right;\">\n",
       "      <th></th>\n",
       "      <th>Variable</th>\n",
       "      <th>VIF</th>\n",
       "    </tr>\n",
       "  </thead>\n",
       "  <tbody>\n",
       "    <tr>\n",
       "      <th>0</th>\n",
       "      <td>per_capita_production</td>\n",
       "      <td>2.875</td>\n",
       "    </tr>\n",
       "    <tr>\n",
       "      <th>1</th>\n",
       "      <td>energy_type</td>\n",
       "      <td>2.869</td>\n",
       "    </tr>\n",
       "    <tr>\n",
       "      <th>2</th>\n",
       "      <td>energy_dependecy</td>\n",
       "      <td>2.778</td>\n",
       "    </tr>\n",
       "    <tr>\n",
       "      <th>3</th>\n",
       "      <td>energy_intensity_by_gdp</td>\n",
       "      <td>2.385</td>\n",
       "    </tr>\n",
       "    <tr>\n",
       "      <th>4</th>\n",
       "      <td>energy_production</td>\n",
       "      <td>2.069</td>\n",
       "    </tr>\n",
       "    <tr>\n",
       "      <th>5</th>\n",
       "      <td>balance</td>\n",
       "      <td>1.859</td>\n",
       "    </tr>\n",
       "  </tbody>\n",
       "</table>\n",
       "</div>"
      ],
      "text/plain": [
       "                  Variable    VIF\n",
       "0    per_capita_production  2.875\n",
       "1              energy_type  2.869\n",
       "2         energy_dependecy  2.778\n",
       "3  energy_intensity_by_gdp  2.385\n",
       "4        energy_production  2.069\n",
       "5                  balance  1.859"
      ]
     },
     "execution_count": 20,
     "metadata": {},
     "output_type": "execute_result"
    }
   ],
   "source": [
    "variables = [col for col in df_china.columns if col not in [\"country\",\"use_intensity_pc\"]]\n",
    "df_vif = Predicting.sin_multico_unoauno(df_china,variables)\n",
    "df_vif"
   ]
  },
  {
   "cell_type": "code",
   "execution_count": 21,
   "metadata": {},
   "outputs": [
    {
     "name": "stdout",
     "output_type": "stream",
     "text": [
      "energy_production\n",
      "balance\n",
      "energy_type\n"
     ]
    }
   ],
   "source": [
    "# variables diferentes:\n",
    "for var in df_corr.Variable.to_list():\n",
    "    if var in df_vif.Variable.to_list():\n",
    "        print(var)"
   ]
  },
  {
   "cell_type": "markdown",
   "metadata": {},
   "source": [
    "Vemos que nos deja el mismo número de variables que solo eligiendo por correlación. De las que elegimos por correlación se han mantenido:\n",
    "* energy_production\n",
    "* balance\n",
    "* energy_type\n",
    "\n",
    "El resto son diferentes, vamos a ver como estos dos modelos por separado lo hacen:\n",
    "### A. MODELO CON VARIABLES VIF:"
   ]
  },
  {
   "cell_type": "code",
   "execution_count": 24,
   "metadata": {},
   "outputs": [],
   "source": [
    "x = df_china[df_vif.Variable.values]\n",
    "y = df_china.eficiency\n",
    "x_train,x_test,y_train,y_test = train_test_split(x,y,test_size=0.2,random_state=1234)\n"
   ]
  },
  {
   "cell_type": "code",
   "execution_count": 25,
   "metadata": {},
   "outputs": [],
   "source": [
    "power_trans = PowerTransformer()\n",
    "x_train = power_trans.fit_transform(x_train)\n",
    "x_train = pd.DataFrame(x_train,columns=power_trans.get_feature_names_out())\n",
    "x_test = power_trans.transform(x_test)\n",
    "x_test = pd.DataFrame(x_test,columns=power_trans.get_feature_names_out())"
   ]
  },
  {
   "cell_type": "code",
   "execution_count": 26,
   "metadata": {},
   "outputs": [],
   "source": [
    "y_train_stats = power_trans.fit_transform(y_train.values.reshape(-1,1))\n",
    "y_test_stats = power_trans.fit_transform(y_test.values.reshape(-1,1))"
   ]
  },
  {
   "cell_type": "code",
   "execution_count": 27,
   "metadata": {},
   "outputs": [
    {
     "data": {
      "text/html": [
       "<table class=\"simpletable\">\n",
       "<tr>\n",
       "          <td>Model:</td>                 <td>OLS</td>       <td>Adj. R-squared (uncentered):</td>   <td>0.886</td> \n",
       "</tr>\n",
       "<tr>\n",
       "    <td>Dependent Variable:</td>           <td>y</td>                    <td>AIC:</td>             <td>105.7921</td>\n",
       "</tr>\n",
       "<tr>\n",
       "           <td>Date:</td>          <td>2022-08-17 21:12</td>             <td>BIC:</td>             <td>123.8559</td>\n",
       "</tr>\n",
       "<tr>\n",
       "     <td>No. Observations:</td>           <td>150</td>              <td>Log-Likelihood:</td>        <td>-46.896</td>\n",
       "</tr>\n",
       "<tr>\n",
       "         <td>Df Model:</td>                <td>6</td>                <td>F-statistic:</td>           <td>195.3</td> \n",
       "</tr>\n",
       "<tr>\n",
       "       <td>Df Residuals:</td>             <td>144</td>            <td>Prob (F-statistic):</td>     <td>1.40e-66</td>\n",
       "</tr>\n",
       "<tr>\n",
       "  <td>R-squared (uncentered):</td>       <td>0.891</td>                 <td>Scale:</td>             <td>0.11398</td>\n",
       "</tr>\n",
       "</table>\n",
       "<table class=\"simpletable\">\n",
       "<tr>\n",
       "   <td></td>   <th>Coef.</th>  <th>Std.Err.</th>     <th>t</th>     <th>P>|t|</th> <th>[0.025</th>  <th>0.975]</th> \n",
       "</tr>\n",
       "<tr>\n",
       "  <th>x1</th> <td>-0.2810</td>  <td>0.0752</td>   <td>-3.7361</td> <td>0.0003</td> <td>-0.4296</td> <td>-0.1323</td>\n",
       "</tr>\n",
       "<tr>\n",
       "  <th>x2</th> <td>1.0493</td>   <td>0.0429</td>   <td>24.4511</td> <td>0.0000</td> <td>0.9645</td>  <td>1.1341</td> \n",
       "</tr>\n",
       "<tr>\n",
       "  <th>x3</th> <td>-1.0715</td>  <td>0.0983</td>  <td>-10.9049</td> <td>0.0000</td> <td>-1.2657</td> <td>-0.8773</td>\n",
       "</tr>\n",
       "<tr>\n",
       "  <th>x4</th> <td>0.2654</td>   <td>0.0692</td>   <td>3.8359</td>  <td>0.0002</td> <td>0.1287</td>  <td>0.4022</td> \n",
       "</tr>\n",
       "<tr>\n",
       "  <th>x5</th> <td>0.9166</td>   <td>0.0925</td>   <td>9.9108</td>  <td>0.0000</td> <td>0.7338</td>  <td>1.0994</td> \n",
       "</tr>\n",
       "<tr>\n",
       "  <th>x6</th> <td>-0.1211</td>  <td>0.0345</td>   <td>-3.5149</td> <td>0.0006</td> <td>-0.1892</td> <td>-0.0530</td>\n",
       "</tr>\n",
       "</table>\n",
       "<table class=\"simpletable\">\n",
       "<tr>\n",
       "     <td>Omnibus:</td>    <td>112.604</td>  <td>Durbin-Watson:</td>     <td>1.615</td> \n",
       "</tr>\n",
       "<tr>\n",
       "  <td>Prob(Omnibus):</td>  <td>0.000</td>  <td>Jarque-Bera (JB):</td> <td>1262.863</td>\n",
       "</tr>\n",
       "<tr>\n",
       "       <td>Skew:</td>     <td>-2.562</td>      <td>Prob(JB):</td>       <td>0.000</td> \n",
       "</tr>\n",
       "<tr>\n",
       "     <td>Kurtosis:</td>   <td>16.259</td>   <td>Condition No.:</td>       <td>8</td>   \n",
       "</tr>\n",
       "</table>"
      ],
      "text/plain": [
       "<class 'statsmodels.iolib.summary2.Summary'>\n",
       "\"\"\"\n",
       "                       Results: Ordinary least squares\n",
       "==============================================================================\n",
       "Model:                  OLS              Adj. R-squared (uncentered): 0.886   \n",
       "Dependent Variable:     y                AIC:                         105.7921\n",
       "Date:                   2022-08-17 21:12 BIC:                         123.8559\n",
       "No. Observations:       150              Log-Likelihood:              -46.896 \n",
       "Df Model:               6                F-statistic:                 195.3   \n",
       "Df Residuals:           144              Prob (F-statistic):          1.40e-66\n",
       "R-squared (uncentered): 0.891            Scale:                       0.11398 \n",
       "-----------------------------------------------------------------------------------\n",
       "           Coef.       Std.Err.         t          P>|t|        [0.025       0.975]\n",
       "-----------------------------------------------------------------------------------\n",
       "x1        -0.2810        0.0752       -3.7361      0.0003      -0.4296      -0.1323\n",
       "x2         1.0493        0.0429       24.4511      0.0000       0.9645       1.1341\n",
       "x3        -1.0715        0.0983      -10.9049      0.0000      -1.2657      -0.8773\n",
       "x4         0.2654        0.0692        3.8359      0.0002       0.1287       0.4022\n",
       "x5         0.9166        0.0925        9.9108      0.0000       0.7338       1.0994\n",
       "x6        -0.1211        0.0345       -3.5149      0.0006      -0.1892      -0.0530\n",
       "------------------------------------------------------------------------------\n",
       "Omnibus:                  112.604          Durbin-Watson:             1.615   \n",
       "Prob(Omnibus):            0.000            Jarque-Bera (JB):          1262.863\n",
       "Skew:                     -2.562           Prob(JB):                  0.000   \n",
       "Kurtosis:                 16.259           Condition No.:             8       \n",
       "==============================================================================\n",
       "\n",
       "\"\"\""
      ]
     },
     "execution_count": 27,
     "metadata": {},
     "output_type": "execute_result"
    }
   ],
   "source": [
    "model = sm.OLS(y_train_stats,x_train.values)\n",
    "results = model.fit()\n",
    "results.summary2()"
   ]
  },
  {
   "cell_type": "code",
   "execution_count": 28,
   "metadata": {},
   "outputs": [
    {
     "data": {
      "image/png": "[encoded data removed]",
      "text/plain": [
       "<Figure size 720x360 with 1 Axes>"
      ]
     },
     "metadata": {
      "needs_background": "light"
     },
     "output_type": "display_data"
    }
   ],
   "source": [
    "Predicting.cross_val_regression(LinearRegression(),x_train,y_train,x_test,y_test)"
   ]
  },
  {
   "cell_type": "markdown",
   "metadata": {},
   "source": [
    "Ahora vamos a crear un modelo con las variables obtenidas mediante los coeficientes de correlación:"
   ]
  },
  {
   "cell_type": "code",
   "execution_count": 29,
   "metadata": {},
   "outputs": [],
   "source": [
    "x = df_china[[col for col in eleccion_corr.index if col != \"eficiency\"]] # en este modelo sí existía multicolinealidad\n",
    "y = df_china.eficiency\n",
    "x_train,x_test,y_train,y_test = train_test_split(x,y,test_size=0.2,random_state=1234)"
   ]
  },
  {
   "cell_type": "code",
   "execution_count": 30,
   "metadata": {},
   "outputs": [],
   "source": [
    "power_trans = PowerTransformer()\n",
    "x_train = power_trans.fit_transform(x_train)\n",
    "x_train = pd.DataFrame(x_train,columns=power_trans.get_feature_names_out())\n",
    "x_test = power_trans.transform(x_test)\n",
    "x_test = pd.DataFrame(x_test,columns=power_trans.get_feature_names_out())"
   ]
  },
  {
   "cell_type": "code",
   "execution_count": 31,
   "metadata": {},
   "outputs": [],
   "source": [
    "y_train_stats = power_trans.fit_transform(y_train.values.reshape(-1,1))\n",
    "y_test_stats = power_trans.fit_transform(y_test.values.reshape(-1,1))"
   ]
  },
  {
   "cell_type": "code",
   "execution_count": 32,
   "metadata": {},
   "outputs": [
    {
     "data": {
      "text/html": [
       "<table class=\"simpletable\">\n",
       "<tr>\n",
       "          <td>Model:</td>                 <td>OLS</td>       <td>Adj. R-squared (uncentered):</td>   <td>0.971</td>  \n",
       "</tr>\n",
       "<tr>\n",
       "    <td>Dependent Variable:</td>           <td>y</td>                    <td>AIC:</td>             <td>-98.2443</td> \n",
       "</tr>\n",
       "<tr>\n",
       "           <td>Date:</td>          <td>2022-08-17 21:24</td>             <td>BIC:</td>             <td>-80.1804</td> \n",
       "</tr>\n",
       "<tr>\n",
       "     <td>No. Observations:</td>           <td>150</td>              <td>Log-Likelihood:</td>        <td>55.122</td>  \n",
       "</tr>\n",
       "<tr>\n",
       "         <td>Df Model:</td>                <td>6</td>                <td>F-statistic:</td>           <td>830.8</td>  \n",
       "</tr>\n",
       "<tr>\n",
       "       <td>Df Residuals:</td>             <td>144</td>            <td>Prob (F-statistic):</td>     <td>4.87e-109</td>\n",
       "</tr>\n",
       "<tr>\n",
       "  <td>R-squared (uncentered):</td>       <td>0.972</td>                 <td>Scale:</td>            <td>0.029246</td> \n",
       "</tr>\n",
       "</table>\n",
       "<table class=\"simpletable\">\n",
       "<tr>\n",
       "   <td></td>   <th>Coef.</th>  <th>Std.Err.</th>    <th>t</th>     <th>P>|t|</th> <th>[0.025</th>  <th>0.975]</th> \n",
       "</tr>\n",
       "<tr>\n",
       "  <th>x1</th> <td>-0.8772</td>  <td>0.1310</td>  <td>-6.6975</td> <td>0.0000</td> <td>-1.1360</td> <td>-0.6183</td>\n",
       "</tr>\n",
       "<tr>\n",
       "  <th>x2</th> <td>0.7343</td>   <td>0.1403</td>  <td>5.2339</td>  <td>0.0000</td> <td>0.4570</td>  <td>1.0116</td> \n",
       "</tr>\n",
       "<tr>\n",
       "  <th>x3</th> <td>1.2091</td>   <td>0.0441</td>  <td>27.4467</td> <td>0.0000</td> <td>1.1221</td>  <td>1.2962</td> \n",
       "</tr>\n",
       "<tr>\n",
       "  <th>x4</th> <td>0.0446</td>   <td>0.0213</td>  <td>2.0882</td>  <td>0.0385</td> <td>0.0024</td>  <td>0.0867</td> \n",
       "</tr>\n",
       "<tr>\n",
       "  <th>x5</th> <td>-0.1967</td>  <td>0.0271</td>  <td>-7.2660</td> <td>0.0000</td> <td>-0.2502</td> <td>-0.1432</td>\n",
       "</tr>\n",
       "<tr>\n",
       "  <th>x6</th> <td>-0.0132</td>  <td>0.0383</td>  <td>-0.3450</td> <td>0.7306</td> <td>-0.0890</td> <td>0.0626</td> \n",
       "</tr>\n",
       "</table>\n",
       "<table class=\"simpletable\">\n",
       "<tr>\n",
       "     <td>Omnibus:</td>    <td>6.720</td>  <td>Durbin-Watson:</td>   <td>2.372</td>\n",
       "</tr>\n",
       "<tr>\n",
       "  <td>Prob(Omnibus):</td> <td>0.035</td> <td>Jarque-Bera (JB):</td> <td>6.095</td>\n",
       "</tr>\n",
       "<tr>\n",
       "       <td>Skew:</td>     <td>0.424</td>     <td>Prob(JB):</td>     <td>0.047</td>\n",
       "</tr>\n",
       "<tr>\n",
       "     <td>Kurtosis:</td>   <td>2.494</td>  <td>Condition No.:</td>    <td>28</td>  \n",
       "</tr>\n",
       "</table>"
      ],
      "text/plain": [
       "<class 'statsmodels.iolib.summary2.Summary'>\n",
       "\"\"\"\n",
       "                        Results: Ordinary least squares\n",
       "===============================================================================\n",
       "Model:                  OLS              Adj. R-squared (uncentered): 0.971    \n",
       "Dependent Variable:     y                AIC:                         -98.2443 \n",
       "Date:                   2022-08-17 21:24 BIC:                         -80.1804 \n",
       "No. Observations:       150              Log-Likelihood:              55.122   \n",
       "Df Model:               6                F-statistic:                 830.8    \n",
       "Df Residuals:           144              Prob (F-statistic):          4.87e-109\n",
       "R-squared (uncentered): 0.972            Scale:                       0.029246 \n",
       "------------------------------------------------------------------------------------\n",
       "             Coef.       Std.Err.         t         P>|t|        [0.025       0.975]\n",
       "------------------------------------------------------------------------------------\n",
       "x1          -0.8772        0.1310      -6.6975      0.0000      -1.1360      -0.6183\n",
       "x2           0.7343        0.1403       5.2339      0.0000       0.4570       1.0116\n",
       "x3           1.2091        0.0441      27.4467      0.0000       1.1221       1.2962\n",
       "x4           0.0446        0.0213       2.0882      0.0385       0.0024       0.0867\n",
       "x5          -0.1967        0.0271      -7.2660      0.0000      -0.2502      -0.1432\n",
       "x6          -0.0132        0.0383      -0.3450      0.7306      -0.0890       0.0626\n",
       "-------------------------------------------------------------------------------\n",
       "Omnibus:                    6.720            Durbin-Watson:               2.372\n",
       "Prob(Omnibus):              0.035            Jarque-Bera (JB):            6.095\n",
       "Skew:                       0.424            Prob(JB):                    0.047\n",
       "Kurtosis:                   2.494            Condition No.:               28   \n",
       "===============================================================================\n",
       "\n",
       "\"\"\""
      ]
     },
     "execution_count": 32,
     "metadata": {},
     "output_type": "execute_result"
    }
   ],
   "source": [
    "model = sm.OLS(y_train_stats,x_train.values)\n",
    "results = model.fit()\n",
    "results.summary2()"
   ]
  },
  {
   "cell_type": "code",
   "execution_count": 33,
   "metadata": {},
   "outputs": [
    {
     "data": {
      "image/png": "[encoded data removed]",
      "text/plain": [
       "<Figure size 720x360 with 1 Axes>"
      ]
     },
     "metadata": {
      "needs_background": "light"
     },
     "output_type": "display_data"
    }
   ],
   "source": [
    "Predicting.cross_val_regression(LinearRegression(),x_train,y_train,x_test,y_test)"
   ]
  },
  {
   "cell_type": "markdown",
   "metadata": {},
   "source": [
    "# CONCLUSIÓN\n",
    "<mark>CAMBIAR LAS CONCLUSIONES</mark>"
   ]
  },
  {
   "cell_type": "markdown",
   "metadata": {},
   "source": [
    "Dada la excelente bondad en el ajuste y por tanto, a la capacidad explicativa de las fluctuaciones en la eficiencia mediante el modelo de 6 variables elaborado con aquellas que  tienen mayor correlación con ella, así como los buenos datos de error absoluto medio y error cuadrático medio respecto a los modelos anteriores, hemos decidido que estas serán las variables que conformarán nuestro modelo de regresión. Esto viene motivado por lo siguiente:\n",
    "\n",
    "1. Tiene mejor r2 que el modelo de 6 variables seleccionado mediante el vif (0.967>0.817), tiene mejor r2 que el modelo de 5 variables seleccionado mediante rfecv (0.967>0.9498) y muy cercano al de 11 variables (0.967<0.968)\n",
    "\n",
    "2. el AIC y el BIC, que nos muestra una medida entre la complejidad de nuestro modelo y la calidad de ajuste del modelo, o la capacidad que tiene de expicar los datos, nos indica que nuestro modelo de 6 variables tiene unos datos que son mucho mejores que el modelo de 6 variables seleccionado mediante vif; también mejores, siendo una bajada significativa, pero no tan grande como en el modelo de 6 variables vif, en el modelo de 5 variables seleccionadas con rfecv y con un aumento respecto a los modelos de 11 y 9 variables que es asumible dada la gran reducción de complejidad que supone el modelo respecto a estos. Por tanto vemos que esta reducción en la complejidad del modelo, con el ánimo de que pueda generalizar bien para otros datos, que no sean los del estudio, compensa de manera suficiente la posible pérdida en representación explicativa de nuestro datos concretos de estudio.  \n",
    "\n",
    "3. Los valores de mae, mse y rmse son muy parecidos al modelo de 11 variables y mejores que los de 5 variables y 6 variables seleccionadas mediante vif."
   ]
  },
  {
   "cell_type": "code",
   "execution_count": 34,
   "metadata": {},
   "outputs": [
    {
     "data": {
      "text/plain": [
       "['energy_production',\n",
       " 'energy_consumption',\n",
       " 'co2_emission',\n",
       " 'balance',\n",
       " 'co2_pc',\n",
       " 'energy_type']"
      ]
     },
     "execution_count": 34,
     "metadata": {},
     "output_type": "execute_result"
    }
   ],
   "source": [
    "golden_variables = [col for col in eleccion_corr.index if col != \"eficiency\"]\n",
    "golden_variables"
   ]
  },
  {
   "cell_type": "code",
   "execution_count": 35,
   "metadata": {},
   "outputs": [
    {
     "data": {
      "text/html": [
       "<div>\n",
       "<style scoped>\n",
       "    .dataframe tbody tr th:only-of-type {\n",
       "        vertical-align: middle;\n",
       "    }\n",
       "\n",
       "    .dataframe tbody tr th {\n",
       "        vertical-align: top;\n",
       "    }\n",
       "\n",
       "    .dataframe thead th {\n",
       "        text-align: right;\n",
       "    }\n",
       "</style>\n",
       "<table border=\"1\" class=\"dataframe\">\n",
       "  <thead>\n",
       "    <tr style=\"text-align: right;\">\n",
       "      <th></th>\n",
       "      <th>year</th>\n",
       "      <th>country</th>\n",
       "      <th>energy_production</th>\n",
       "      <th>energy_consumption</th>\n",
       "      <th>co2_emission</th>\n",
       "      <th>balance</th>\n",
       "      <th>eficiency</th>\n",
       "      <th>co2_pc</th>\n",
       "      <th>energy_type</th>\n",
       "    </tr>\n",
       "  </thead>\n",
       "  <tbody>\n",
       "    <tr>\n",
       "      <th>0</th>\n",
       "      <td>1980-01-01</td>\n",
       "      <td>Venezuela</td>\n",
       "      <td>0.150</td>\n",
       "      <td>0.155</td>\n",
       "      <td>0.0</td>\n",
       "      <td>-0.005</td>\n",
       "      <td>0.0</td>\n",
       "      <td>0.0</td>\n",
       "      <td>0</td>\n",
       "    </tr>\n",
       "    <tr>\n",
       "      <th>1</th>\n",
       "      <td>1980-01-01</td>\n",
       "      <td>Venezuela</td>\n",
       "      <td>5.000</td>\n",
       "      <td>0.812</td>\n",
       "      <td>0.0</td>\n",
       "      <td>4.188</td>\n",
       "      <td>0.0</td>\n",
       "      <td>0.0</td>\n",
       "      <td>3</td>\n",
       "    </tr>\n",
       "    <tr>\n",
       "      <th>2</th>\n",
       "      <td>1980-01-01</td>\n",
       "      <td>Venezuela</td>\n",
       "      <td>0.616</td>\n",
       "      <td>0.616</td>\n",
       "      <td>0.0</td>\n",
       "      <td>0.000</td>\n",
       "      <td>0.0</td>\n",
       "      <td>0.0</td>\n",
       "      <td>2</td>\n",
       "    </tr>\n",
       "    <tr>\n",
       "      <th>3</th>\n",
       "      <td>1980-01-01</td>\n",
       "      <td>Venezuela</td>\n",
       "      <td>0.001</td>\n",
       "      <td>0.002</td>\n",
       "      <td>0.0</td>\n",
       "      <td>-0.000</td>\n",
       "      <td>0.0</td>\n",
       "      <td>0.0</td>\n",
       "      <td>4</td>\n",
       "    </tr>\n",
       "    <tr>\n",
       "      <th>4</th>\n",
       "      <td>1981-01-01</td>\n",
       "      <td>Venezuela</td>\n",
       "      <td>0.156</td>\n",
       "      <td>0.161</td>\n",
       "      <td>0.0</td>\n",
       "      <td>-0.005</td>\n",
       "      <td>0.0</td>\n",
       "      <td>0.0</td>\n",
       "      <td>0</td>\n",
       "    </tr>\n",
       "  </tbody>\n",
       "</table>\n",
       "</div>"
      ],
      "text/plain": [
       "         year    country  energy_production  energy_consumption  co2_emission  \\\n",
       "0  1980-01-01  Venezuela              0.150               0.155           0.0   \n",
       "1  1980-01-01  Venezuela              5.000               0.812           0.0   \n",
       "2  1980-01-01  Venezuela              0.616               0.616           0.0   \n",
       "3  1980-01-01  Venezuela              0.001               0.002           0.0   \n",
       "4  1981-01-01  Venezuela              0.156               0.161           0.0   \n",
       "\n",
       "   balance  eficiency  co2_pc  energy_type  \n",
       "0   -0.005        0.0     0.0            0  \n",
       "1    4.188        0.0     0.0            3  \n",
       "2    0.000        0.0     0.0            2  \n",
       "3   -0.000        0.0     0.0            4  \n",
       "4   -0.005        0.0     0.0            0  "
      ]
     },
     "execution_count": 35,
     "metadata": {},
     "output_type": "execute_result"
    }
   ],
   "source": [
    "df_preselec = df_2[eleccion_corr.index]\n",
    "df_selec = df_2[[\"year\",\"country\"]]\n",
    "df_selec_final = pd.merge(df_selec,df_preselec,left_index=True,right_index=True)\n",
    "df_selec_final.head()"
   ]
  },
  {
   "cell_type": "code",
   "execution_count": 38,
   "metadata": {},
   "outputs": [],
   "source": [
    "name = \"df_goldenvars_noscaled.csv\"\n",
    "path = \"C:/Users/ferna/OneDrive/Documentos/MIS_COSAS_DE_THE_BRIDGE/Proyectos_Machine_Learning/co2_ml/src/data/processed/\"\n",
    "df_selec_final.to_csv(path + name,header=True,index=False)"
   ]
  }
 ],
 "metadata": {
  "kernelspec": {
   "display_name": "Python 3.9.5 ('the_bridge_22')",
   "language": "python",
   "name": "python3"
  },
  "language_info": {
   "codemirror_mode": {
    "name": "ipython",
    "version": 3
   },
   "file_extension": ".py",
   "mimetype": "text/x-python",
   "name": "python",
   "nbconvert_exporter": "python",
   "pygments_lexer": "ipython3",
   "version": "3.9.5"
  },
  "orig_nbformat": 4,
  "vscode": {
   "interpreter": {
    "hash": "c25d2c42b99cfc164aac179b87143637b7d9aa65bcc5ba2e1ec140a8c6030a61"
   }
  }
 },
 "nbformat": 4,
 "nbformat_minor": 2
}
